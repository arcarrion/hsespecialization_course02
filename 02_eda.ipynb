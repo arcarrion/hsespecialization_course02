{
  "nbformat": 4,
  "nbformat_minor": 0,
  "metadata": {
    "colab": {
      "name": "Untitled0.ipynb",
      "provenance": [],
      "authorship_tag": "ABX9TyPRiGGbHaQYl8pcqFLrVaQl",
      "include_colab_link": true
    },
    "kernelspec": {
      "name": "python3",
      "display_name": "Python 3"
    }
  },
  "cells": [
    {
      "cell_type": "markdown",
      "metadata": {
        "id": "view-in-github",
        "colab_type": "text"
      },
      "source": [
        "<a href=\"https://colab.research.google.com/github/arcarrion/hsespecialization_course02/blob/master/02_eda.ipynb\" target=\"_parent\"><img src=\"https://colab.research.google.com/assets/colab-badge.svg\" alt=\"Open In Colab\"/></a>"
      ]
    },
    {
      "cell_type": "code",
      "metadata": {
        "id": "dcRntD67WY9e",
        "colab_type": "code",
        "colab": {
          "resources": {
            "http://localhost:8080/nbextensions/google.colab/files.js": {
              "data": "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",
              "ok": true,
              "headers": [
                [
                  "content-type",
                  "application/javascript"
                ]
              ],
              "status": 200,
              "status_text": ""
            }
          },
          "base_uri": "https://localhost:8080/",
          "height": 463
        },
        "outputId": "8267b96a-7d44-4714-de39-35efa0b055b9"
      },
      "source": [
        "! pip install -q kaggle\n",
        "from google.colab import files\n",
        "files.upload()\n",
        "! mkdir ~/.kaggle\n",
        "! cp kaggle.json ~/.kaggle/\n",
        "! chmod 600 ~/.kaggle/kaggle.json\n",
        "! kaggle datasets list"
      ],
      "execution_count": 1,
      "outputs": [
        {
          "output_type": "display_data",
          "data": {
            "text/html": [
              "\n",
              "     <input type=\"file\" id=\"files-805b6fec-e285-4eb5-8d70-75eaf14f9694\" name=\"files[]\" multiple disabled\n",
              "        style=\"border:none\" />\n",
              "     <output id=\"result-805b6fec-e285-4eb5-8d70-75eaf14f9694\">\n",
              "      Upload widget is only available when the cell has been executed in the\n",
              "      current browser session. Please rerun this cell to enable.\n",
              "      </output>\n",
              "      <script src=\"/nbextensions/google.colab/files.js\"></script> "
            ],
            "text/plain": [
              "<IPython.core.display.HTML object>"
            ]
          },
          "metadata": {
            "tags": []
          }
        },
        {
          "output_type": "stream",
          "text": [
            "Saving kaggle.json to kaggle.json\n",
            "Warning: Looks like you're using an outdated API Version, please consider updating (server 1.5.6 / client 1.5.4)\n",
            "ref                                                    title                                              size  lastUpdated          downloadCount  \n",
            "-----------------------------------------------------  ------------------------------------------------  -----  -------------------  -------------  \n",
            "shivan118/healthcare-analytics                         AV : Healthcare Analytics                           2MB  2020-09-13 17:40:05           2247  \n",
            "datatattle/covid-19-nlp-text-classification            Coronavirus tweets NLP - Text Classification        4MB  2020-09-08 11:40:11           1567  \n",
            "anmolkumar/health-insurance-cross-sell-prediction      Health Insurance Cross Sell Prediction 🏠 🏥          6MB  2020-09-11 18:39:31           2741  \n",
            "Cornell-University/arxiv                               arXiv Dataset                                     889MB  2020-09-26 23:51:17           3167  \n",
            "nipunarora8/age-gender-and-ethnicity-face-data-csv     AGE, GENDER AND ETHNICITY (FACE DATA) CSV          63MB  2020-09-02 13:46:38           1137  \n",
            "yoannboyere/co2-ghg-emissionsdata                      CO2_GHG_emissions-data                            147KB  2020-09-14 09:59:25           1078  \n",
            "ramjidoolla/ipl-data-set                               IPL _Data_Set                                       1MB  2020-09-14 10:57:42           2052  \n",
            "anikannal/solar-power-generation-data                  Solar Power Generation Data                         2MB  2020-08-18 15:52:03           4870  \n",
            "nehaprabhavalkar/av-healthcare-analytics-ii            AV : Healthcare Analytics II                        7MB  2020-08-29 03:40:10           2253  \n",
            "tunguz/us-elections-dataset                            US Elections Dataset                               16MB  2020-09-22 20:27:55           3053  \n",
            "imoore/60k-stack-overflow-questions-with-quality-rate  60k Stack Overflow Questions with Quality Rating   21MB  2020-09-25 15:57:26           1321  \n",
            "jmmvutu/summer-products-and-sales-in-ecommerce-wish    Sales of summer clothes in E-commerce Wish        376KB  2020-08-23 15:16:46           7046  \n",
            "ruchi798/bookcrossing-dataset                          Book-Crossing: User review ratings                 25MB  2020-08-11 10:40:25           1330  \n",
            "google/tinyquickdraw                                   QuickDraw Sketches                                 11GB  2018-04-18 19:38:04           2329  \n",
            "agirlcoding/all-space-missions-from-1957               All Space Missions from 1957                      101KB  2020-08-13 16:18:58           3749  \n",
            "ihelon/lego-minifigures-classification                 LEGO Minifigures                                   19MB  2020-09-22 07:33:22           1293  \n",
            "datasnaek/youtube-new                                  Trending YouTube Video Statistics                 201MB  2019-06-03 00:56:47         106415  \n",
            "zynicide/wine-reviews                                  Wine Reviews                                       51MB  2017-11-27 17:08:04         113534  \n",
            "residentmario/ramen-ratings                            Ramen Ratings                                      40KB  2018-01-11 16:04:39          14137  \n",
            "datasnaek/chess                                        Chess Game Dataset (Lichess)                        3MB  2017-09-04 03:09:09           9224  \n"
          ],
          "name": "stdout"
        }
      ]
    },
    {
      "cell_type": "code",
      "metadata": {
        "id": "4JuA5T8JJQF3",
        "colab_type": "code",
        "colab": {}
      },
      "source": [
        "#! kaggle competitions download -h\n",
        "#! unzip -h"
      ],
      "execution_count": 2,
      "outputs": []
    },
    {
      "cell_type": "code",
      "metadata": {
        "id": "bEM12aIbWewp",
        "colab_type": "code",
        "colab": {
          "base_uri": "https://localhost:8080/",
          "height": 561
        },
        "outputId": "aea5dc37-6d23-412b-e919-cbc23d219cac"
      },
      "source": [
        "! mkdir rawdata\n",
        "! kaggle competitions download -c competitive-data-science-predict-future-sales -p rawdata\n",
        "! unzip 'rawdata/*.zip' -d rawdata\n",
        "! rm rawdata/*.zip"
      ],
      "execution_count": 3,
      "outputs": [
        {
          "output_type": "stream",
          "text": [
            "Warning: Looks like you're using an outdated API Version, please consider updating (server 1.5.6 / client 1.5.4)\n",
            "Downloading sample_submission.csv.zip to rawdata\n",
            "  0% 0.00/468k [00:00<?, ?B/s]\n",
            "100% 468k/468k [00:00<00:00, 63.9MB/s]\n",
            "Downloading sales_train.csv.zip to rawdata\n",
            " 38% 5.00M/13.3M [00:00<00:00, 9.90MB/s]\n",
            "100% 13.3M/13.3M [00:00<00:00, 24.6MB/s]\n",
            "Downloading test.csv.zip to rawdata\n",
            "  0% 0.00/1.02M [00:00<?, ?B/s]\n",
            "100% 1.02M/1.02M [00:00<00:00, 143MB/s]\n",
            "Downloading items.csv.zip to rawdata\n",
            "  0% 0.00/368k [00:00<?, ?B/s]\n",
            "100% 368k/368k [00:00<00:00, 120MB/s]\n",
            "Downloading item_categories.csv to rawdata\n",
            "  0% 0.00/3.49k [00:00<?, ?B/s]\n",
            "100% 3.49k/3.49k [00:00<00:00, 2.16MB/s]\n",
            "Downloading shops.csv to rawdata\n",
            "  0% 0.00/2.91k [00:00<?, ?B/s]\n",
            "100% 2.91k/2.91k [00:00<00:00, 2.88MB/s]\n",
            "Archive:  rawdata/sales_train.csv.zip\n",
            "  inflating: rawdata/sales_train.csv  \n",
            "\n",
            "Archive:  rawdata/sample_submission.csv.zip\n",
            "  inflating: rawdata/sample_submission.csv  \n",
            "\n",
            "Archive:  rawdata/test.csv.zip\n",
            "  inflating: rawdata/test.csv        \n",
            "\n",
            "Archive:  rawdata/items.csv.zip\n",
            "  inflating: rawdata/items.csv       \n",
            "\n",
            "4 archives were successfully processed.\n"
          ],
          "name": "stdout"
        }
      ]
    },
    {
      "cell_type": "code",
      "metadata": {
        "id": "9gEAaYvtXKrv",
        "colab_type": "code",
        "colab": {
          "base_uri": "https://localhost:8080/",
          "height": 1000
        },
        "outputId": "4c3038e4-219d-4451-fabd-09c6a60ddfc9"
      },
      "source": [
        "print('################################################################# Item categories')\n",
        "! head rawdata/item_categories.csv\n",
        "print('################################################################# items')\n",
        "! head rawdata/items.csv\n",
        "print('################################################################# sales train')\n",
        "! head rawdata/sales_train.csv\n",
        "print('################################################################# shops')\n",
        "! head rawdata/shops.csv\n",
        "print('\\n\\n################################################################# test')\n",
        "! head rawdata/test.csv\n",
        "print('################################################################# sample submission')\n",
        "! head rawdata/sample_submission.csv"
      ],
      "execution_count": 4,
      "outputs": [
        {
          "output_type": "stream",
          "text": [
            "################################################################# Item categories\n",
            "item_category_name,item_category_id\n",
            "PC - Гарнитуры/Наушники,0\n",
            "Аксессуары - PS2,1\n",
            "Аксессуары - PS3,2\n",
            "Аксессуары - PS4,3\n",
            "Аксессуары - PSP,4\n",
            "Аксессуары - PSVita,5\n",
            "Аксессуары - XBOX 360,6\n",
            "Аксессуары - XBOX ONE,7\n",
            "Билеты (Цифра),8\n",
            "################################################################# items\n",
            "item_name,item_id,item_category_id\n",
            "! ВО ВЛАСТИ НАВАЖДЕНИЯ (ПЛАСТ.)         D,0,40\n",
            "\"!ABBYY FineReader 12 Professional Edition Full [PC, Цифровая версия]\",1,76\n",
            "***В ЛУЧАХ СЛАВЫ   (UNV)                    D,2,40\n",
            "***ГОЛУБАЯ ВОЛНА  (Univ)                      D,3,40\n",
            "***КОРОБКА (СТЕКЛО)                       D,4,40\n",
            "***НОВЫЕ АМЕРИКАНСКИЕ ГРАФФИТИ  (UNI)             D,5,40\n",
            "***УДАР ПО ВОРОТАМ (UNI)               D,6,40\n",
            "***УДАР ПО ВОРОТАМ-2 (UNI)               D,7,40\n",
            "***ЧАЙ С МУССОЛИНИ                     D,8,40\n",
            "################################################################# sales train\n",
            "date,date_block_num,shop_id,item_id,item_price,item_cnt_day\n",
            "02.01.2013,0,59,22154,999.0,1.0\n",
            "03.01.2013,0,25,2552,899.0,1.0\n",
            "05.01.2013,0,25,2552,899.0,-1.0\n",
            "06.01.2013,0,25,2554,1709.05,1.0\n",
            "15.01.2013,0,25,2555,1099.0,1.0\n",
            "10.01.2013,0,25,2564,349.0,1.0\n",
            "02.01.2013,0,25,2565,549.0,1.0\n",
            "04.01.2013,0,25,2572,239.0,1.0\n",
            "11.01.2013,0,25,2572,299.0,1.0\n",
            "################################################################# shops\n",
            "shop_name,shop_id\n",
            "\"!Якутск Орджоникидзе, 56 фран\",0\n",
            "\"!Якутск ТЦ \"\"Центральный\"\" фран\",1\n",
            "\"Адыгея ТЦ \"\"Мега\"\"\",2\n",
            "\"Балашиха ТРК \"\"Октябрь-Киномир\"\"\",3\n",
            "\"Волжский ТЦ \"\"Волга Молл\"\"\",4\n",
            "\"Вологда ТРЦ \"\"Мармелад\"\"\",5\n",
            "\"Воронеж (Плехановская, 13)\",6\n",
            "\"Воронеж ТРЦ \"\"Максимир\"\"\",7\n",
            "\"Воронеж ТРЦ Сити-Парк \"\"Град\"\"\",8\n",
            "\n",
            "\n",
            "################################################################# test\n",
            "ID,shop_id,item_id\n",
            "0,5,5037\n",
            "1,5,5320\n",
            "2,5,5233\n",
            "3,5,5232\n",
            "4,5,5268\n",
            "5,5,5039\n",
            "6,5,5041\n",
            "7,5,5046\n",
            "8,5,5319\n",
            "################################################################# sample submission\n",
            "ID,item_cnt_month\n",
            "0,0.5\n",
            "1,0.5\n",
            "2,0.5\n",
            "3,0.5\n",
            "4,0.5\n",
            "5,0.5\n",
            "6,0.5\n",
            "7,0.5\n",
            "8,0.5\n"
          ],
          "name": "stdout"
        }
      ]
    },
    {
      "cell_type": "code",
      "metadata": {
        "id": "vNAJxjS3pmJD",
        "colab_type": "code",
        "colab": {}
      },
      "source": [
        "import numpy as np\n",
        "import pandas as pd\n",
        "import matplotlib.pyplot as plt\n"
      ],
      "execution_count": 5,
      "outputs": []
    },
    {
      "cell_type": "code",
      "metadata": {
        "id": "sD9R7pAM2DeD",
        "colab_type": "code",
        "colab": {}
      },
      "source": [
        "def submit_solution(solution_data, message):\n",
        "  test_data = pd.read_csv('rawdata/test.csv')\n",
        "  median_sales_test = pd.merge(test_data, solution_data, how='left', on=['shop_id', 'item_id'])\n",
        "  display(median_sales_test)\n",
        "  median_sales_test.loc[pd.isnull(median_sales_test.item_cnt_day), 'item_cnt_day'] = 0\n",
        "  sample_submission = median_sales_test.loc[:, ['ID','item_cnt_day']]\n",
        "  sample_submission.columns = ['ID', 'item_cnt_month']\n",
        "  display(sample_submission)\n",
        "  sample_submission.to_csv('submission_tmp.csv', header=True, index=False)\n",
        "  ! kaggle competitions submit -c competitive-data-science-predict-future-sales -f submission_tmp.csv -m '$message'\n",
        "  ! rm submission_tmp.csv"
      ],
      "execution_count": 6,
      "outputs": []
    },
    {
      "cell_type": "code",
      "metadata": {
        "id": "R5WQdQCGpb3f",
        "colab_type": "code",
        "colab": {}
      },
      "source": [
        "sales_rawdata = pd.read_csv('rawdata/sales_train.csv')\n"
      ],
      "execution_count": 7,
      "outputs": []
    },
    {
      "cell_type": "code",
      "metadata": {
        "id": "7TrFM4ASp4NQ",
        "colab_type": "code",
        "colab": {
          "base_uri": "https://localhost:8080/",
          "height": 238
        },
        "outputId": "e90d56bf-900b-4b56-b89b-be6162ceb6e3"
      },
      "source": [
        "print(sales_rawdata.head())\n",
        "print(sales_rawdata.dtypes)"
      ],
      "execution_count": 8,
      "outputs": [
        {
          "output_type": "stream",
          "text": [
            "         date  date_block_num  shop_id  item_id  item_price  item_cnt_day\n",
            "0  02.01.2013               0       59    22154      999.00           1.0\n",
            "1  03.01.2013               0       25     2552      899.00           1.0\n",
            "2  05.01.2013               0       25     2552      899.00          -1.0\n",
            "3  06.01.2013               0       25     2554     1709.05           1.0\n",
            "4  15.01.2013               0       25     2555     1099.00           1.0\n",
            "date               object\n",
            "date_block_num      int64\n",
            "shop_id             int64\n",
            "item_id             int64\n",
            "item_price        float64\n",
            "item_cnt_day      float64\n",
            "dtype: object\n"
          ],
          "name": "stdout"
        }
      ]
    },
    {
      "cell_type": "code",
      "metadata": {
        "id": "iofUXAUCrCt1",
        "colab_type": "code",
        "colab": {}
      },
      "source": [
        "sales_noreturns = sales_rawdata\n",
        "#.loc[sales_rawdata.item_cnt_day>=0, :]"
      ],
      "execution_count": 9,
      "outputs": []
    },
    {
      "cell_type": "code",
      "metadata": {
        "id": "cxLirwtCuKb9",
        "colab_type": "code",
        "colab": {
          "base_uri": "https://localhost:8080/",
          "height": 419
        },
        "outputId": "6845ddc5-3703-4c48-d069-17271d785773"
      },
      "source": [
        "sales_noreturns_grouped = sales_noreturns.groupby(['date_block_num','shop_id','item_id']).aggregate({'item_cnt_day':sum}).reset_index()\n",
        "display(sales_noreturns_grouped)"
      ],
      "execution_count": 10,
      "outputs": [
        {
          "output_type": "display_data",
          "data": {
            "text/html": [
              "<div>\n",
              "<style scoped>\n",
              "    .dataframe tbody tr th:only-of-type {\n",
              "        vertical-align: middle;\n",
              "    }\n",
              "\n",
              "    .dataframe tbody tr th {\n",
              "        vertical-align: top;\n",
              "    }\n",
              "\n",
              "    .dataframe thead th {\n",
              "        text-align: right;\n",
              "    }\n",
              "</style>\n",
              "<table border=\"1\" class=\"dataframe\">\n",
              "  <thead>\n",
              "    <tr style=\"text-align: right;\">\n",
              "      <th></th>\n",
              "      <th>date_block_num</th>\n",
              "      <th>shop_id</th>\n",
              "      <th>item_id</th>\n",
              "      <th>item_cnt_day</th>\n",
              "    </tr>\n",
              "  </thead>\n",
              "  <tbody>\n",
              "    <tr>\n",
              "      <th>0</th>\n",
              "      <td>0</td>\n",
              "      <td>0</td>\n",
              "      <td>32</td>\n",
              "      <td>6.0</td>\n",
              "    </tr>\n",
              "    <tr>\n",
              "      <th>1</th>\n",
              "      <td>0</td>\n",
              "      <td>0</td>\n",
              "      <td>33</td>\n",
              "      <td>3.0</td>\n",
              "    </tr>\n",
              "    <tr>\n",
              "      <th>2</th>\n",
              "      <td>0</td>\n",
              "      <td>0</td>\n",
              "      <td>35</td>\n",
              "      <td>1.0</td>\n",
              "    </tr>\n",
              "    <tr>\n",
              "      <th>3</th>\n",
              "      <td>0</td>\n",
              "      <td>0</td>\n",
              "      <td>43</td>\n",
              "      <td>1.0</td>\n",
              "    </tr>\n",
              "    <tr>\n",
              "      <th>4</th>\n",
              "      <td>0</td>\n",
              "      <td>0</td>\n",
              "      <td>51</td>\n",
              "      <td>2.0</td>\n",
              "    </tr>\n",
              "    <tr>\n",
              "      <th>...</th>\n",
              "      <td>...</td>\n",
              "      <td>...</td>\n",
              "      <td>...</td>\n",
              "      <td>...</td>\n",
              "    </tr>\n",
              "    <tr>\n",
              "      <th>1609119</th>\n",
              "      <td>33</td>\n",
              "      <td>59</td>\n",
              "      <td>22087</td>\n",
              "      <td>6.0</td>\n",
              "    </tr>\n",
              "    <tr>\n",
              "      <th>1609120</th>\n",
              "      <td>33</td>\n",
              "      <td>59</td>\n",
              "      <td>22088</td>\n",
              "      <td>2.0</td>\n",
              "    </tr>\n",
              "    <tr>\n",
              "      <th>1609121</th>\n",
              "      <td>33</td>\n",
              "      <td>59</td>\n",
              "      <td>22091</td>\n",
              "      <td>1.0</td>\n",
              "    </tr>\n",
              "    <tr>\n",
              "      <th>1609122</th>\n",
              "      <td>33</td>\n",
              "      <td>59</td>\n",
              "      <td>22100</td>\n",
              "      <td>1.0</td>\n",
              "    </tr>\n",
              "    <tr>\n",
              "      <th>1609123</th>\n",
              "      <td>33</td>\n",
              "      <td>59</td>\n",
              "      <td>22102</td>\n",
              "      <td>1.0</td>\n",
              "    </tr>\n",
              "  </tbody>\n",
              "</table>\n",
              "<p>1609124 rows × 4 columns</p>\n",
              "</div>"
            ],
            "text/plain": [
              "         date_block_num  shop_id  item_id  item_cnt_day\n",
              "0                     0        0       32           6.0\n",
              "1                     0        0       33           3.0\n",
              "2                     0        0       35           1.0\n",
              "3                     0        0       43           1.0\n",
              "4                     0        0       51           2.0\n",
              "...                 ...      ...      ...           ...\n",
              "1609119              33       59    22087           6.0\n",
              "1609120              33       59    22088           2.0\n",
              "1609121              33       59    22091           1.0\n",
              "1609122              33       59    22100           1.0\n",
              "1609123              33       59    22102           1.0\n",
              "\n",
              "[1609124 rows x 4 columns]"
            ]
          },
          "metadata": {
            "tags": []
          }
        }
      ]
    },
    {
      "cell_type": "code",
      "metadata": {
        "id": "3ZGty6pgu6EE",
        "colab_type": "code",
        "colab": {
          "base_uri": "https://localhost:8080/",
          "height": 1000
        },
        "outputId": "57b54ff7-e628-455f-ef40-d55857cc3df5"
      },
      "source": [
        "# Baseline score: median sales, rounded down\n",
        "sales_noreturns_grouped_last_6_months = sales_noreturns_grouped.loc[sales_noreturns_grouped.date_block_num>=(34-9), :]\n",
        "median_sales = sales_noreturns_grouped_last_6_months.groupby(['shop_id','item_id']).aggregate({'item_cnt_day':'median'}).reset_index()\n",
        "display(median_sales)\n",
        "median_sales.item_cnt_day = np.floor(median_sales.item_cnt_day)\n",
        "display(median_sales)\n",
        "#median_sales = sales_noreturns_grouped.loc[sales_noreturns_grouped.date_block_num==(34-12), :]\n",
        "#display(median_sales)\n",
        "submit_solution(median_sales, 'Median last 9 months')"
      ],
      "execution_count": 13,
      "outputs": [
        {
          "output_type": "display_data",
          "data": {
            "text/html": [
              "<div>\n",
              "<style scoped>\n",
              "    .dataframe tbody tr th:only-of-type {\n",
              "        vertical-align: middle;\n",
              "    }\n",
              "\n",
              "    .dataframe tbody tr th {\n",
              "        vertical-align: top;\n",
              "    }\n",
              "\n",
              "    .dataframe thead th {\n",
              "        text-align: right;\n",
              "    }\n",
              "</style>\n",
              "<table border=\"1\" class=\"dataframe\">\n",
              "  <thead>\n",
              "    <tr style=\"text-align: right;\">\n",
              "      <th></th>\n",
              "      <th>shop_id</th>\n",
              "      <th>item_id</th>\n",
              "      <th>item_cnt_day</th>\n",
              "    </tr>\n",
              "  </thead>\n",
              "  <tbody>\n",
              "    <tr>\n",
              "      <th>0</th>\n",
              "      <td>2</td>\n",
              "      <td>31</td>\n",
              "      <td>1.0</td>\n",
              "    </tr>\n",
              "    <tr>\n",
              "      <th>1</th>\n",
              "      <td>2</td>\n",
              "      <td>32</td>\n",
              "      <td>1.0</td>\n",
              "    </tr>\n",
              "    <tr>\n",
              "      <th>2</th>\n",
              "      <td>2</td>\n",
              "      <td>33</td>\n",
              "      <td>1.0</td>\n",
              "    </tr>\n",
              "    <tr>\n",
              "      <th>3</th>\n",
              "      <td>2</td>\n",
              "      <td>53</td>\n",
              "      <td>1.0</td>\n",
              "    </tr>\n",
              "    <tr>\n",
              "      <th>4</th>\n",
              "      <td>2</td>\n",
              "      <td>59</td>\n",
              "      <td>1.0</td>\n",
              "    </tr>\n",
              "    <tr>\n",
              "      <th>...</th>\n",
              "      <td>...</td>\n",
              "      <td>...</td>\n",
              "      <td>...</td>\n",
              "    </tr>\n",
              "    <tr>\n",
              "      <th>130925</th>\n",
              "      <td>59</td>\n",
              "      <td>22114</td>\n",
              "      <td>1.0</td>\n",
              "    </tr>\n",
              "    <tr>\n",
              "      <th>130926</th>\n",
              "      <td>59</td>\n",
              "      <td>22118</td>\n",
              "      <td>1.0</td>\n",
              "    </tr>\n",
              "    <tr>\n",
              "      <th>130927</th>\n",
              "      <td>59</td>\n",
              "      <td>22139</td>\n",
              "      <td>1.0</td>\n",
              "    </tr>\n",
              "    <tr>\n",
              "      <th>130928</th>\n",
              "      <td>59</td>\n",
              "      <td>22162</td>\n",
              "      <td>1.0</td>\n",
              "    </tr>\n",
              "    <tr>\n",
              "      <th>130929</th>\n",
              "      <td>59</td>\n",
              "      <td>22164</td>\n",
              "      <td>1.5</td>\n",
              "    </tr>\n",
              "  </tbody>\n",
              "</table>\n",
              "<p>130930 rows × 3 columns</p>\n",
              "</div>"
            ],
            "text/plain": [
              "        shop_id  item_id  item_cnt_day\n",
              "0             2       31           1.0\n",
              "1             2       32           1.0\n",
              "2             2       33           1.0\n",
              "3             2       53           1.0\n",
              "4             2       59           1.0\n",
              "...         ...      ...           ...\n",
              "130925       59    22114           1.0\n",
              "130926       59    22118           1.0\n",
              "130927       59    22139           1.0\n",
              "130928       59    22162           1.0\n",
              "130929       59    22164           1.5\n",
              "\n",
              "[130930 rows x 3 columns]"
            ]
          },
          "metadata": {
            "tags": []
          }
        },
        {
          "output_type": "display_data",
          "data": {
            "text/html": [
              "<div>\n",
              "<style scoped>\n",
              "    .dataframe tbody tr th:only-of-type {\n",
              "        vertical-align: middle;\n",
              "    }\n",
              "\n",
              "    .dataframe tbody tr th {\n",
              "        vertical-align: top;\n",
              "    }\n",
              "\n",
              "    .dataframe thead th {\n",
              "        text-align: right;\n",
              "    }\n",
              "</style>\n",
              "<table border=\"1\" class=\"dataframe\">\n",
              "  <thead>\n",
              "    <tr style=\"text-align: right;\">\n",
              "      <th></th>\n",
              "      <th>shop_id</th>\n",
              "      <th>item_id</th>\n",
              "      <th>item_cnt_day</th>\n",
              "    </tr>\n",
              "  </thead>\n",
              "  <tbody>\n",
              "    <tr>\n",
              "      <th>0</th>\n",
              "      <td>2</td>\n",
              "      <td>31</td>\n",
              "      <td>1.0</td>\n",
              "    </tr>\n",
              "    <tr>\n",
              "      <th>1</th>\n",
              "      <td>2</td>\n",
              "      <td>32</td>\n",
              "      <td>1.0</td>\n",
              "    </tr>\n",
              "    <tr>\n",
              "      <th>2</th>\n",
              "      <td>2</td>\n",
              "      <td>33</td>\n",
              "      <td>1.0</td>\n",
              "    </tr>\n",
              "    <tr>\n",
              "      <th>3</th>\n",
              "      <td>2</td>\n",
              "      <td>53</td>\n",
              "      <td>1.0</td>\n",
              "    </tr>\n",
              "    <tr>\n",
              "      <th>4</th>\n",
              "      <td>2</td>\n",
              "      <td>59</td>\n",
              "      <td>1.0</td>\n",
              "    </tr>\n",
              "    <tr>\n",
              "      <th>...</th>\n",
              "      <td>...</td>\n",
              "      <td>...</td>\n",
              "      <td>...</td>\n",
              "    </tr>\n",
              "    <tr>\n",
              "      <th>130925</th>\n",
              "      <td>59</td>\n",
              "      <td>22114</td>\n",
              "      <td>1.0</td>\n",
              "    </tr>\n",
              "    <tr>\n",
              "      <th>130926</th>\n",
              "      <td>59</td>\n",
              "      <td>22118</td>\n",
              "      <td>1.0</td>\n",
              "    </tr>\n",
              "    <tr>\n",
              "      <th>130927</th>\n",
              "      <td>59</td>\n",
              "      <td>22139</td>\n",
              "      <td>1.0</td>\n",
              "    </tr>\n",
              "    <tr>\n",
              "      <th>130928</th>\n",
              "      <td>59</td>\n",
              "      <td>22162</td>\n",
              "      <td>1.0</td>\n",
              "    </tr>\n",
              "    <tr>\n",
              "      <th>130929</th>\n",
              "      <td>59</td>\n",
              "      <td>22164</td>\n",
              "      <td>1.0</td>\n",
              "    </tr>\n",
              "  </tbody>\n",
              "</table>\n",
              "<p>130930 rows × 3 columns</p>\n",
              "</div>"
            ],
            "text/plain": [
              "        shop_id  item_id  item_cnt_day\n",
              "0             2       31           1.0\n",
              "1             2       32           1.0\n",
              "2             2       33           1.0\n",
              "3             2       53           1.0\n",
              "4             2       59           1.0\n",
              "...         ...      ...           ...\n",
              "130925       59    22114           1.0\n",
              "130926       59    22118           1.0\n",
              "130927       59    22139           1.0\n",
              "130928       59    22162           1.0\n",
              "130929       59    22164           1.0\n",
              "\n",
              "[130930 rows x 3 columns]"
            ]
          },
          "metadata": {
            "tags": []
          }
        },
        {
          "output_type": "display_data",
          "data": {
            "text/html": [
              "<div>\n",
              "<style scoped>\n",
              "    .dataframe tbody tr th:only-of-type {\n",
              "        vertical-align: middle;\n",
              "    }\n",
              "\n",
              "    .dataframe tbody tr th {\n",
              "        vertical-align: top;\n",
              "    }\n",
              "\n",
              "    .dataframe thead th {\n",
              "        text-align: right;\n",
              "    }\n",
              "</style>\n",
              "<table border=\"1\" class=\"dataframe\">\n",
              "  <thead>\n",
              "    <tr style=\"text-align: right;\">\n",
              "      <th></th>\n",
              "      <th>ID</th>\n",
              "      <th>shop_id</th>\n",
              "      <th>item_id</th>\n",
              "      <th>item_cnt_day</th>\n",
              "    </tr>\n",
              "  </thead>\n",
              "  <tbody>\n",
              "    <tr>\n",
              "      <th>0</th>\n",
              "      <td>0</td>\n",
              "      <td>5</td>\n",
              "      <td>5037</td>\n",
              "      <td>1.0</td>\n",
              "    </tr>\n",
              "    <tr>\n",
              "      <th>1</th>\n",
              "      <td>1</td>\n",
              "      <td>5</td>\n",
              "      <td>5320</td>\n",
              "      <td>NaN</td>\n",
              "    </tr>\n",
              "    <tr>\n",
              "      <th>2</th>\n",
              "      <td>2</td>\n",
              "      <td>5</td>\n",
              "      <td>5233</td>\n",
              "      <td>2.0</td>\n",
              "    </tr>\n",
              "    <tr>\n",
              "      <th>3</th>\n",
              "      <td>3</td>\n",
              "      <td>5</td>\n",
              "      <td>5232</td>\n",
              "      <td>1.0</td>\n",
              "    </tr>\n",
              "    <tr>\n",
              "      <th>4</th>\n",
              "      <td>4</td>\n",
              "      <td>5</td>\n",
              "      <td>5268</td>\n",
              "      <td>NaN</td>\n",
              "    </tr>\n",
              "    <tr>\n",
              "      <th>...</th>\n",
              "      <td>...</td>\n",
              "      <td>...</td>\n",
              "      <td>...</td>\n",
              "      <td>...</td>\n",
              "    </tr>\n",
              "    <tr>\n",
              "      <th>214195</th>\n",
              "      <td>214195</td>\n",
              "      <td>45</td>\n",
              "      <td>18454</td>\n",
              "      <td>1.0</td>\n",
              "    </tr>\n",
              "    <tr>\n",
              "      <th>214196</th>\n",
              "      <td>214196</td>\n",
              "      <td>45</td>\n",
              "      <td>16188</td>\n",
              "      <td>NaN</td>\n",
              "    </tr>\n",
              "    <tr>\n",
              "      <th>214197</th>\n",
              "      <td>214197</td>\n",
              "      <td>45</td>\n",
              "      <td>15757</td>\n",
              "      <td>1.0</td>\n",
              "    </tr>\n",
              "    <tr>\n",
              "      <th>214198</th>\n",
              "      <td>214198</td>\n",
              "      <td>45</td>\n",
              "      <td>19648</td>\n",
              "      <td>NaN</td>\n",
              "    </tr>\n",
              "    <tr>\n",
              "      <th>214199</th>\n",
              "      <td>214199</td>\n",
              "      <td>45</td>\n",
              "      <td>969</td>\n",
              "      <td>NaN</td>\n",
              "    </tr>\n",
              "  </tbody>\n",
              "</table>\n",
              "<p>214200 rows × 4 columns</p>\n",
              "</div>"
            ],
            "text/plain": [
              "            ID  shop_id  item_id  item_cnt_day\n",
              "0            0        5     5037           1.0\n",
              "1            1        5     5320           NaN\n",
              "2            2        5     5233           2.0\n",
              "3            3        5     5232           1.0\n",
              "4            4        5     5268           NaN\n",
              "...        ...      ...      ...           ...\n",
              "214195  214195       45    18454           1.0\n",
              "214196  214196       45    16188           NaN\n",
              "214197  214197       45    15757           1.0\n",
              "214198  214198       45    19648           NaN\n",
              "214199  214199       45      969           NaN\n",
              "\n",
              "[214200 rows x 4 columns]"
            ]
          },
          "metadata": {
            "tags": []
          }
        },
        {
          "output_type": "display_data",
          "data": {
            "text/html": [
              "<div>\n",
              "<style scoped>\n",
              "    .dataframe tbody tr th:only-of-type {\n",
              "        vertical-align: middle;\n",
              "    }\n",
              "\n",
              "    .dataframe tbody tr th {\n",
              "        vertical-align: top;\n",
              "    }\n",
              "\n",
              "    .dataframe thead th {\n",
              "        text-align: right;\n",
              "    }\n",
              "</style>\n",
              "<table border=\"1\" class=\"dataframe\">\n",
              "  <thead>\n",
              "    <tr style=\"text-align: right;\">\n",
              "      <th></th>\n",
              "      <th>ID</th>\n",
              "      <th>item_cnt_month</th>\n",
              "    </tr>\n",
              "  </thead>\n",
              "  <tbody>\n",
              "    <tr>\n",
              "      <th>0</th>\n",
              "      <td>0</td>\n",
              "      <td>1.0</td>\n",
              "    </tr>\n",
              "    <tr>\n",
              "      <th>1</th>\n",
              "      <td>1</td>\n",
              "      <td>0.0</td>\n",
              "    </tr>\n",
              "    <tr>\n",
              "      <th>2</th>\n",
              "      <td>2</td>\n",
              "      <td>2.0</td>\n",
              "    </tr>\n",
              "    <tr>\n",
              "      <th>3</th>\n",
              "      <td>3</td>\n",
              "      <td>1.0</td>\n",
              "    </tr>\n",
              "    <tr>\n",
              "      <th>4</th>\n",
              "      <td>4</td>\n",
              "      <td>0.0</td>\n",
              "    </tr>\n",
              "    <tr>\n",
              "      <th>...</th>\n",
              "      <td>...</td>\n",
              "      <td>...</td>\n",
              "    </tr>\n",
              "    <tr>\n",
              "      <th>214195</th>\n",
              "      <td>214195</td>\n",
              "      <td>1.0</td>\n",
              "    </tr>\n",
              "    <tr>\n",
              "      <th>214196</th>\n",
              "      <td>214196</td>\n",
              "      <td>0.0</td>\n",
              "    </tr>\n",
              "    <tr>\n",
              "      <th>214197</th>\n",
              "      <td>214197</td>\n",
              "      <td>1.0</td>\n",
              "    </tr>\n",
              "    <tr>\n",
              "      <th>214198</th>\n",
              "      <td>214198</td>\n",
              "      <td>0.0</td>\n",
              "    </tr>\n",
              "    <tr>\n",
              "      <th>214199</th>\n",
              "      <td>214199</td>\n",
              "      <td>0.0</td>\n",
              "    </tr>\n",
              "  </tbody>\n",
              "</table>\n",
              "<p>214200 rows × 2 columns</p>\n",
              "</div>"
            ],
            "text/plain": [
              "            ID  item_cnt_month\n",
              "0            0             1.0\n",
              "1            1             0.0\n",
              "2            2             2.0\n",
              "3            3             1.0\n",
              "4            4             0.0\n",
              "...        ...             ...\n",
              "214195  214195             1.0\n",
              "214196  214196             0.0\n",
              "214197  214197             1.0\n",
              "214198  214198             0.0\n",
              "214199  214199             0.0\n",
              "\n",
              "[214200 rows x 2 columns]"
            ]
          },
          "metadata": {
            "tags": []
          }
        },
        {
          "output_type": "stream",
          "text": [
            "Warning: Looks like you're using an outdated API Version, please consider updating (server 1.5.6 / client 1.5.4)\n",
            "100% 2.14M/2.14M [00:00<00:00, 5.42MB/s]\n",
            "Successfully submitted to Predict Future Sales"
          ],
          "name": "stdout"
        }
      ]
    },
    {
      "cell_type": "markdown",
      "metadata": {
        "id": "-vbuQ9inpbIt",
        "colab_type": "text"
      },
      "source": [
        "# Exploratory Data Analysis"
      ]
    },
    {
      "cell_type": "markdown",
      "metadata": {
        "id": "wFSxR1Wmw7Wf",
        "colab_type": "text"
      },
      "source": [
        "## Sales data"
      ]
    },
    {
      "cell_type": "code",
      "metadata": {
        "id": "c95PtmiMoP3v",
        "colab_type": "code",
        "colab": {}
      },
      "source": [
        "sales_rawdata = pd.read_csv('rawdata/sales_train.csv')"
      ],
      "execution_count": 10,
      "outputs": []
    },
    {
      "cell_type": "code",
      "metadata": {
        "id": "M0CAKCbixINi",
        "colab_type": "code",
        "colab": {
          "base_uri": "https://localhost:8080/",
          "height": 68
        },
        "outputId": "3064f7e1-40b0-4a30-ba5f-8514e7d0e193"
      },
      "source": [
        "print(sales_rawdata.columns)"
      ],
      "execution_count": 11,
      "outputs": [
        {
          "output_type": "stream",
          "text": [
            "Index(['date', 'date_block_num', 'shop_id', 'item_id', 'item_price',\n",
            "       'item_cnt_day'],\n",
            "      dtype='object')\n"
          ],
          "name": "stdout"
        }
      ]
    },
    {
      "cell_type": "code",
      "metadata": {
        "id": "CduurYGWzOhA",
        "colab_type": "code",
        "colab": {
          "base_uri": "https://localhost:8080/",
          "height": 136
        },
        "outputId": "c9bb833d-38f0-4a6e-e330-6e7c5ca2efc8"
      },
      "source": [
        "print(sales_rawdata.dtypes)"
      ],
      "execution_count": 12,
      "outputs": [
        {
          "output_type": "stream",
          "text": [
            "date               object\n",
            "date_block_num      int64\n",
            "shop_id             int64\n",
            "item_id             int64\n",
            "item_price        float64\n",
            "item_cnt_day      float64\n",
            "dtype: object\n"
          ],
          "name": "stdout"
        }
      ]
    },
    {
      "cell_type": "code",
      "metadata": {
        "id": "ozITNfOcxK3j",
        "colab_type": "code",
        "colab": {
          "base_uri": "https://localhost:8080/",
          "height": 204
        },
        "outputId": "7337459b-3ca5-422f-ec6e-3eba4455090e"
      },
      "source": [
        "display(sales_rawdata.head())"
      ],
      "execution_count": 13,
      "outputs": [
        {
          "output_type": "display_data",
          "data": {
            "text/html": [
              "<div>\n",
              "<style scoped>\n",
              "    .dataframe tbody tr th:only-of-type {\n",
              "        vertical-align: middle;\n",
              "    }\n",
              "\n",
              "    .dataframe tbody tr th {\n",
              "        vertical-align: top;\n",
              "    }\n",
              "\n",
              "    .dataframe thead th {\n",
              "        text-align: right;\n",
              "    }\n",
              "</style>\n",
              "<table border=\"1\" class=\"dataframe\">\n",
              "  <thead>\n",
              "    <tr style=\"text-align: right;\">\n",
              "      <th></th>\n",
              "      <th>date</th>\n",
              "      <th>date_block_num</th>\n",
              "      <th>shop_id</th>\n",
              "      <th>item_id</th>\n",
              "      <th>item_price</th>\n",
              "      <th>item_cnt_day</th>\n",
              "    </tr>\n",
              "  </thead>\n",
              "  <tbody>\n",
              "    <tr>\n",
              "      <th>0</th>\n",
              "      <td>02.01.2013</td>\n",
              "      <td>0</td>\n",
              "      <td>59</td>\n",
              "      <td>22154</td>\n",
              "      <td>999.00</td>\n",
              "      <td>1.0</td>\n",
              "    </tr>\n",
              "    <tr>\n",
              "      <th>1</th>\n",
              "      <td>03.01.2013</td>\n",
              "      <td>0</td>\n",
              "      <td>25</td>\n",
              "      <td>2552</td>\n",
              "      <td>899.00</td>\n",
              "      <td>1.0</td>\n",
              "    </tr>\n",
              "    <tr>\n",
              "      <th>2</th>\n",
              "      <td>05.01.2013</td>\n",
              "      <td>0</td>\n",
              "      <td>25</td>\n",
              "      <td>2552</td>\n",
              "      <td>899.00</td>\n",
              "      <td>-1.0</td>\n",
              "    </tr>\n",
              "    <tr>\n",
              "      <th>3</th>\n",
              "      <td>06.01.2013</td>\n",
              "      <td>0</td>\n",
              "      <td>25</td>\n",
              "      <td>2554</td>\n",
              "      <td>1709.05</td>\n",
              "      <td>1.0</td>\n",
              "    </tr>\n",
              "    <tr>\n",
              "      <th>4</th>\n",
              "      <td>15.01.2013</td>\n",
              "      <td>0</td>\n",
              "      <td>25</td>\n",
              "      <td>2555</td>\n",
              "      <td>1099.00</td>\n",
              "      <td>1.0</td>\n",
              "    </tr>\n",
              "  </tbody>\n",
              "</table>\n",
              "</div>"
            ],
            "text/plain": [
              "         date  date_block_num  shop_id  item_id  item_price  item_cnt_day\n",
              "0  02.01.2013               0       59    22154      999.00           1.0\n",
              "1  03.01.2013               0       25     2552      899.00           1.0\n",
              "2  05.01.2013               0       25     2552      899.00          -1.0\n",
              "3  06.01.2013               0       25     2554     1709.05           1.0\n",
              "4  15.01.2013               0       25     2555     1099.00           1.0"
            ]
          },
          "metadata": {
            "tags": []
          }
        }
      ]
    },
    {
      "cell_type": "code",
      "metadata": {
        "id": "Kpnpt_kSycfK",
        "colab_type": "code",
        "colab": {
          "base_uri": "https://localhost:8080/",
          "height": 418
        },
        "outputId": "42138d20-6eef-4d3c-be4a-dcb9becd3cc7"
      },
      "source": [
        "plt.hist(sales_rawdata.date_block_num, bins=max(sales_rawdata.date_block_num))"
      ],
      "execution_count": 14,
      "outputs": [
        {
          "output_type": "execute_result",
          "data": {
            "text/plain": [
              "(array([115690., 108613., 121347.,  94109.,  91759., 100403., 100548.,\n",
              "        104772.,  96137.,  94202.,  96736., 143246.,  99349.,  89830.,\n",
              "         92733.,  77906.,  78529.,  82408.,  78760.,  86614.,  73157.,\n",
              "         79361.,  86428., 130786.,  88522.,  71808.,  69977.,  56274.,\n",
              "         54548.,  54617.,  55549.,  57029., 104102.]),\n",
              " array([ 0.,  1.,  2.,  3.,  4.,  5.,  6.,  7.,  8.,  9., 10., 11., 12.,\n",
              "        13., 14., 15., 16., 17., 18., 19., 20., 21., 22., 23., 24., 25.,\n",
              "        26., 27., 28., 29., 30., 31., 32., 33.]),\n",
              " <a list of 33 Patch objects>)"
            ]
          },
          "metadata": {
            "tags": []
          },
          "execution_count": 14
        },
        {
          "output_type": "display_data",
          "data": {
            "image/png": "[encoded data removed]",
            "text/plain": [
              "<Figure size 432x288 with 1 Axes>"
            ]
          },
          "metadata": {
            "tags": [],
            "needs_background": "light"
          }
        }
      ]
    },
    {
      "cell_type": "code",
      "metadata": {
        "id": "_MYPeZwuykju",
        "colab_type": "code",
        "colab": {
          "base_uri": "https://localhost:8080/",
          "height": 418
        },
        "outputId": "56c25d17-ec55-42b7-9023-e9551b1950f5"
      },
      "source": [
        "plt.hist(sales_rawdata.loc[sales_rawdata.item_cnt_day>0, 'date_block_num'], bins=max(sales_rawdata.date_block_num))"
      ],
      "execution_count": 15,
      "outputs": [
        {
          "output_type": "execute_result",
          "data": {
            "text/plain": [
              "(array([115338., 108326., 121053.,  93865.,  91582., 100202., 100350.,\n",
              "        104495.,  95918.,  93938.,  96503., 142921.,  99009.,  89550.,\n",
              "         92530.,  77718.,  78382.,  82215.,  78554.,  86427.,  72943.,\n",
              "         79169.,  86225., 130489.,  88199.,  71595.,  69766.,  56157.,\n",
              "         54415.,  54497.,  55420.,  56913., 103829.]),\n",
              " array([ 0.,  1.,  2.,  3.,  4.,  5.,  6.,  7.,  8.,  9., 10., 11., 12.,\n",
              "        13., 14., 15., 16., 17., 18., 19., 20., 21., 22., 23., 24., 25.,\n",
              "        26., 27., 28., 29., 30., 31., 32., 33.]),\n",
              " <a list of 33 Patch objects>)"
            ]
          },
          "metadata": {
            "tags": []
          },
          "execution_count": 15
        },
        {
          "output_type": "display_data",
          "data": {
            "image/png": "[encoded data removed]",
            "text/plain": [
              "<Figure size 432x288 with 1 Axes>"
            ]
          },
          "metadata": {
            "tags": [],
            "needs_background": "light"
          }
        }
      ]
    },
    {
      "cell_type": "markdown",
      "metadata": {
        "id": "4nJ2E2_w54yV",
        "colab_type": "text"
      },
      "source": [
        "- It can be observed that the number of sales diminishes with time. There are some high points in months 11 (december), 23 (december), 33 (october!). Maybe the last month is not the best one as reference (baseline prediction). There was a sale? a big promotion?"
      ]
    },
    {
      "cell_type": "code",
      "metadata": {
        "id": "5yzKYDvbzIQM",
        "colab_type": "code",
        "colab": {}
      },
      "source": [
        "tmp = sales_rawdata.loc[sales_rawdata.item_cnt_day>0, :].groupby('item_id')['item_price'].count().reset_index()"
      ],
      "execution_count": 16,
      "outputs": []
    },
    {
      "cell_type": "code",
      "metadata": {
        "id": "db0-galF0aya",
        "colab_type": "code",
        "colab": {
          "base_uri": "https://localhost:8080/",
          "height": 855
        },
        "outputId": "662557b1-2c4d-4374-8cfa-c0b722c0cf01"
      },
      "source": [
        "display(tmp.head(26))"
      ],
      "execution_count": 17,
      "outputs": [
        {
          "output_type": "display_data",
          "data": {
            "text/html": [
              "<div>\n",
              "<style scoped>\n",
              "    .dataframe tbody tr th:only-of-type {\n",
              "        vertical-align: middle;\n",
              "    }\n",
              "\n",
              "    .dataframe tbody tr th {\n",
              "        vertical-align: top;\n",
              "    }\n",
              "\n",
              "    .dataframe thead th {\n",
              "        text-align: right;\n",
              "    }\n",
              "</style>\n",
              "<table border=\"1\" class=\"dataframe\">\n",
              "  <thead>\n",
              "    <tr style=\"text-align: right;\">\n",
              "      <th></th>\n",
              "      <th>item_id</th>\n",
              "      <th>item_price</th>\n",
              "    </tr>\n",
              "  </thead>\n",
              "  <tbody>\n",
              "    <tr>\n",
              "      <th>0</th>\n",
              "      <td>0</td>\n",
              "      <td>1</td>\n",
              "    </tr>\n",
              "    <tr>\n",
              "      <th>1</th>\n",
              "      <td>1</td>\n",
              "      <td>6</td>\n",
              "    </tr>\n",
              "    <tr>\n",
              "      <th>2</th>\n",
              "      <td>2</td>\n",
              "      <td>2</td>\n",
              "    </tr>\n",
              "    <tr>\n",
              "      <th>3</th>\n",
              "      <td>3</td>\n",
              "      <td>2</td>\n",
              "    </tr>\n",
              "    <tr>\n",
              "      <th>4</th>\n",
              "      <td>4</td>\n",
              "      <td>1</td>\n",
              "    </tr>\n",
              "    <tr>\n",
              "      <th>5</th>\n",
              "      <td>5</td>\n",
              "      <td>1</td>\n",
              "    </tr>\n",
              "    <tr>\n",
              "      <th>6</th>\n",
              "      <td>6</td>\n",
              "      <td>1</td>\n",
              "    </tr>\n",
              "    <tr>\n",
              "      <th>7</th>\n",
              "      <td>7</td>\n",
              "      <td>1</td>\n",
              "    </tr>\n",
              "    <tr>\n",
              "      <th>8</th>\n",
              "      <td>8</td>\n",
              "      <td>2</td>\n",
              "    </tr>\n",
              "    <tr>\n",
              "      <th>9</th>\n",
              "      <td>9</td>\n",
              "      <td>1</td>\n",
              "    </tr>\n",
              "    <tr>\n",
              "      <th>10</th>\n",
              "      <td>10</td>\n",
              "      <td>1</td>\n",
              "    </tr>\n",
              "    <tr>\n",
              "      <th>11</th>\n",
              "      <td>11</td>\n",
              "      <td>1</td>\n",
              "    </tr>\n",
              "    <tr>\n",
              "      <th>12</th>\n",
              "      <td>12</td>\n",
              "      <td>1</td>\n",
              "    </tr>\n",
              "    <tr>\n",
              "      <th>13</th>\n",
              "      <td>13</td>\n",
              "      <td>1</td>\n",
              "    </tr>\n",
              "    <tr>\n",
              "      <th>14</th>\n",
              "      <td>14</td>\n",
              "      <td>1</td>\n",
              "    </tr>\n",
              "    <tr>\n",
              "      <th>15</th>\n",
              "      <td>15</td>\n",
              "      <td>1</td>\n",
              "    </tr>\n",
              "    <tr>\n",
              "      <th>16</th>\n",
              "      <td>16</td>\n",
              "      <td>1</td>\n",
              "    </tr>\n",
              "    <tr>\n",
              "      <th>17</th>\n",
              "      <td>17</td>\n",
              "      <td>1</td>\n",
              "    </tr>\n",
              "    <tr>\n",
              "      <th>18</th>\n",
              "      <td>18</td>\n",
              "      <td>1</td>\n",
              "    </tr>\n",
              "    <tr>\n",
              "      <th>19</th>\n",
              "      <td>19</td>\n",
              "      <td>1</td>\n",
              "    </tr>\n",
              "    <tr>\n",
              "      <th>20</th>\n",
              "      <td>20</td>\n",
              "      <td>1</td>\n",
              "    </tr>\n",
              "    <tr>\n",
              "      <th>21</th>\n",
              "      <td>21</td>\n",
              "      <td>1</td>\n",
              "    </tr>\n",
              "    <tr>\n",
              "      <th>22</th>\n",
              "      <td>22</td>\n",
              "      <td>1</td>\n",
              "    </tr>\n",
              "    <tr>\n",
              "      <th>23</th>\n",
              "      <td>23</td>\n",
              "      <td>1</td>\n",
              "    </tr>\n",
              "    <tr>\n",
              "      <th>24</th>\n",
              "      <td>24</td>\n",
              "      <td>1</td>\n",
              "    </tr>\n",
              "    <tr>\n",
              "      <th>25</th>\n",
              "      <td>25</td>\n",
              "      <td>1</td>\n",
              "    </tr>\n",
              "  </tbody>\n",
              "</table>\n",
              "</div>"
            ],
            "text/plain": [
              "    item_id  item_price\n",
              "0         0           1\n",
              "1         1           6\n",
              "2         2           2\n",
              "3         3           2\n",
              "4         4           1\n",
              "5         5           1\n",
              "6         6           1\n",
              "7         7           1\n",
              "8         8           2\n",
              "9         9           1\n",
              "10       10           1\n",
              "11       11           1\n",
              "12       12           1\n",
              "13       13           1\n",
              "14       14           1\n",
              "15       15           1\n",
              "16       16           1\n",
              "17       17           1\n",
              "18       18           1\n",
              "19       19           1\n",
              "20       20           1\n",
              "21       21           1\n",
              "22       22           1\n",
              "23       23           1\n",
              "24       24           1\n",
              "25       25           1"
            ]
          },
          "metadata": {
            "tags": []
          }
        }
      ]
    },
    {
      "cell_type": "code",
      "metadata": {
        "id": "jIv0ihve1YXH",
        "colab_type": "code",
        "colab": {
          "base_uri": "https://localhost:8080/",
          "height": 265
        },
        "outputId": "976afe0c-f840-49bb-808d-f48d6a5afe0b"
      },
      "source": [
        "plt.hist(tmp.item_price, bins=100)\n",
        "plt.show()"
      ],
      "execution_count": 18,
      "outputs": [
        {
          "output_type": "display_data",
          "data": {
            "image/png": "[encoded data removed]",
            "text/plain": [
              "<Figure size 432x288 with 1 Axes>"
            ]
          },
          "metadata": {
            "tags": [],
            "needs_background": "light"
          }
        }
      ]
    },
    {
      "cell_type": "markdown",
      "metadata": {
        "id": "_0cKYd4O8fNc",
        "colab_type": "text"
      },
      "source": [
        "This plot shows that most items appear very few times. Let's take a look at log of this"
      ]
    },
    {
      "cell_type": "code",
      "metadata": {
        "id": "tjKpZU_A12Mq",
        "colab_type": "code",
        "colab": {
          "base_uri": "https://localhost:8080/",
          "height": 265
        },
        "outputId": "7e704fdf-d233-4f62-ddb3-9b98fdab54d3"
      },
      "source": [
        "plt.hist(np.log10(tmp.item_price), bins=100)\n",
        "plt.show()"
      ],
      "execution_count": 19,
      "outputs": [
        {
          "output_type": "display_data",
          "data": {
            "image/png": "[encoded data removed]",
            "text/plain": [
              "<Figure size 432x288 with 1 Axes>"
            ]
          },
          "metadata": {
            "tags": [],
            "needs_background": "light"
          }
        }
      ]
    },
    {
      "cell_type": "markdown",
      "metadata": {
        "id": "tB-sVhoB8wcK",
        "colab_type": "text"
      },
      "source": [
        "This gives us a better idea. More than 2000 of the items appears only once in the whole dataset! And around 2000 more below 10 times. So for these items appearing only 1-10 times, it is by similarity with other items that they can be predicted.\n",
        "In fact, they might mislead the prediction? I think they could be used to calculate averages of sales, of most trendy categories or stores (aggregated calculations) (and not pretty sure about that either), but probably they are tricky to consider as samples for training."
      ]
    },
    {
      "cell_type": "code",
      "metadata": {
        "id": "Q5p88N3n8twf",
        "colab_type": "code",
        "colab": {
          "base_uri": "https://localhost:8080/",
          "height": 367
        },
        "outputId": "ca860705-0bc3-4ed3-9967-cce055757dd5"
      },
      "source": [
        "plt.hist(np.log10(sales_rawdata.loc[sales_rawdata.item_cnt_day>0].item_price), bins=50)\n",
        "plt.show()"
      ],
      "execution_count": 20,
      "outputs": [
        {
          "output_type": "stream",
          "text": [
            "/usr/local/lib/python3.6/dist-packages/pandas/core/series.py:679: RuntimeWarning: invalid value encountered in log10\n",
            "  result = getattr(ufunc, method)(*inputs, **kwargs)\n",
            "/usr/local/lib/python3.6/dist-packages/numpy/lib/histograms.py:839: RuntimeWarning: invalid value encountered in greater_equal\n",
            "  keep = (tmp_a >= first_edge)\n",
            "/usr/local/lib/python3.6/dist-packages/numpy/lib/histograms.py:840: RuntimeWarning: invalid value encountered in less_equal\n",
            "  keep &= (tmp_a <= last_edge)\n"
          ],
          "name": "stderr"
        },
        {
          "output_type": "display_data",
          "data": {
            "image/png": "[encoded data removed]",
            "text/plain": [
              "<Figure size 432x288 with 1 Axes>"
            ]
          },
          "metadata": {
            "tags": [],
            "needs_background": "light"
          }
        }
      ]
    },
    {
      "cell_type": "code",
      "metadata": {
        "id": "m9cSNL0QBM0g",
        "colab_type": "code",
        "colab": {
          "base_uri": "https://localhost:8080/",
          "height": 80
        },
        "outputId": "a753cd5a-470e-4ebf-e59b-c1829f598c24"
      },
      "source": [
        "display(sales_rawdata.loc[sales_rawdata.item_price<0, :])"
      ],
      "execution_count": 21,
      "outputs": [
        {
          "output_type": "display_data",
          "data": {
            "text/html": [
              "<div>\n",
              "<style scoped>\n",
              "    .dataframe tbody tr th:only-of-type {\n",
              "        vertical-align: middle;\n",
              "    }\n",
              "\n",
              "    .dataframe tbody tr th {\n",
              "        vertical-align: top;\n",
              "    }\n",
              "\n",
              "    .dataframe thead th {\n",
              "        text-align: right;\n",
              "    }\n",
              "</style>\n",
              "<table border=\"1\" class=\"dataframe\">\n",
              "  <thead>\n",
              "    <tr style=\"text-align: right;\">\n",
              "      <th></th>\n",
              "      <th>date</th>\n",
              "      <th>date_block_num</th>\n",
              "      <th>shop_id</th>\n",
              "      <th>item_id</th>\n",
              "      <th>item_price</th>\n",
              "      <th>item_cnt_day</th>\n",
              "    </tr>\n",
              "  </thead>\n",
              "  <tbody>\n",
              "    <tr>\n",
              "      <th>484683</th>\n",
              "      <td>15.05.2013</td>\n",
              "      <td>4</td>\n",
              "      <td>32</td>\n",
              "      <td>2973</td>\n",
              "      <td>-1.0</td>\n",
              "      <td>1.0</td>\n",
              "    </tr>\n",
              "  </tbody>\n",
              "</table>\n",
              "</div>"
            ],
            "text/plain": [
              "              date  date_block_num  shop_id  item_id  item_price  item_cnt_day\n",
              "484683  15.05.2013               4       32     2973        -1.0           1.0"
            ]
          },
          "metadata": {
            "tags": []
          }
        }
      ]
    },
    {
      "cell_type": "markdown",
      "metadata": {
        "id": "J1JnvvfFBMMH",
        "colab_type": "text"
      },
      "source": [
        "There is an entry with negative price (??). Also, price ranges are quite wide, from less than 1 monetary unit to more than 10k monetary units. That shows that the items sold are quite different nature. Probably, pricy items are sold less than cheaper ones.\n",
        "\n"
      ]
    },
    {
      "cell_type": "code",
      "metadata": {
        "id": "OleGA9nsAz8u",
        "colab_type": "code",
        "colab": {}
      },
      "source": [
        "sales_rawdata['month_year'] = sales_rawdata['date'].apply(lambda date: date[2:])"
      ],
      "execution_count": 22,
      "outputs": []
    },
    {
      "cell_type": "code",
      "metadata": {
        "id": "zq4EBqNBCPcl",
        "colab_type": "code",
        "colab": {
          "base_uri": "https://localhost:8080/",
          "height": 136
        },
        "outputId": "e12fc76d-cdc6-4eb6-db9b-f6bd2aa4234d"
      },
      "source": [
        "display(sales_rawdata.month_year.unique())"
      ],
      "execution_count": 23,
      "outputs": [
        {
          "output_type": "display_data",
          "data": {
            "text/plain": [
              "array(['.01.2013', '.02.2013', '.03.2013', '.04.2013', '.05.2013',\n",
              "       '.06.2013', '.07.2013', '.08.2013', '.09.2013', '.10.2013',\n",
              "       '.11.2013', '.12.2013', '.01.2014', '.02.2014', '.03.2014',\n",
              "       '.04.2014', '.05.2014', '.06.2014', '.07.2014', '.08.2014',\n",
              "       '.09.2014', '.10.2014', '.11.2014', '.12.2014', '.01.2015',\n",
              "       '.02.2015', '.03.2015', '.04.2015', '.05.2015', '.06.2015',\n",
              "       '.07.2015', '.08.2015', '.09.2015', '.10.2015'], dtype=object)"
            ]
          },
          "metadata": {
            "tags": []
          }
        }
      ]
    },
    {
      "cell_type": "markdown",
      "metadata": {
        "id": "mn-b20wgDBOY",
        "colab_type": "text"
      },
      "source": [
        "There are no missing months"
      ]
    },
    {
      "cell_type": "code",
      "metadata": {
        "id": "Z3-MbGBICnNY",
        "colab_type": "code",
        "colab": {
          "base_uri": "https://localhost:8080/",
          "height": 1000
        },
        "outputId": "a93e6d03-44f2-4047-c92f-9ec22e185455"
      },
      "source": [
        "tmp = sales_rawdata.groupby(['date_block_num','shop_id']).agg({'item_cnt_day':'sum'}).reset_index().rename(columns={'item_cnt_day':'item_cnt_month'})\n",
        "tmp = tmp.groupby('shop_id').agg(item_cnt_month_count=('item_cnt_month','count'), item_cnt_month_avg=('item_cnt_month', 'mean'), item_cnt_month_std=('item_cnt_month','std'), item_cnt_month_total=('item_cnt_month','sum')).reset_index()\n",
        "display(tmp)"
      ],
      "execution_count": 24,
      "outputs": [
        {
          "output_type": "display_data",
          "data": {
            "text/html": [
              "<div>\n",
              "<style scoped>\n",
              "    .dataframe tbody tr th:only-of-type {\n",
              "        vertical-align: middle;\n",
              "    }\n",
              "\n",
              "    .dataframe tbody tr th {\n",
              "        vertical-align: top;\n",
              "    }\n",
              "\n",
              "    .dataframe thead th {\n",
              "        text-align: right;\n",
              "    }\n",
              "</style>\n",
              "<table border=\"1\" class=\"dataframe\">\n",
              "  <thead>\n",
              "    <tr style=\"text-align: right;\">\n",
              "      <th></th>\n",
              "      <th>shop_id</th>\n",
              "      <th>item_cnt_month_count</th>\n",
              "      <th>item_cnt_month_avg</th>\n",
              "      <th>item_cnt_month_std</th>\n",
              "      <th>item_cnt_month_total</th>\n",
              "    </tr>\n",
              "  </thead>\n",
              "  <tbody>\n",
              "    <tr>\n",
              "      <th>0</th>\n",
              "      <td>0</td>\n",
              "      <td>2</td>\n",
              "      <td>5852.500000</td>\n",
              "      <td>388.201623</td>\n",
              "      <td>11705.0</td>\n",
              "    </tr>\n",
              "    <tr>\n",
              "      <th>1</th>\n",
              "      <td>1</td>\n",
              "      <td>2</td>\n",
              "      <td>3155.500000</td>\n",
              "      <td>294.863528</td>\n",
              "      <td>6311.0</td>\n",
              "    </tr>\n",
              "    <tr>\n",
              "      <th>2</th>\n",
              "      <td>2</td>\n",
              "      <td>34</td>\n",
              "      <td>900.588235</td>\n",
              "      <td>241.943033</td>\n",
              "      <td>30620.0</td>\n",
              "    </tr>\n",
              "    <tr>\n",
              "      <th>3</th>\n",
              "      <td>3</td>\n",
              "      <td>34</td>\n",
              "      <td>833.970588</td>\n",
              "      <td>164.053666</td>\n",
              "      <td>28355.0</td>\n",
              "    </tr>\n",
              "    <tr>\n",
              "      <th>4</th>\n",
              "      <td>4</td>\n",
              "      <td>34</td>\n",
              "      <td>1292.411765</td>\n",
              "      <td>442.615581</td>\n",
              "      <td>43942.0</td>\n",
              "    </tr>\n",
              "    <tr>\n",
              "      <th>5</th>\n",
              "      <td>5</td>\n",
              "      <td>33</td>\n",
              "      <td>1295.818182</td>\n",
              "      <td>294.292526</td>\n",
              "      <td>42762.0</td>\n",
              "    </tr>\n",
              "    <tr>\n",
              "      <th>6</th>\n",
              "      <td>6</td>\n",
              "      <td>34</td>\n",
              "      <td>2955.558824</td>\n",
              "      <td>956.451750</td>\n",
              "      <td>100489.0</td>\n",
              "    </tr>\n",
              "    <tr>\n",
              "      <th>7</th>\n",
              "      <td>7</td>\n",
              "      <td>34</td>\n",
              "      <td>1972.294118</td>\n",
              "      <td>583.917155</td>\n",
              "      <td>67058.0</td>\n",
              "    </tr>\n",
              "    <tr>\n",
              "      <th>8</th>\n",
              "      <td>8</td>\n",
              "      <td>4</td>\n",
              "      <td>898.750000</td>\n",
              "      <td>632.515810</td>\n",
              "      <td>3595.0</td>\n",
              "    </tr>\n",
              "    <tr>\n",
              "      <th>9</th>\n",
              "      <td>9</td>\n",
              "      <td>4</td>\n",
              "      <td>3966.500000</td>\n",
              "      <td>3038.135887</td>\n",
              "      <td>15866.0</td>\n",
              "    </tr>\n",
              "    <tr>\n",
              "      <th>10</th>\n",
              "      <td>10</td>\n",
              "      <td>33</td>\n",
              "      <td>743.121212</td>\n",
              "      <td>221.965335</td>\n",
              "      <td>24523.0</td>\n",
              "    </tr>\n",
              "    <tr>\n",
              "      <th>11</th>\n",
              "      <td>11</td>\n",
              "      <td>1</td>\n",
              "      <td>572.000000</td>\n",
              "      <td>NaN</td>\n",
              "      <td>572.0</td>\n",
              "    </tr>\n",
              "    <tr>\n",
              "      <th>12</th>\n",
              "      <td>12</td>\n",
              "      <td>34</td>\n",
              "      <td>2161.117647</td>\n",
              "      <td>1119.954105</td>\n",
              "      <td>73478.0</td>\n",
              "    </tr>\n",
              "    <tr>\n",
              "      <th>13</th>\n",
              "      <td>13</td>\n",
              "      <td>20</td>\n",
              "      <td>988.150000</td>\n",
              "      <td>245.682567</td>\n",
              "      <td>19763.0</td>\n",
              "    </tr>\n",
              "    <tr>\n",
              "      <th>14</th>\n",
              "      <td>14</td>\n",
              "      <td>34</td>\n",
              "      <td>1363.970588</td>\n",
              "      <td>364.569691</td>\n",
              "      <td>46375.0</td>\n",
              "    </tr>\n",
              "    <tr>\n",
              "      <th>15</th>\n",
              "      <td>15</td>\n",
              "      <td>34</td>\n",
              "      <td>2094.147059</td>\n",
              "      <td>652.800964</td>\n",
              "      <td>71201.0</td>\n",
              "    </tr>\n",
              "    <tr>\n",
              "      <th>16</th>\n",
              "      <td>16</td>\n",
              "      <td>34</td>\n",
              "      <td>1812.735294</td>\n",
              "      <td>657.577801</td>\n",
              "      <td>61633.0</td>\n",
              "    </tr>\n",
              "    <tr>\n",
              "      <th>17</th>\n",
              "      <td>17</td>\n",
              "      <td>20</td>\n",
              "      <td>1291.900000</td>\n",
              "      <td>358.585217</td>\n",
              "      <td>25838.0</td>\n",
              "    </tr>\n",
              "    <tr>\n",
              "      <th>18</th>\n",
              "      <td>18</td>\n",
              "      <td>34</td>\n",
              "      <td>1926.058824</td>\n",
              "      <td>759.834709</td>\n",
              "      <td>65486.0</td>\n",
              "    </tr>\n",
              "    <tr>\n",
              "      <th>19</th>\n",
              "      <td>19</td>\n",
              "      <td>34</td>\n",
              "      <td>2160.441176</td>\n",
              "      <td>609.070688</td>\n",
              "      <td>73455.0</td>\n",
              "    </tr>\n",
              "    <tr>\n",
              "      <th>20</th>\n",
              "      <td>20</td>\n",
              "      <td>2</td>\n",
              "      <td>2936.000000</td>\n",
              "      <td>459.619408</td>\n",
              "      <td>5872.0</td>\n",
              "    </tr>\n",
              "    <tr>\n",
              "      <th>21</th>\n",
              "      <td>21</td>\n",
              "      <td>34</td>\n",
              "      <td>2016.470588</td>\n",
              "      <td>495.489304</td>\n",
              "      <td>68560.0</td>\n",
              "    </tr>\n",
              "    <tr>\n",
              "      <th>22</th>\n",
              "      <td>22</td>\n",
              "      <td>34</td>\n",
              "      <td>1771.470588</td>\n",
              "      <td>482.621518</td>\n",
              "      <td>60230.0</td>\n",
              "    </tr>\n",
              "    <tr>\n",
              "      <th>23</th>\n",
              "      <td>23</td>\n",
              "      <td>4</td>\n",
              "      <td>1926.250000</td>\n",
              "      <td>172.778037</td>\n",
              "      <td>7705.0</td>\n",
              "    </tr>\n",
              "    <tr>\n",
              "      <th>24</th>\n",
              "      <td>24</td>\n",
              "      <td>34</td>\n",
              "      <td>1879.000000</td>\n",
              "      <td>690.873053</td>\n",
              "      <td>63886.0</td>\n",
              "    </tr>\n",
              "    <tr>\n",
              "      <th>25</th>\n",
              "      <td>25</td>\n",
              "      <td>34</td>\n",
              "      <td>7115.294118</td>\n",
              "      <td>1787.511840</td>\n",
              "      <td>241920.0</td>\n",
              "    </tr>\n",
              "    <tr>\n",
              "      <th>26</th>\n",
              "      <td>26</td>\n",
              "      <td>34</td>\n",
              "      <td>1996.764706</td>\n",
              "      <td>625.919932</td>\n",
              "      <td>67890.0</td>\n",
              "    </tr>\n",
              "    <tr>\n",
              "      <th>27</th>\n",
              "      <td>27</td>\n",
              "      <td>32</td>\n",
              "      <td>4270.531250</td>\n",
              "      <td>1566.270977</td>\n",
              "      <td>136657.0</td>\n",
              "    </tr>\n",
              "    <tr>\n",
              "      <th>28</th>\n",
              "      <td>28</td>\n",
              "      <td>34</td>\n",
              "      <td>5428.147059</td>\n",
              "      <td>1430.675897</td>\n",
              "      <td>184557.0</td>\n",
              "    </tr>\n",
              "    <tr>\n",
              "      <th>29</th>\n",
              "      <td>29</td>\n",
              "      <td>29</td>\n",
              "      <td>2024.586207</td>\n",
              "      <td>598.098984</td>\n",
              "      <td>58713.0</td>\n",
              "    </tr>\n",
              "    <tr>\n",
              "      <th>30</th>\n",
              "      <td>30</td>\n",
              "      <td>26</td>\n",
              "      <td>2339.538462</td>\n",
              "      <td>586.545837</td>\n",
              "      <td>60828.0</td>\n",
              "    </tr>\n",
              "    <tr>\n",
              "      <th>31</th>\n",
              "      <td>31</td>\n",
              "      <td>34</td>\n",
              "      <td>9140.500000</td>\n",
              "      <td>2401.995550</td>\n",
              "      <td>310777.0</td>\n",
              "    </tr>\n",
              "    <tr>\n",
              "      <th>32</th>\n",
              "      <td>32</td>\n",
              "      <td>7</td>\n",
              "      <td>1254.428571</td>\n",
              "      <td>559.987755</td>\n",
              "      <td>8781.0</td>\n",
              "    </tr>\n",
              "    <tr>\n",
              "      <th>33</th>\n",
              "      <td>33</td>\n",
              "      <td>9</td>\n",
              "      <td>609.111111</td>\n",
              "      <td>362.406693</td>\n",
              "      <td>5482.0</td>\n",
              "    </tr>\n",
              "    <tr>\n",
              "      <th>34</th>\n",
              "      <td>34</td>\n",
              "      <td>16</td>\n",
              "      <td>403.187500</td>\n",
              "      <td>129.885190</td>\n",
              "      <td>6451.0</td>\n",
              "    </tr>\n",
              "    <tr>\n",
              "      <th>35</th>\n",
              "      <td>35</td>\n",
              "      <td>34</td>\n",
              "      <td>2029.882353</td>\n",
              "      <td>511.952695</td>\n",
              "      <td>69016.0</td>\n",
              "    </tr>\n",
              "    <tr>\n",
              "      <th>36</th>\n",
              "      <td>36</td>\n",
              "      <td>1</td>\n",
              "      <td>330.000000</td>\n",
              "      <td>NaN</td>\n",
              "      <td>330.0</td>\n",
              "    </tr>\n",
              "    <tr>\n",
              "      <th>37</th>\n",
              "      <td>37</td>\n",
              "      <td>34</td>\n",
              "      <td>1360.470588</td>\n",
              "      <td>466.161257</td>\n",
              "      <td>46256.0</td>\n",
              "    </tr>\n",
              "    <tr>\n",
              "      <th>38</th>\n",
              "      <td>38</td>\n",
              "      <td>34</td>\n",
              "      <td>1584.882353</td>\n",
              "      <td>348.077905</td>\n",
              "      <td>53886.0</td>\n",
              "    </tr>\n",
              "    <tr>\n",
              "      <th>39</th>\n",
              "      <td>39</td>\n",
              "      <td>20</td>\n",
              "      <td>830.850000</td>\n",
              "      <td>183.454935</td>\n",
              "      <td>16617.0</td>\n",
              "    </tr>\n",
              "    <tr>\n",
              "      <th>40</th>\n",
              "      <td>40</td>\n",
              "      <td>11</td>\n",
              "      <td>449.363636</td>\n",
              "      <td>202.580983</td>\n",
              "      <td>4943.0</td>\n",
              "    </tr>\n",
              "    <tr>\n",
              "      <th>41</th>\n",
              "      <td>41</td>\n",
              "      <td>34</td>\n",
              "      <td>1450.705882</td>\n",
              "      <td>601.265309</td>\n",
              "      <td>49324.0</td>\n",
              "    </tr>\n",
              "    <tr>\n",
              "      <th>42</th>\n",
              "      <td>42</td>\n",
              "      <td>34</td>\n",
              "      <td>4262.764706</td>\n",
              "      <td>833.919335</td>\n",
              "      <td>144934.0</td>\n",
              "    </tr>\n",
              "    <tr>\n",
              "      <th>43</th>\n",
              "      <td>43</td>\n",
              "      <td>25</td>\n",
              "      <td>2024.320000</td>\n",
              "      <td>538.231032</td>\n",
              "      <td>50608.0</td>\n",
              "    </tr>\n",
              "    <tr>\n",
              "      <th>44</th>\n",
              "      <td>44</td>\n",
              "      <td>34</td>\n",
              "      <td>1321.705882</td>\n",
              "      <td>440.565376</td>\n",
              "      <td>44938.0</td>\n",
              "    </tr>\n",
              "    <tr>\n",
              "      <th>45</th>\n",
              "      <td>45</td>\n",
              "      <td>34</td>\n",
              "      <td>1232.205882</td>\n",
              "      <td>400.167524</td>\n",
              "      <td>41895.0</td>\n",
              "    </tr>\n",
              "    <tr>\n",
              "      <th>46</th>\n",
              "      <td>46</td>\n",
              "      <td>34</td>\n",
              "      <td>2323.235294</td>\n",
              "      <td>694.309688</td>\n",
              "      <td>78990.0</td>\n",
              "    </tr>\n",
              "    <tr>\n",
              "      <th>47</th>\n",
              "      <td>47</td>\n",
              "      <td>34</td>\n",
              "      <td>1989.323529</td>\n",
              "      <td>443.782346</td>\n",
              "      <td>67637.0</td>\n",
              "    </tr>\n",
              "    <tr>\n",
              "      <th>48</th>\n",
              "      <td>48</td>\n",
              "      <td>19</td>\n",
              "      <td>1311.000000</td>\n",
              "      <td>418.959690</td>\n",
              "      <td>24909.0</td>\n",
              "    </tr>\n",
              "    <tr>\n",
              "      <th>49</th>\n",
              "      <td>49</td>\n",
              "      <td>23</td>\n",
              "      <td>743.043478</td>\n",
              "      <td>208.506045</td>\n",
              "      <td>17090.0</td>\n",
              "    </tr>\n",
              "    <tr>\n",
              "      <th>50</th>\n",
              "      <td>50</td>\n",
              "      <td>34</td>\n",
              "      <td>2242.294118</td>\n",
              "      <td>1120.846015</td>\n",
              "      <td>76238.0</td>\n",
              "    </tr>\n",
              "    <tr>\n",
              "      <th>51</th>\n",
              "      <td>51</td>\n",
              "      <td>33</td>\n",
              "      <td>1477.787879</td>\n",
              "      <td>638.270356</td>\n",
              "      <td>48767.0</td>\n",
              "    </tr>\n",
              "    <tr>\n",
              "      <th>52</th>\n",
              "      <td>52</td>\n",
              "      <td>34</td>\n",
              "      <td>1463.058824</td>\n",
              "      <td>418.234235</td>\n",
              "      <td>49744.0</td>\n",
              "    </tr>\n",
              "    <tr>\n",
              "      <th>53</th>\n",
              "      <td>53</td>\n",
              "      <td>34</td>\n",
              "      <td>1813.441176</td>\n",
              "      <td>455.189550</td>\n",
              "      <td>61657.0</td>\n",
              "    </tr>\n",
              "    <tr>\n",
              "      <th>54</th>\n",
              "      <td>54</td>\n",
              "      <td>28</td>\n",
              "      <td>6635.357143</td>\n",
              "      <td>1890.031064</td>\n",
              "      <td>185790.0</td>\n",
              "    </tr>\n",
              "    <tr>\n",
              "      <th>55</th>\n",
              "      <td>55</td>\n",
              "      <td>30</td>\n",
              "      <td>2112.933333</td>\n",
              "      <td>1567.003156</td>\n",
              "      <td>63388.0</td>\n",
              "    </tr>\n",
              "    <tr>\n",
              "      <th>56</th>\n",
              "      <td>56</td>\n",
              "      <td>34</td>\n",
              "      <td>2296.441176</td>\n",
              "      <td>696.934639</td>\n",
              "      <td>78079.0</td>\n",
              "    </tr>\n",
              "    <tr>\n",
              "      <th>57</th>\n",
              "      <td>57</td>\n",
              "      <td>32</td>\n",
              "      <td>4409.593750</td>\n",
              "      <td>1603.273946</td>\n",
              "      <td>141107.0</td>\n",
              "    </tr>\n",
              "    <tr>\n",
              "      <th>58</th>\n",
              "      <td>58</td>\n",
              "      <td>32</td>\n",
              "      <td>2554.187500</td>\n",
              "      <td>933.028279</td>\n",
              "      <td>81734.0</td>\n",
              "    </tr>\n",
              "    <tr>\n",
              "      <th>59</th>\n",
              "      <td>59</td>\n",
              "      <td>34</td>\n",
              "      <td>1440.970588</td>\n",
              "      <td>410.857602</td>\n",
              "      <td>48993.0</td>\n",
              "    </tr>\n",
              "  </tbody>\n",
              "</table>\n",
              "</div>"
            ],
            "text/plain": [
              "    shop_id  item_cnt_month_count  ...  item_cnt_month_std  item_cnt_month_total\n",
              "0         0                     2  ...          388.201623               11705.0\n",
              "1         1                     2  ...          294.863528                6311.0\n",
              "2         2                    34  ...          241.943033               30620.0\n",
              "3         3                    34  ...          164.053666               28355.0\n",
              "4         4                    34  ...          442.615581               43942.0\n",
              "5         5                    33  ...          294.292526               42762.0\n",
              "6         6                    34  ...          956.451750              100489.0\n",
              "7         7                    34  ...          583.917155               67058.0\n",
              "8         8                     4  ...          632.515810                3595.0\n",
              "9         9                     4  ...         3038.135887               15866.0\n",
              "10       10                    33  ...          221.965335               24523.0\n",
              "11       11                     1  ...                 NaN                 572.0\n",
              "12       12                    34  ...         1119.954105               73478.0\n",
              "13       13                    20  ...          245.682567               19763.0\n",
              "14       14                    34  ...          364.569691               46375.0\n",
              "15       15                    34  ...          652.800964               71201.0\n",
              "16       16                    34  ...          657.577801               61633.0\n",
              "17       17                    20  ...          358.585217               25838.0\n",
              "18       18                    34  ...          759.834709               65486.0\n",
              "19       19                    34  ...          609.070688               73455.0\n",
              "20       20                     2  ...          459.619408                5872.0\n",
              "21       21                    34  ...          495.489304               68560.0\n",
              "22       22                    34  ...          482.621518               60230.0\n",
              "23       23                     4  ...          172.778037                7705.0\n",
              "24       24                    34  ...          690.873053               63886.0\n",
              "25       25                    34  ...         1787.511840              241920.0\n",
              "26       26                    34  ...          625.919932               67890.0\n",
              "27       27                    32  ...         1566.270977              136657.0\n",
              "28       28                    34  ...         1430.675897              184557.0\n",
              "29       29                    29  ...          598.098984               58713.0\n",
              "30       30                    26  ...          586.545837               60828.0\n",
              "31       31                    34  ...         2401.995550              310777.0\n",
              "32       32                     7  ...          559.987755                8781.0\n",
              "33       33                     9  ...          362.406693                5482.0\n",
              "34       34                    16  ...          129.885190                6451.0\n",
              "35       35                    34  ...          511.952695               69016.0\n",
              "36       36                     1  ...                 NaN                 330.0\n",
              "37       37                    34  ...          466.161257               46256.0\n",
              "38       38                    34  ...          348.077905               53886.0\n",
              "39       39                    20  ...          183.454935               16617.0\n",
              "40       40                    11  ...          202.580983                4943.0\n",
              "41       41                    34  ...          601.265309               49324.0\n",
              "42       42                    34  ...          833.919335              144934.0\n",
              "43       43                    25  ...          538.231032               50608.0\n",
              "44       44                    34  ...          440.565376               44938.0\n",
              "45       45                    34  ...          400.167524               41895.0\n",
              "46       46                    34  ...          694.309688               78990.0\n",
              "47       47                    34  ...          443.782346               67637.0\n",
              "48       48                    19  ...          418.959690               24909.0\n",
              "49       49                    23  ...          208.506045               17090.0\n",
              "50       50                    34  ...         1120.846015               76238.0\n",
              "51       51                    33  ...          638.270356               48767.0\n",
              "52       52                    34  ...          418.234235               49744.0\n",
              "53       53                    34  ...          455.189550               61657.0\n",
              "54       54                    28  ...         1890.031064              185790.0\n",
              "55       55                    30  ...         1567.003156               63388.0\n",
              "56       56                    34  ...          696.934639               78079.0\n",
              "57       57                    32  ...         1603.273946              141107.0\n",
              "58       58                    32  ...          933.028279               81734.0\n",
              "59       59                    34  ...          410.857602               48993.0\n",
              "\n",
              "[60 rows x 5 columns]"
            ]
          },
          "metadata": {
            "tags": []
          }
        }
      ]
    },
    {
      "cell_type": "code",
      "metadata": {
        "id": "PWxm7pl9FM50",
        "colab_type": "code",
        "colab": {
          "base_uri": "https://localhost:8080/",
          "height": 513
        },
        "outputId": "48da133d-2e14-4b69-aa73-951850d2acbd"
      },
      "source": [
        "plt.plot(tmp.shop_id, tmp.item_cnt_month_avg)\n",
        "plt.show()\n",
        "\n",
        "plt.plot(tmp.shop_id, tmp.item_cnt_month_count, color='red')\n",
        "plt.show()"
      ],
      "execution_count": 25,
      "outputs": [
        {
          "output_type": "display_data",
          "data": {
            "image/png": "[encoded data removed]",
            "text/plain": [
              "<Figure size 432x288 with 1 Axes>"
            ]
          },
          "metadata": {
            "tags": [],
            "needs_background": "light"
          }
        },
        {
          "output_type": "display_data",
          "data": {
            "image/png": "[encoded data removed]",
            "text/plain": [
              "<Figure size 432x288 with 1 Axes>"
            ]
          },
          "metadata": {
            "tags": [],
            "needs_background": "light"
          }
        }
      ]
    },
    {
      "cell_type": "markdown",
      "metadata": {
        "id": "MWdKeRM-LzQv",
        "colab_type": "text"
      },
      "source": [
        "We can see that some shops have a huge number of sales count in average, the variablity is high.\n",
        "\n",
        "Also, the red plot shows that many shops have been running for many months, but there are some below 5 months... Should we do something about them? Flag as new, or short-lived...? \n",
        "\n",
        "It seems like one of the \"new\" shops has the highest average sales... Big temporal promotion? I need to take into account this big temporal differences. Let's see the proportion of total_sales/total_months_running"
      ]
    },
    {
      "cell_type": "code",
      "metadata": {
        "id": "TLJVU-hALw6E",
        "colab_type": "code",
        "colab": {
          "base_uri": "https://localhost:8080/",
          "height": 265
        },
        "outputId": "564c5af0-6652-4809-f957-09a0700bb708"
      },
      "source": [
        "fig,ax = plt.subplots()\n",
        "ax.plot(tmp.shop_id,tmp.item_cnt_month_total/tmp.item_cnt_month_count)\n",
        "ax2=ax.twinx()\n",
        "ax2.plot(tmp.shop_id, tmp.item_cnt_month_count, color='red')\n",
        "plt.show()"
      ],
      "execution_count": 26,
      "outputs": [
        {
          "output_type": "display_data",
          "data": {
            "image/png": "[encoded data removed]",
            "text/plain": [
              "<Figure size 432x288 with 2 Axes>"
            ]
          },
          "metadata": {
            "tags": [],
            "needs_background": "light"
          }
        }
      ]
    },
    {
      "cell_type": "markdown",
      "metadata": {
        "id": "Q4ygtkYtOjvk",
        "colab_type": "text"
      },
      "source": [
        "Well, some of the shops with longest running times are the ones with highest ratio total_sales/total_months. But there are many with same number of months running, and varying ratio. And also there are shorter-lived shops with high ratios. It's tricky to consider these new shops, as there is no clear history for them, the current data might reflect opening sales/offers that will not sustain over time. The ratio total_sales/total_months might be related to location: not the same shop in big cities than small towns."
      ]
    },
    {
      "cell_type": "code",
      "metadata": {
        "id": "qOSgX2F3NvbW",
        "colab_type": "code",
        "colab": {
          "base_uri": "https://localhost:8080/",
          "height": 419
        },
        "outputId": "4f82eafc-6ab0-474d-f204-85e49aa5beeb"
      },
      "source": [
        "categories_rawdata = pd.read_csv('rawdata/items.csv')\n",
        "sales_rawdata = sales_rawdata.merge(categories_rawdata, on='item_id')\n",
        "display(sales_rawdata)\n"
      ],
      "execution_count": 27,
      "outputs": [
        {
          "output_type": "display_data",
          "data": {
            "text/html": [
              "<div>\n",
              "<style scoped>\n",
              "    .dataframe tbody tr th:only-of-type {\n",
              "        vertical-align: middle;\n",
              "    }\n",
              "\n",
              "    .dataframe tbody tr th {\n",
              "        vertical-align: top;\n",
              "    }\n",
              "\n",
              "    .dataframe thead th {\n",
              "        text-align: right;\n",
              "    }\n",
              "</style>\n",
              "<table border=\"1\" class=\"dataframe\">\n",
              "  <thead>\n",
              "    <tr style=\"text-align: right;\">\n",
              "      <th></th>\n",
              "      <th>date</th>\n",
              "      <th>date_block_num</th>\n",
              "      <th>shop_id</th>\n",
              "      <th>item_id</th>\n",
              "      <th>item_price</th>\n",
              "      <th>item_cnt_day</th>\n",
              "      <th>month_year</th>\n",
              "      <th>item_name</th>\n",
              "      <th>item_category_id</th>\n",
              "    </tr>\n",
              "  </thead>\n",
              "  <tbody>\n",
              "    <tr>\n",
              "      <th>0</th>\n",
              "      <td>02.01.2013</td>\n",
              "      <td>0</td>\n",
              "      <td>59</td>\n",
              "      <td>22154</td>\n",
              "      <td>999.0</td>\n",
              "      <td>1.0</td>\n",
              "      <td>.01.2013</td>\n",
              "      <td>ЯВЛЕНИЕ 2012 (BD)</td>\n",
              "      <td>37</td>\n",
              "    </tr>\n",
              "    <tr>\n",
              "      <th>1</th>\n",
              "      <td>23.01.2013</td>\n",
              "      <td>0</td>\n",
              "      <td>24</td>\n",
              "      <td>22154</td>\n",
              "      <td>999.0</td>\n",
              "      <td>1.0</td>\n",
              "      <td>.01.2013</td>\n",
              "      <td>ЯВЛЕНИЕ 2012 (BD)</td>\n",
              "      <td>37</td>\n",
              "    </tr>\n",
              "    <tr>\n",
              "      <th>2</th>\n",
              "      <td>20.01.2013</td>\n",
              "      <td>0</td>\n",
              "      <td>27</td>\n",
              "      <td>22154</td>\n",
              "      <td>999.0</td>\n",
              "      <td>1.0</td>\n",
              "      <td>.01.2013</td>\n",
              "      <td>ЯВЛЕНИЕ 2012 (BD)</td>\n",
              "      <td>37</td>\n",
              "    </tr>\n",
              "    <tr>\n",
              "      <th>3</th>\n",
              "      <td>02.01.2013</td>\n",
              "      <td>0</td>\n",
              "      <td>25</td>\n",
              "      <td>22154</td>\n",
              "      <td>999.0</td>\n",
              "      <td>1.0</td>\n",
              "      <td>.01.2013</td>\n",
              "      <td>ЯВЛЕНИЕ 2012 (BD)</td>\n",
              "      <td>37</td>\n",
              "    </tr>\n",
              "    <tr>\n",
              "      <th>4</th>\n",
              "      <td>03.01.2013</td>\n",
              "      <td>0</td>\n",
              "      <td>25</td>\n",
              "      <td>22154</td>\n",
              "      <td>999.0</td>\n",
              "      <td>1.0</td>\n",
              "      <td>.01.2013</td>\n",
              "      <td>ЯВЛЕНИЕ 2012 (BD)</td>\n",
              "      <td>37</td>\n",
              "    </tr>\n",
              "    <tr>\n",
              "      <th>...</th>\n",
              "      <td>...</td>\n",
              "      <td>...</td>\n",
              "      <td>...</td>\n",
              "      <td>...</td>\n",
              "      <td>...</td>\n",
              "      <td>...</td>\n",
              "      <td>...</td>\n",
              "      <td>...</td>\n",
              "      <td>...</td>\n",
              "    </tr>\n",
              "    <tr>\n",
              "      <th>2935844</th>\n",
              "      <td>17.10.2015</td>\n",
              "      <td>33</td>\n",
              "      <td>25</td>\n",
              "      <td>8428</td>\n",
              "      <td>249.0</td>\n",
              "      <td>1.0</td>\n",
              "      <td>.10.2015</td>\n",
              "      <td>АХ, ВОДЕВИЛЬ, ВОДЕВИЛЬ (rem)</td>\n",
              "      <td>40</td>\n",
              "    </tr>\n",
              "    <tr>\n",
              "      <th>2935845</th>\n",
              "      <td>01.10.2015</td>\n",
              "      <td>33</td>\n",
              "      <td>25</td>\n",
              "      <td>7903</td>\n",
              "      <td>12198.0</td>\n",
              "      <td>1.0</td>\n",
              "      <td>.10.2015</td>\n",
              "      <td>XBOX 360 S 250GB CONSOLE/KINECT BUNDLE KUNG FU...</td>\n",
              "      <td>15</td>\n",
              "    </tr>\n",
              "    <tr>\n",
              "      <th>2935846</th>\n",
              "      <td>29.10.2015</td>\n",
              "      <td>33</td>\n",
              "      <td>25</td>\n",
              "      <td>7610</td>\n",
              "      <td>2890.0</td>\n",
              "      <td>1.0</td>\n",
              "      <td>.10.2015</td>\n",
              "      <td>WARHAMMER ACCESSORIES: Khorne Dice арт. 65-13</td>\n",
              "      <td>64</td>\n",
              "    </tr>\n",
              "    <tr>\n",
              "      <th>2935847</th>\n",
              "      <td>22.10.2015</td>\n",
              "      <td>33</td>\n",
              "      <td>25</td>\n",
              "      <td>7635</td>\n",
              "      <td>2100.0</td>\n",
              "      <td>1.0</td>\n",
              "      <td>.10.2015</td>\n",
              "      <td>WARHAMMER MINIATURES: Dark Elf Doomfire Warloc...</td>\n",
              "      <td>64</td>\n",
              "    </tr>\n",
              "    <tr>\n",
              "      <th>2935848</th>\n",
              "      <td>01.10.2015</td>\n",
              "      <td>33</td>\n",
              "      <td>25</td>\n",
              "      <td>7640</td>\n",
              "      <td>4040.0</td>\n",
              "      <td>1.0</td>\n",
              "      <td>.10.2015</td>\n",
              "      <td>WARHAMMER MINIATURES: Stormcast Eternals Palad...</td>\n",
              "      <td>64</td>\n",
              "    </tr>\n",
              "  </tbody>\n",
              "</table>\n",
              "<p>2935849 rows × 9 columns</p>\n",
              "</div>"
            ],
            "text/plain": [
              "               date  ...  item_category_id\n",
              "0        02.01.2013  ...                37\n",
              "1        23.01.2013  ...                37\n",
              "2        20.01.2013  ...                37\n",
              "3        02.01.2013  ...                37\n",
              "4        03.01.2013  ...                37\n",
              "...             ...  ...               ...\n",
              "2935844  17.10.2015  ...                40\n",
              "2935845  01.10.2015  ...                15\n",
              "2935846  29.10.2015  ...                64\n",
              "2935847  22.10.2015  ...                64\n",
              "2935848  01.10.2015  ...                64\n",
              "\n",
              "[2935849 rows x 9 columns]"
            ]
          },
          "metadata": {
            "tags": []
          }
        }
      ]
    },
    {
      "cell_type": "code",
      "metadata": {
        "id": "YPH7QgsY6zOY",
        "colab_type": "code",
        "colab": {}
      },
      "source": [
        "tmp = sales_rawdata.groupby('item_category_id').agg(category_price_avg=('item_price','mean'),\n",
        "                                                    category_price_std=('item_price','std'),\n",
        "                                                    category_price_median=('item_price','median'),\n",
        "                                                    category_num_unique_items=('item_id','nunique'),\n",
        "                                                    category_num_unique_shops=('shop_id','nunique'),\n",
        "                                                    category_num_sold_items=('item_cnt_day','sum')).reset_index()"
      ],
      "execution_count": 28,
      "outputs": []
    },
    {
      "cell_type": "code",
      "metadata": {
        "id": "Z-hLqPCBB4mM",
        "colab_type": "code",
        "colab": {
          "base_uri": "https://localhost:8080/",
          "height": 419
        },
        "outputId": "a57a569a-a3a6-4ddb-d6ec-1690b30874b6"
      },
      "source": [
        "display(tmp.sort_values('category_price_avg', ascending=False))"
      ],
      "execution_count": 29,
      "outputs": [
        {
          "output_type": "display_data",
          "data": {
            "text/html": [
              "<div>\n",
              "<style scoped>\n",
              "    .dataframe tbody tr th:only-of-type {\n",
              "        vertical-align: middle;\n",
              "    }\n",
              "\n",
              "    .dataframe tbody tr th {\n",
              "        vertical-align: top;\n",
              "    }\n",
              "\n",
              "    .dataframe thead th {\n",
              "        text-align: right;\n",
              "    }\n",
              "</style>\n",
              "<table border=\"1\" class=\"dataframe\">\n",
              "  <thead>\n",
              "    <tr style=\"text-align: right;\">\n",
              "      <th></th>\n",
              "      <th>item_category_id</th>\n",
              "      <th>category_price_avg</th>\n",
              "      <th>category_price_std</th>\n",
              "      <th>category_price_median</th>\n",
              "      <th>category_num_unique_items</th>\n",
              "      <th>category_num_unique_shops</th>\n",
              "      <th>category_num_sold_items</th>\n",
              "    </tr>\n",
              "  </thead>\n",
              "  <tbody>\n",
              "    <tr>\n",
              "      <th>12</th>\n",
              "      <td>12</td>\n",
              "      <td>22889.299108</td>\n",
              "      <td>3768.189388</td>\n",
              "      <td>22990.0</td>\n",
              "      <td>17</td>\n",
              "      <td>53</td>\n",
              "      <td>13230.0</td>\n",
              "    </tr>\n",
              "    <tr>\n",
              "      <th>16</th>\n",
              "      <td>16</td>\n",
              "      <td>18682.561005</td>\n",
              "      <td>8365.747367</td>\n",
              "      <td>20499.0</td>\n",
              "      <td>18</td>\n",
              "      <td>50</td>\n",
              "      <td>2827.0</td>\n",
              "    </tr>\n",
              "    <tr>\n",
              "      <th>11</th>\n",
              "      <td>11</td>\n",
              "      <td>12686.742018</td>\n",
              "      <td>2072.853817</td>\n",
              "      <td>13490.0</td>\n",
              "      <td>41</td>\n",
              "      <td>54</td>\n",
              "      <td>6403.0</td>\n",
              "    </tr>\n",
              "    <tr>\n",
              "      <th>15</th>\n",
              "      <td>15</td>\n",
              "      <td>12024.564613</td>\n",
              "      <td>2878.104814</td>\n",
              "      <td>11491.0</td>\n",
              "      <td>36</td>\n",
              "      <td>54</td>\n",
              "      <td>5980.0</td>\n",
              "    </tr>\n",
              "    <tr>\n",
              "      <th>14</th>\n",
              "      <td>14</td>\n",
              "      <td>9263.114423</td>\n",
              "      <td>1545.446646</td>\n",
              "      <td>9490.0</td>\n",
              "      <td>18</td>\n",
              "      <td>55</td>\n",
              "      <td>3062.0</td>\n",
              "    </tr>\n",
              "    <tr>\n",
              "      <th>...</th>\n",
              "      <td>...</td>\n",
              "      <td>...</td>\n",
              "      <td>...</td>\n",
              "      <td>...</td>\n",
              "      <td>...</td>\n",
              "      <td>...</td>\n",
              "      <td>...</td>\n",
              "    </tr>\n",
              "    <tr>\n",
              "      <th>0</th>\n",
              "      <td>0</td>\n",
              "      <td>87.800000</td>\n",
              "      <td>62.961258</td>\n",
              "      <td>93.0</td>\n",
              "      <td>3</td>\n",
              "      <td>3</td>\n",
              "      <td>3.0</td>\n",
              "    </tr>\n",
              "    <tr>\n",
              "      <th>66</th>\n",
              "      <td>66</td>\n",
              "      <td>76.778940</td>\n",
              "      <td>42.959877</td>\n",
              "      <td>70.0</td>\n",
              "      <td>178</td>\n",
              "      <td>23</td>\n",
              "      <td>5910.0</td>\n",
              "    </tr>\n",
              "    <tr>\n",
              "      <th>82</th>\n",
              "      <td>82</td>\n",
              "      <td>32.481014</td>\n",
              "      <td>17.040604</td>\n",
              "      <td>30.0</td>\n",
              "      <td>8</td>\n",
              "      <td>23</td>\n",
              "      <td>10437.0</td>\n",
              "    </tr>\n",
              "    <tr>\n",
              "      <th>50</th>\n",
              "      <td>50</td>\n",
              "      <td>20.500000</td>\n",
              "      <td>4.949747</td>\n",
              "      <td>20.5</td>\n",
              "      <td>2</td>\n",
              "      <td>1</td>\n",
              "      <td>3.0</td>\n",
              "    </tr>\n",
              "    <tr>\n",
              "      <th>71</th>\n",
              "      <td>71</td>\n",
              "      <td>4.931371</td>\n",
              "      <td>0.606930</td>\n",
              "      <td>5.0</td>\n",
              "      <td>6</td>\n",
              "      <td>54</td>\n",
              "      <td>187998.0</td>\n",
              "    </tr>\n",
              "  </tbody>\n",
              "</table>\n",
              "<p>84 rows × 7 columns</p>\n",
              "</div>"
            ],
            "text/plain": [
              "    item_category_id  ...  category_num_sold_items\n",
              "12                12  ...                  13230.0\n",
              "16                16  ...                   2827.0\n",
              "11                11  ...                   6403.0\n",
              "15                15  ...                   5980.0\n",
              "14                14  ...                   3062.0\n",
              "..               ...  ...                      ...\n",
              "0                  0  ...                      3.0\n",
              "66                66  ...                   5910.0\n",
              "82                82  ...                  10437.0\n",
              "50                50  ...                      3.0\n",
              "71                71  ...                 187998.0\n",
              "\n",
              "[84 rows x 7 columns]"
            ]
          },
          "metadata": {
            "tags": []
          }
        }
      ]
    },
    {
      "cell_type": "code",
      "metadata": {
        "id": "7CL5GaerB5-V",
        "colab_type": "code",
        "colab": {
          "base_uri": "https://localhost:8080/",
          "height": 761
        },
        "outputId": "a4025522-0d50-405f-fcdd-b6ae40b0b735"
      },
      "source": [
        "fig, ax = plt.subplots()\n",
        "ax.plot(tmp.item_category_id, tmp.category_price_avg) \n",
        "ax.plot(tmp.item_category_id, tmp.category_price_median, color = 'red')\n",
        "ax3 = ax.twinx()\n",
        "ax3.plot(tmp.item_category_id, tmp.category_num_unique_items, color = 'green')\n",
        "plt.show()\n",
        "\n",
        "fig, ax = plt.subplots()\n",
        "ax.plot(tmp.item_category_id, tmp.category_num_unique_items, color = 'red')\n",
        "ax2 = ax.twinx()\n",
        "ax2.plot(tmp.item_category_id, tmp.category_num_sold_items, color = 'blue')\n",
        "plt.show()\n",
        "\n",
        "fig, ax = plt.subplots()\n",
        "ax.plot(tmp.item_category_id, tmp.category_num_unique_items, color = 'green')\n",
        "ax3 = ax.twinx()\n",
        "ax3.plot(tmp.item_category_id, tmp.category_num_unique_shops, color = 'red')\n",
        "plt.show()\n"
      ],
      "execution_count": 30,
      "outputs": [
        {
          "output_type": "display_data",
          "data": {
            "image/png": "[encoded data removed]",
            "text/plain": [
              "<Figure size 432x288 with 2 Axes>"
            ]
          },
          "metadata": {
            "tags": [],
            "needs_background": "light"
          }
        },
        {
          "output_type": "display_data",
          "data": {
            "image/png": "[encoded data removed]",
            "text/plain": [
              "<Figure size 432x288 with 2 Axes>"
            ]
          },
          "metadata": {
            "tags": [],
            "needs_background": "light"
          }
        },
        {
          "output_type": "display_data",
          "data": {
            "image/png": "[encoded data removed]",
            "text/plain": [
              "<Figure size 432x288 with 2 Axes>"
            ]
          },
          "metadata": {
            "tags": [],
            "needs_background": "light"
          }
        }
      ]
    },
    {
      "cell_type": "markdown",
      "metadata": {
        "id": "q_Aubv31Cf-T",
        "colab_type": "text"
      },
      "source": [
        "There are around 80 different categories. \n",
        "\n",
        "There are no big differences in general between median and mean, so it seems that the majority of items in a category are of similar values. \n",
        "\n",
        "There are 2 categories with much higher mean and median values. These categories have very few different items, whereas other categories with lower price have almost 2000 and 5000 different items!\n",
        "\n",
        "In the second plot, we can observe that the number of unique items in a category is a good proxy for the number of items sold of that category... it seems it can be a good feature.\n",
        "\n",
        "Also in the third plot we can see that some categories are sold in very few shops, whereas the majority of them are sold in the majority of shops.\n",
        "\n",
        "This can be measured not only in the whole dataset, but in the previous month, lasy 6 months, last 12 months.\n",
        "\n"
      ]
    },
    {
      "cell_type": "code",
      "metadata": {
        "id": "kUakgO3MCP3O",
        "colab_type": "code",
        "colab": {
          "base_uri": "https://localhost:8080/",
          "height": 204
        },
        "outputId": "bf306bef-1592-4f26-8935-18c8c0f23f2e"
      },
      "source": [
        "tmp = sales_rawdata.groupby('shop_id').agg(sales_volume = ('item_cnt_day', 'sum'),\n",
        "                                           num_unique_items = ('item_id', 'nunique'),\n",
        "                                           num_unique_categories = ('item_category_id', 'nunique')).reset_index()\n",
        "display(tmp.head())"
      ],
      "execution_count": 31,
      "outputs": [
        {
          "output_type": "display_data",
          "data": {
            "text/html": [
              "<div>\n",
              "<style scoped>\n",
              "    .dataframe tbody tr th:only-of-type {\n",
              "        vertical-align: middle;\n",
              "    }\n",
              "\n",
              "    .dataframe tbody tr th {\n",
              "        vertical-align: top;\n",
              "    }\n",
              "\n",
              "    .dataframe thead th {\n",
              "        text-align: right;\n",
              "    }\n",
              "</style>\n",
              "<table border=\"1\" class=\"dataframe\">\n",
              "  <thead>\n",
              "    <tr style=\"text-align: right;\">\n",
              "      <th></th>\n",
              "      <th>shop_id</th>\n",
              "      <th>sales_volume</th>\n",
              "      <th>num_unique_items</th>\n",
              "      <th>num_unique_categories</th>\n",
              "    </tr>\n",
              "  </thead>\n",
              "  <tbody>\n",
              "    <tr>\n",
              "      <th>0</th>\n",
              "      <td>0</td>\n",
              "      <td>11705.0</td>\n",
              "      <td>3600</td>\n",
              "      <td>48</td>\n",
              "    </tr>\n",
              "    <tr>\n",
              "      <th>1</th>\n",
              "      <td>1</td>\n",
              "      <td>6311.0</td>\n",
              "      <td>2523</td>\n",
              "      <td>41</td>\n",
              "    </tr>\n",
              "    <tr>\n",
              "      <th>2</th>\n",
              "      <td>2</td>\n",
              "      <td>30620.0</td>\n",
              "      <td>4849</td>\n",
              "      <td>59</td>\n",
              "    </tr>\n",
              "    <tr>\n",
              "      <th>3</th>\n",
              "      <td>3</td>\n",
              "      <td>28355.0</td>\n",
              "      <td>5261</td>\n",
              "      <td>58</td>\n",
              "    </tr>\n",
              "    <tr>\n",
              "      <th>4</th>\n",
              "      <td>4</td>\n",
              "      <td>43942.0</td>\n",
              "      <td>7309</td>\n",
              "      <td>61</td>\n",
              "    </tr>\n",
              "  </tbody>\n",
              "</table>\n",
              "</div>"
            ],
            "text/plain": [
              "   shop_id  sales_volume  num_unique_items  num_unique_categories\n",
              "0        0       11705.0              3600                     48\n",
              "1        1        6311.0              2523                     41\n",
              "2        2       30620.0              4849                     59\n",
              "3        3       28355.0              5261                     58\n",
              "4        4       43942.0              7309                     61"
            ]
          },
          "metadata": {
            "tags": []
          }
        }
      ]
    },
    {
      "cell_type": "code",
      "metadata": {
        "id": "aAWi82HjOQil",
        "colab_type": "code",
        "colab": {
          "base_uri": "https://localhost:8080/",
          "height": 516
        },
        "outputId": "e7702779-c7da-4176-bd0b-20623bd7cfb1"
      },
      "source": [
        "fig, ax = plt.subplots()\n",
        "ax.plot(tmp.shop_id, tmp.sales_volume)\n",
        "ax2 = ax.twinx()\n",
        "ax2.plot(tmp.shop_id, tmp.num_unique_items, color = 'red')\n",
        "plt.show()\n",
        "\n",
        "fig, ax = plt.subplots()\n",
        "ax.plot(tmp.shop_id, tmp.sales_volume)\n",
        "ax2 = ax.twinx()\n",
        "ax2.plot(tmp.shop_id, tmp.num_unique_categories, color = 'red')\n",
        "plt.show()"
      ],
      "execution_count": 32,
      "outputs": [
        {
          "output_type": "display_data",
          "data": {
            "image/png": "[encoded data removed]",
            "text/plain": [
              "<Figure size 432x288 with 2 Axes>"
            ]
          },
          "metadata": {
            "tags": [],
            "needs_background": "light"
          }
        },
        {
          "output_type": "display_data",
          "data": {
            "image/png": "[encoded data removed]",
            "text/plain": [
              "<Figure size 432x288 with 2 Axes>"
            ]
          },
          "metadata": {
            "tags": [],
            "needs_background": "light"
          }
        }
      ]
    },
    {
      "cell_type": "markdown",
      "metadata": {
        "id": "_3Hu6tjtO2Vm",
        "colab_type": "text"
      },
      "source": [
        "It seems to be some correlation among the number of different items sold in a shop and the sales volume. It might be handy to have a comparative feature of % of items sold in the shop.\n",
        "\n",
        "With respect to the categories, the correlation is not so clear to me."
      ]
    },
    {
      "cell_type": "code",
      "metadata": {
        "id": "SQlPKFN9OyHZ",
        "colab_type": "code",
        "colab": {
          "base_uri": "https://localhost:8080/",
          "height": 204
        },
        "outputId": "5f68b3be-0237-4f71-f837-0343ff354101"
      },
      "source": [
        "item_median_price = sales_rawdata.groupby('item_id').agg(median_price = ('item_price', 'median'),\n",
        "                                                      num_shops = ('shop_id', 'nunique')).reset_index()\n",
        "display(item_median_price.sort_values('num_shops', ascending = False).head())"
      ],
      "execution_count": 33,
      "outputs": [
        {
          "output_type": "display_data",
          "data": {
            "text/html": [
              "<div>\n",
              "<style scoped>\n",
              "    .dataframe tbody tr th:only-of-type {\n",
              "        vertical-align: middle;\n",
              "    }\n",
              "\n",
              "    .dataframe tbody tr th {\n",
              "        vertical-align: top;\n",
              "    }\n",
              "\n",
              "    .dataframe thead th {\n",
              "        text-align: right;\n",
              "    }\n",
              "</style>\n",
              "<table border=\"1\" class=\"dataframe\">\n",
              "  <thead>\n",
              "    <tr style=\"text-align: right;\">\n",
              "      <th></th>\n",
              "      <th>item_id</th>\n",
              "      <th>median_price</th>\n",
              "      <th>num_shops</th>\n",
              "    </tr>\n",
              "  </thead>\n",
              "  <tbody>\n",
              "    <tr>\n",
              "      <th>3014</th>\n",
              "      <td>3076</td>\n",
              "      <td>799.0</td>\n",
              "      <td>58</td>\n",
              "    </tr>\n",
              "    <tr>\n",
              "      <th>2263</th>\n",
              "      <td>2308</td>\n",
              "      <td>299.0</td>\n",
              "      <td>58</td>\n",
              "    </tr>\n",
              "    <tr>\n",
              "      <th>2749</th>\n",
              "      <td>2808</td>\n",
              "      <td>999.0</td>\n",
              "      <td>58</td>\n",
              "    </tr>\n",
              "    <tr>\n",
              "      <th>5717</th>\n",
              "      <td>5822</td>\n",
              "      <td>1049.0</td>\n",
              "      <td>58</td>\n",
              "    </tr>\n",
              "    <tr>\n",
              "      <th>3015</th>\n",
              "      <td>3077</td>\n",
              "      <td>799.0</td>\n",
              "      <td>57</td>\n",
              "    </tr>\n",
              "  </tbody>\n",
              "</table>\n",
              "</div>"
            ],
            "text/plain": [
              "      item_id  median_price  num_shops\n",
              "3014     3076         799.0         58\n",
              "2263     2308         299.0         58\n",
              "2749     2808         999.0         58\n",
              "5717     5822        1049.0         58\n",
              "3015     3077         799.0         57"
            ]
          },
          "metadata": {
            "tags": []
          }
        }
      ]
    },
    {
      "cell_type": "code",
      "metadata": {
        "id": "mz0aoviAUkgF",
        "colab_type": "code",
        "colab": {}
      },
      "source": [
        "tmp = sales_rawdata.merge(item_median_price, on = 'item_id')\n",
        "tmp['overprice'] = (tmp['item_price']-tmp['median_price']) / tmp['median_price']\n",
        "tmp['exclusivity'] = 1 - tmp['num_shops']/tmp.shop_id.nunique()\n",
        "tmp2 = tmp.groupby('shop_id').agg(sales_volume = ('item_cnt_day', 'sum'),\n",
        "                                  mean_overprice = ('overprice', 'mean'),\n",
        "                                  mean_exclusivity = ('exclusivity', 'mean')).reset_index()\n",
        "                                  "
      ],
      "execution_count": 34,
      "outputs": []
    },
    {
      "cell_type": "code",
      "metadata": {
        "id": "S6ehNLFOVYgt",
        "colab_type": "code",
        "colab": {
          "base_uri": "https://localhost:8080/",
          "height": 513
        },
        "outputId": "85202057-aaea-46fb-cac4-6a21aa38c1c2"
      },
      "source": [
        "fig, ax = plt.subplots()\n",
        "ax.plot(tmp2.shop_id, tmp2.sales_volume)\n",
        "ax2 = ax.twinx()\n",
        "ax2.plot(tmp2.shop_id, tmp2.mean_overprice, color = 'red')\n",
        "plt.show()\n",
        "\n",
        "fig, ax = plt.subplots()\n",
        "ax.plot(tmp2.shop_id, tmp2.sales_volume)\n",
        "ax2 = ax.twinx()\n",
        "ax2.plot(tmp2.shop_id, tmp2.mean_exclusivity, color = 'green')\n",
        "plt.show()"
      ],
      "execution_count": 35,
      "outputs": [
        {
          "output_type": "display_data",
          "data": {
            "image/png": "[encoded data removed]",
            "text/plain": [
              "<Figure size 432x288 with 2 Axes>"
            ]
          },
          "metadata": {
            "tags": [],
            "needs_background": "light"
          }
        },
        {
          "output_type": "display_data",
          "data": {
            "image/png": "[encoded data removed]",
            "text/plain": [
              "<Figure size 432x288 with 2 Axes>"
            ]
          },
          "metadata": {
            "tags": [],
            "needs_background": "light"
          }
        }
      ]
    },
    {
      "cell_type": "markdown",
      "metadata": {
        "id": "gGUFxDKDXwhz",
        "colab_type": "text"
      },
      "source": [
        "The overprice seems to be somehow related to the sales volume of the shops (though not entirely). The exclusivity is not so related.\n",
        "\n",
        "Anyway, these might be useful features when calculated over time (last month, last 6 months, last 12 months)"
      ]
    },
    {
      "cell_type": "code",
      "metadata": {
        "id": "9PKc6PmeXcnc",
        "colab_type": "code",
        "colab": {}
      },
      "source": [
        "tmp = sales_rawdata.groupby('date_block_num').agg(sales_volume = ('item_cnt_day', 'sum'),\n",
        "                                            nunique_category = ('item_category_id', 'nunique'),\n",
        "                                            nunique_shops = ('shop_id', 'nunique')).reset_index()"
      ],
      "execution_count": 36,
      "outputs": []
    },
    {
      "cell_type": "code",
      "metadata": {
        "id": "l10o3g8C7CZT",
        "colab_type": "code",
        "colab": {
          "base_uri": "https://localhost:8080/",
          "height": 265
        },
        "outputId": "6d9a2a02-60a8-467a-e826-07aa413ce88b"
      },
      "source": [
        "plt.plot(tmp.date_block_num, tmp.sales_volume)\n",
        "plt.show()"
      ],
      "execution_count": 37,
      "outputs": [
        {
          "output_type": "display_data",
          "data": {
            "image/png": "[encoded data removed]",
            "text/plain": [
              "<Figure size 432x288 with 1 Axes>"
            ]
          },
          "metadata": {
            "tags": [],
            "needs_background": "light"
          }
        }
      ]
    },
    {
      "cell_type": "code",
      "metadata": {
        "id": "PJbWp0Qmpjpp",
        "colab_type": "code",
        "colab": {
          "base_uri": "https://localhost:8080/",
          "height": 265
        },
        "outputId": "1f68eaad-9eca-47ae-a4e6-32a9e17c1f13"
      },
      "source": [
        "plt.plot(tmp.date_block_num, tmp.nunique_category)\n",
        "plt.show()"
      ],
      "execution_count": 38,
      "outputs": [
        {
          "output_type": "display_data",
          "data": {
            "image/png": "[encoded data removed]",
            "text/plain": [
              "<Figure size 432x288 with 1 Axes>"
            ]
          },
          "metadata": {
            "tags": [],
            "needs_background": "light"
          }
        }
      ]
    },
    {
      "cell_type": "code",
      "metadata": {
        "id": "o0UVpAPMpl2O",
        "colab_type": "code",
        "colab": {
          "base_uri": "https://localhost:8080/",
          "height": 265
        },
        "outputId": "ff0a2b5b-a550-4f63-a807-cd88c3f48915"
      },
      "source": [
        "plt.plot(tmp.date_block_num, tmp.nunique_shops)\n",
        "plt.show()"
      ],
      "execution_count": 39,
      "outputs": [
        {
          "output_type": "display_data",
          "data": {
            "image/png": "[encoded data removed]",
            "text/plain": [
              "<Figure size 432x288 with 1 Axes>"
            ]
          },
          "metadata": {
            "tags": [],
            "needs_background": "light"
          }
        }
      ]
    },
    {
      "cell_type": "markdown",
      "metadata": {
        "id": "BfjGrmlB7CtY",
        "colab_type": "text"
      },
      "source": [
        "# Feature cleaning and engineering"
      ]
    },
    {
      "cell_type": "code",
      "metadata": {
        "id": "sIxisiEnCWLL",
        "colab_type": "code",
        "colab": {}
      },
      "source": [
        "sales_rawdata = pd.read_csv('rawdata/sales_train.csv')\n",
        "shops_rawdata = pd.read_csv('rawdata/shops.csv')\n",
        "categories_rawdata = pd.read_csv('rawdata/item_categories.csv')\n",
        "items_rawdata = pd.read_csv('rawdata/items.csv')\n"
      ],
      "execution_count": 40,
      "outputs": []
    },
    {
      "cell_type": "code",
      "metadata": {
        "id": "IsVDhjp5EqTi",
        "colab_type": "code",
        "colab": {
          "base_uri": "https://localhost:8080/",
          "height": 204
        },
        "outputId": "13c0333f-cba5-4626-e4b0-f5cb4994c707"
      },
      "source": [
        "sales_rawdata = sales_rawdata.merge(items_rawdata.loc[:, ['item_id', 'item_category_id']], on = 'item_id')\n",
        "display(sales_rawdata.head())"
      ],
      "execution_count": 41,
      "outputs": [
        {
          "output_type": "display_data",
          "data": {
            "text/html": [
              "<div>\n",
              "<style scoped>\n",
              "    .dataframe tbody tr th:only-of-type {\n",
              "        vertical-align: middle;\n",
              "    }\n",
              "\n",
              "    .dataframe tbody tr th {\n",
              "        vertical-align: top;\n",
              "    }\n",
              "\n",
              "    .dataframe thead th {\n",
              "        text-align: right;\n",
              "    }\n",
              "</style>\n",
              "<table border=\"1\" class=\"dataframe\">\n",
              "  <thead>\n",
              "    <tr style=\"text-align: right;\">\n",
              "      <th></th>\n",
              "      <th>date</th>\n",
              "      <th>date_block_num</th>\n",
              "      <th>shop_id</th>\n",
              "      <th>item_id</th>\n",
              "      <th>item_price</th>\n",
              "      <th>item_cnt_day</th>\n",
              "      <th>item_category_id</th>\n",
              "    </tr>\n",
              "  </thead>\n",
              "  <tbody>\n",
              "    <tr>\n",
              "      <th>0</th>\n",
              "      <td>02.01.2013</td>\n",
              "      <td>0</td>\n",
              "      <td>59</td>\n",
              "      <td>22154</td>\n",
              "      <td>999.0</td>\n",
              "      <td>1.0</td>\n",
              "      <td>37</td>\n",
              "    </tr>\n",
              "    <tr>\n",
              "      <th>1</th>\n",
              "      <td>23.01.2013</td>\n",
              "      <td>0</td>\n",
              "      <td>24</td>\n",
              "      <td>22154</td>\n",
              "      <td>999.0</td>\n",
              "      <td>1.0</td>\n",
              "      <td>37</td>\n",
              "    </tr>\n",
              "    <tr>\n",
              "      <th>2</th>\n",
              "      <td>20.01.2013</td>\n",
              "      <td>0</td>\n",
              "      <td>27</td>\n",
              "      <td>22154</td>\n",
              "      <td>999.0</td>\n",
              "      <td>1.0</td>\n",
              "      <td>37</td>\n",
              "    </tr>\n",
              "    <tr>\n",
              "      <th>3</th>\n",
              "      <td>02.01.2013</td>\n",
              "      <td>0</td>\n",
              "      <td>25</td>\n",
              "      <td>22154</td>\n",
              "      <td>999.0</td>\n",
              "      <td>1.0</td>\n",
              "      <td>37</td>\n",
              "    </tr>\n",
              "    <tr>\n",
              "      <th>4</th>\n",
              "      <td>03.01.2013</td>\n",
              "      <td>0</td>\n",
              "      <td>25</td>\n",
              "      <td>22154</td>\n",
              "      <td>999.0</td>\n",
              "      <td>1.0</td>\n",
              "      <td>37</td>\n",
              "    </tr>\n",
              "  </tbody>\n",
              "</table>\n",
              "</div>"
            ],
            "text/plain": [
              "         date  date_block_num  ...  item_cnt_day  item_category_id\n",
              "0  02.01.2013               0  ...           1.0                37\n",
              "1  23.01.2013               0  ...           1.0                37\n",
              "2  20.01.2013               0  ...           1.0                37\n",
              "3  02.01.2013               0  ...           1.0                37\n",
              "4  03.01.2013               0  ...           1.0                37\n",
              "\n",
              "[5 rows x 7 columns]"
            ]
          },
          "metadata": {
            "tags": []
          }
        }
      ]
    },
    {
      "cell_type": "code",
      "metadata": {
        "id": "j-TCuBcxFaHr",
        "colab_type": "code",
        "colab": {}
      },
      "source": [
        ""
      ],
      "execution_count": 41,
      "outputs": []
    },
    {
      "cell_type": "code",
      "metadata": {
        "id": "KEHWiBgN7FkV",
        "colab_type": "code",
        "colab": {}
      },
      "source": [
        "# First, the dataset is going to be considered complete, i.e., with returns\n",
        "sales_data = sales_rawdata.copy(deep=True)\n",
        "sales_data['month'] = sales_data['date'].apply(lambda date_str: int(date_str[3:5]))\n",
        "sales_data['year'] = sales_data['date'].apply(lambda date_str: int(date_str[6:]))\n",
        "sales_data['month_year'] = sales_data['date'].apply(lambda date_str: date_str[3:])\n"
      ],
      "execution_count": 42,
      "outputs": []
    },
    {
      "cell_type": "code",
      "metadata": {
        "id": "CjPpomNVzgAG",
        "colab_type": "code",
        "colab": {
          "base_uri": "https://localhost:8080/",
          "height": 142
        },
        "outputId": "a9fb53b1-e953-4507-ff2b-d75e3fd4cb1f"
      },
      "source": [
        "year_totals = sales_data.groupby('year').agg(item_count_year = ('item_cnt_day', 'sum'),\n",
        "                                             item_nunique_year = ('item_id', 'nunique'),\n",
        "                                             cat_nunique_year = ('item_category_id', 'nunique'),\n",
        "                                             shop_nunique_year = ('shop_id', 'nunique')).reset_index()\n",
        "display(year_totals)"
      ],
      "execution_count": 43,
      "outputs": [
        {
          "output_type": "display_data",
          "data": {
            "text/html": [
              "<div>\n",
              "<style scoped>\n",
              "    .dataframe tbody tr th:only-of-type {\n",
              "        vertical-align: middle;\n",
              "    }\n",
              "\n",
              "    .dataframe tbody tr th {\n",
              "        vertical-align: top;\n",
              "    }\n",
              "\n",
              "    .dataframe thead th {\n",
              "        text-align: right;\n",
              "    }\n",
              "</style>\n",
              "<table border=\"1\" class=\"dataframe\">\n",
              "  <thead>\n",
              "    <tr style=\"text-align: right;\">\n",
              "      <th></th>\n",
              "      <th>year</th>\n",
              "      <th>item_count_year</th>\n",
              "      <th>item_nunique_year</th>\n",
              "      <th>cat_nunique_year</th>\n",
              "      <th>shop_nunique_year</th>\n",
              "    </tr>\n",
              "  </thead>\n",
              "  <tbody>\n",
              "    <tr>\n",
              "      <th>0</th>\n",
              "      <td>2013</td>\n",
              "      <td>1562733.0</td>\n",
              "      <td>14971</td>\n",
              "      <td>70</td>\n",
              "      <td>52</td>\n",
              "    </tr>\n",
              "    <tr>\n",
              "      <th>1</th>\n",
              "      <td>2014</td>\n",
              "      <td>1320889.0</td>\n",
              "      <td>14108</td>\n",
              "      <td>73</td>\n",
              "      <td>53</td>\n",
              "    </tr>\n",
              "    <tr>\n",
              "      <th>2</th>\n",
              "      <td>2015</td>\n",
              "      <td>764584.0</td>\n",
              "      <td>11249</td>\n",
              "      <td>73</td>\n",
              "      <td>54</td>\n",
              "    </tr>\n",
              "  </tbody>\n",
              "</table>\n",
              "</div>"
            ],
            "text/plain": [
              "   year  item_count_year  ...  cat_nunique_year  shop_nunique_year\n",
              "0  2013        1562733.0  ...                70                 52\n",
              "1  2014        1320889.0  ...                73                 53\n",
              "2  2015         764584.0  ...                73                 54\n",
              "\n",
              "[3 rows x 5 columns]"
            ]
          },
          "metadata": {
            "tags": []
          }
        }
      ]
    },
    {
      "cell_type": "code",
      "metadata": {
        "id": "K64Y7HpvvqQk",
        "colab_type": "code",
        "colab": {
          "base_uri": "https://localhost:8080/",
          "height": 669
        },
        "outputId": "242bef6d-520b-4541-fdfb-8b520df9524f"
      },
      "source": [
        "month_features = sales_data.groupby(['date_block_num','month','year']).agg(item_count_month = ('item_cnt_day', 'sum'),\n",
        "                                                                  item_nunique_month = ('item_id', 'nunique'),\n",
        "                                                                  cat_nunique_month = ('item_category_id', 'nunique'),\n",
        "                                                                  shop_nunique_month = ('shop_id', 'nunique')).reset_index()\n",
        "display(month_features.head(20))"
      ],
      "execution_count": 45,
      "outputs": [
        {
          "output_type": "display_data",
          "data": {
            "text/html": [
              "<div>\n",
              "<style scoped>\n",
              "    .dataframe tbody tr th:only-of-type {\n",
              "        vertical-align: middle;\n",
              "    }\n",
              "\n",
              "    .dataframe tbody tr th {\n",
              "        vertical-align: top;\n",
              "    }\n",
              "\n",
              "    .dataframe thead th {\n",
              "        text-align: right;\n",
              "    }\n",
              "</style>\n",
              "<table border=\"1\" class=\"dataframe\">\n",
              "  <thead>\n",
              "    <tr style=\"text-align: right;\">\n",
              "      <th></th>\n",
              "      <th>date_block_num</th>\n",
              "      <th>month</th>\n",
              "      <th>year</th>\n",
              "      <th>item_count_month</th>\n",
              "      <th>item_nunique_month</th>\n",
              "      <th>cat_nunique_month</th>\n",
              "      <th>shop_nunique_month</th>\n",
              "    </tr>\n",
              "  </thead>\n",
              "  <tbody>\n",
              "    <tr>\n",
              "      <th>0</th>\n",
              "      <td>0</td>\n",
              "      <td>1</td>\n",
              "      <td>2013</td>\n",
              "      <td>131479.0</td>\n",
              "      <td>8115</td>\n",
              "      <td>56</td>\n",
              "      <td>45</td>\n",
              "    </tr>\n",
              "    <tr>\n",
              "      <th>1</th>\n",
              "      <td>1</td>\n",
              "      <td>2</td>\n",
              "      <td>2013</td>\n",
              "      <td>128090.0</td>\n",
              "      <td>8168</td>\n",
              "      <td>57</td>\n",
              "      <td>46</td>\n",
              "    </tr>\n",
              "    <tr>\n",
              "      <th>2</th>\n",
              "      <td>2</td>\n",
              "      <td>3</td>\n",
              "      <td>2013</td>\n",
              "      <td>147142.0</td>\n",
              "      <td>8302</td>\n",
              "      <td>53</td>\n",
              "      <td>46</td>\n",
              "    </tr>\n",
              "    <tr>\n",
              "      <th>3</th>\n",
              "      <td>3</td>\n",
              "      <td>4</td>\n",
              "      <td>2013</td>\n",
              "      <td>107190.0</td>\n",
              "      <td>8145</td>\n",
              "      <td>54</td>\n",
              "      <td>46</td>\n",
              "    </tr>\n",
              "    <tr>\n",
              "      <th>4</th>\n",
              "      <td>4</td>\n",
              "      <td>5</td>\n",
              "      <td>2013</td>\n",
              "      <td>106970.0</td>\n",
              "      <td>8339</td>\n",
              "      <td>60</td>\n",
              "      <td>45</td>\n",
              "    </tr>\n",
              "    <tr>\n",
              "      <th>5</th>\n",
              "      <td>5</td>\n",
              "      <td>6</td>\n",
              "      <td>2013</td>\n",
              "      <td>125381.0</td>\n",
              "      <td>8478</td>\n",
              "      <td>57</td>\n",
              "      <td>46</td>\n",
              "    </tr>\n",
              "    <tr>\n",
              "      <th>6</th>\n",
              "      <td>6</td>\n",
              "      <td>7</td>\n",
              "      <td>2013</td>\n",
              "      <td>116966.0</td>\n",
              "      <td>8405</td>\n",
              "      <td>59</td>\n",
              "      <td>46</td>\n",
              "    </tr>\n",
              "    <tr>\n",
              "      <th>7</th>\n",
              "      <td>7</td>\n",
              "      <td>8</td>\n",
              "      <td>2013</td>\n",
              "      <td>125291.0</td>\n",
              "      <td>8031</td>\n",
              "      <td>59</td>\n",
              "      <td>45</td>\n",
              "    </tr>\n",
              "    <tr>\n",
              "      <th>8</th>\n",
              "      <td>8</td>\n",
              "      <td>9</td>\n",
              "      <td>2013</td>\n",
              "      <td>133332.0</td>\n",
              "      <td>7876</td>\n",
              "      <td>59</td>\n",
              "      <td>45</td>\n",
              "    </tr>\n",
              "    <tr>\n",
              "      <th>9</th>\n",
              "      <td>9</td>\n",
              "      <td>10</td>\n",
              "      <td>2013</td>\n",
              "      <td>127541.0</td>\n",
              "      <td>8039</td>\n",
              "      <td>61</td>\n",
              "      <td>46</td>\n",
              "    </tr>\n",
              "    <tr>\n",
              "      <th>10</th>\n",
              "      <td>10</td>\n",
              "      <td>11</td>\n",
              "      <td>2013</td>\n",
              "      <td>130009.0</td>\n",
              "      <td>8089</td>\n",
              "      <td>62</td>\n",
              "      <td>45</td>\n",
              "    </tr>\n",
              "    <tr>\n",
              "      <th>11</th>\n",
              "      <td>11</td>\n",
              "      <td>12</td>\n",
              "      <td>2013</td>\n",
              "      <td>183342.0</td>\n",
              "      <td>8474</td>\n",
              "      <td>63</td>\n",
              "      <td>46</td>\n",
              "    </tr>\n",
              "    <tr>\n",
              "      <th>12</th>\n",
              "      <td>12</td>\n",
              "      <td>1</td>\n",
              "      <td>2014</td>\n",
              "      <td>116899.0</td>\n",
              "      <td>7551</td>\n",
              "      <td>61</td>\n",
              "      <td>46</td>\n",
              "    </tr>\n",
              "    <tr>\n",
              "      <th>13</th>\n",
              "      <td>13</td>\n",
              "      <td>2</td>\n",
              "      <td>2014</td>\n",
              "      <td>109687.0</td>\n",
              "      <td>7134</td>\n",
              "      <td>61</td>\n",
              "      <td>46</td>\n",
              "    </tr>\n",
              "    <tr>\n",
              "      <th>14</th>\n",
              "      <td>14</td>\n",
              "      <td>3</td>\n",
              "      <td>2014</td>\n",
              "      <td>115297.0</td>\n",
              "      <td>7142</td>\n",
              "      <td>61</td>\n",
              "      <td>48</td>\n",
              "    </tr>\n",
              "    <tr>\n",
              "      <th>15</th>\n",
              "      <td>15</td>\n",
              "      <td>4</td>\n",
              "      <td>2014</td>\n",
              "      <td>96556.0</td>\n",
              "      <td>6774</td>\n",
              "      <td>60</td>\n",
              "      <td>49</td>\n",
              "    </tr>\n",
              "    <tr>\n",
              "      <th>16</th>\n",
              "      <td>16</td>\n",
              "      <td>5</td>\n",
              "      <td>2014</td>\n",
              "      <td>97790.0</td>\n",
              "      <td>6685</td>\n",
              "      <td>61</td>\n",
              "      <td>49</td>\n",
              "    </tr>\n",
              "    <tr>\n",
              "      <th>17</th>\n",
              "      <td>17</td>\n",
              "      <td>6</td>\n",
              "      <td>2014</td>\n",
              "      <td>97429.0</td>\n",
              "      <td>6681</td>\n",
              "      <td>61</td>\n",
              "      <td>49</td>\n",
              "    </tr>\n",
              "    <tr>\n",
              "      <th>18</th>\n",
              "      <td>18</td>\n",
              "      <td>7</td>\n",
              "      <td>2014</td>\n",
              "      <td>91280.0</td>\n",
              "      <td>6611</td>\n",
              "      <td>66</td>\n",
              "      <td>50</td>\n",
              "    </tr>\n",
              "    <tr>\n",
              "      <th>19</th>\n",
              "      <td>19</td>\n",
              "      <td>8</td>\n",
              "      <td>2014</td>\n",
              "      <td>102721.0</td>\n",
              "      <td>6363</td>\n",
              "      <td>60</td>\n",
              "      <td>51</td>\n",
              "    </tr>\n",
              "  </tbody>\n",
              "</table>\n",
              "</div>"
            ],
            "text/plain": [
              "    date_block_num  month  ...  cat_nunique_month  shop_nunique_month\n",
              "0                0      1  ...                 56                  45\n",
              "1                1      2  ...                 57                  46\n",
              "2                2      3  ...                 53                  46\n",
              "3                3      4  ...                 54                  46\n",
              "4                4      5  ...                 60                  45\n",
              "5                5      6  ...                 57                  46\n",
              "6                6      7  ...                 59                  46\n",
              "7                7      8  ...                 59                  45\n",
              "8                8      9  ...                 59                  45\n",
              "9                9     10  ...                 61                  46\n",
              "10              10     11  ...                 62                  45\n",
              "11              11     12  ...                 63                  46\n",
              "12              12      1  ...                 61                  46\n",
              "13              13      2  ...                 61                  46\n",
              "14              14      3  ...                 61                  48\n",
              "15              15      4  ...                 60                  49\n",
              "16              16      5  ...                 61                  49\n",
              "17              17      6  ...                 61                  49\n",
              "18              18      7  ...                 66                  50\n",
              "19              19      8  ...                 60                  51\n",
              "\n",
              "[20 rows x 7 columns]"
            ]
          },
          "metadata": {
            "tags": []
          }
        }
      ]
    },
    {
      "cell_type": "code",
      "metadata": {
        "id": "RuoG8P3yPzPK",
        "colab_type": "code",
        "colab": {
          "base_uri": "https://localhost:8080/",
          "height": 34
        },
        "outputId": "5fadd890-7ed0-4a12-d7c0-6f01a11f43da"
      },
      "source": [
        "[25]"
      ],
      "execution_count": 95,
      "outputs": [
        {
          "output_type": "execute_result",
          "data": {
            "text/plain": [
              "[25]"
            ]
          },
          "metadata": {
            "tags": []
          },
          "execution_count": 95
        }
      ]
    },
    {
      "cell_type": "code",
      "metadata": {
        "id": "kZ5IC3OvzHmv",
        "colab_type": "code",
        "colab": {
          "base_uri": "https://localhost:8080/",
          "height": 986
        },
        "outputId": "ee254874-37ac-4d92-868b-d8ada564d75d"
      },
      "source": [
        "m = sales_data.duplicated('item_id')\n",
        "d = sales_data['date_block_num']\n",
        "\n",
        "display((~m).cumsum().groupby(d).last())\n",
        "\n",
        "def items_nunique(data_per_month, ref_date_block, number_blocks):\n",
        "  list_of_item_lists = data_per_month.loc[(data_per_month.date_block_num>=max(0, ref_date_block-number_blocks+1)) \n",
        "                                          & (data_per_month.date_block_num<=ref_date_block), :]\n",
        "  if list_of_item_lists.shape[0] > 0:\n",
        "    #print('not empty')\n",
        "    #list_of_item_lists = list_of_item_lists['item_id'].apply(lambda row: [row.item_id] if not isinstance(row, list) else row)\n",
        "    #print(list_of_item_lists.to_list())\n",
        "    final_list = set(x for l in list_of_item_lists['item_id'].to_list() for x in l)\n",
        "    return len(final_list)\n",
        "  else:\n",
        "    return 0\n",
        "\n",
        "def category_items_nunique(data_per_month, ref_date_block, number_blocks, category_ref):\n",
        "  list_of_item_lists = data_per_month.loc[(data_per_month.date_block_num>=max(0, ref_date_block-number_blocks+1)) \n",
        "                                          & (data_per_month.date_block_num<=ref_date_block) \n",
        "                                          & (data_per_month.item_category_id==category_ref), 'item_id']\n",
        "  if list_of_item_lists.shape[0] > 1:\n",
        "    #print('not empty')\n",
        "    list_of_item_lists = list_of_item_lists.apply(lambda row: [row] if not isinstance(row, list) else row)\n",
        "    #print(list_of_item_lists.to_list())\n",
        "    final_list = set(x for l in list_of_item_lists.to_list() for x in l)\n",
        "    return len(final_list)\n",
        "  elif list_of_item_lists.shape[0] == 1:\n",
        "    list_of_item_lists = list_of_item_lists.apply(lambda row: [row] if not isinstance(row, list) else row)\n",
        "    #print('one element')\n",
        "    #print(list_of_item_lists)\n",
        "    return len(set(list_of_item_lists))\n",
        "  else:\n",
        "    return 0\n",
        "\n",
        "def category_shops_nunique(data_per_month, ref_date_block, number_blocks, category_ref):\n",
        "  list_of_item_lists = data_per_month.loc[(data_per_month.date_block_num>=max(0, ref_date_block-number_blocks+1)) \n",
        "                                          & (data_per_month.date_block_num<=ref_date_block) \n",
        "                                          & (data_per_month.item_category_id==category_ref), 'shop_id']\n",
        "  #print(\"what's going on\")\n",
        "  #print(list_of_item_lists)\n",
        "  if list_of_item_lists.shape[0] > 1:\n",
        "    #print('not empty')\n",
        "    list_of_item_lists = list_of_item_lists.apply(lambda row: [row] if not isinstance(row, list) else row)\n",
        "    #print(list_of_item_lists.to_list())\n",
        "    final_list = set(x for l in list_of_item_lists.to_list() for x in l)\n",
        "    return len(final_list)\n",
        "  elif list_of_item_lists.shape[0] == 1:\n",
        "    list_of_item_lists = list_of_item_lists.apply(lambda row: [row] if not isinstance(row, list) else row)\n",
        "    #print('one element')\n",
        "    #print(list_of_item_lists)\n",
        "    return len(set(list_of_item_lists))\n",
        "  else:\n",
        "    return 0\n",
        "\n",
        "def shop_items_nunique(data_per_month, ref_date_block, number_blocks, shop_ref):\n",
        "  list_of_item_lists = data_per_month.loc[(data_per_month.date_block_num>=max(0, ref_date_block-number_blocks+1)) \n",
        "                                          & (data_per_month.date_block_num<=ref_date_block) \n",
        "                                          & (data_per_month.shop_id==shop_ref), 'item_id']\n",
        "  if list_of_item_lists.shape[0] > 1:\n",
        "    #print('not empty')\n",
        "    list_of_item_lists = list_of_item_lists.apply(lambda row: [row] if not isinstance(row, list) else row)\n",
        "    #print(list_of_item_lists.to_list())\n",
        "    final_list = set(x for l in list_of_item_lists.to_list() for x in l)\n",
        "    return len(final_list)\n",
        "  elif list_of_item_lists.shape[0] == 1:\n",
        "    list_of_item_lists = list_of_item_lists.apply(lambda row: [row] if not isinstance(row, list) else row)\n",
        "    #print('one element')\n",
        "    #print(list_of_item_lists)\n",
        "    return len(set(list_of_item_lists))\n",
        "  else:\n",
        "    return 0\n",
        "\n",
        "def shop_categories_nunique(data_per_month, ref_date_block, number_blocks, shop_ref):\n",
        "  list_of_item_lists = data_per_month.loc[(data_per_month.date_block_num>=max(0, ref_date_block-number_blocks+1)) \n",
        "                                          & (data_per_month.date_block_num<=ref_date_block) \n",
        "                                          & (data_per_month.shop_id==shop_ref), 'item_category_id']\n",
        "  if list_of_item_lists.shape[0] > 1:\n",
        "    #print('not empty')\n",
        "    list_of_item_lists = list_of_item_lists.apply(lambda row: [row] if not isinstance(row, list) else row)\n",
        "    #print(list_of_item_lists.to_list())\n",
        "    final_list = set(x for l in list_of_item_lists.to_list() for x in l)\n",
        "    return len(final_list)\n",
        "  elif list_of_item_lists.shape[0] == 1:\n",
        "    list_of_item_lists = list_of_item_lists.apply(lambda row: [row] if not isinstance(row, list) else row)\n",
        "    #print('one element')\n",
        "    #print(list_of_item_lists)\n",
        "    return len(set(list_of_item_lists))\n",
        "  else:\n",
        "    return 0\n",
        "\n",
        "def shop_category_items_nunique(data_per_month, ref_date_block, number_blocks, category_ref, shop_ref):\n",
        "  list_of_item_lists = data_per_month.loc[(data_per_month.date_block_num>=max(0, ref_date_block-number_blocks+1)) \n",
        "                                          & (data_per_month.date_block_num<=ref_date_block) \n",
        "                                          & (data_per_mont.item_category_id==category_ref)\n",
        "                                          & (data_per_month.shop_id==shop_ref), 'item_id']\n",
        "  if list_of_item_lists.shape[0] > 1:\n",
        "    #print('not empty')\n",
        "    list_of_item_lists = list_of_item_lists.apply(lambda row: [row] if not isinstance(row, list) else row)\n",
        "    #print(list_of_item_lists.to_list())\n",
        "    final_list = set(x for l in list_of_item_lists.to_list() for x in l)\n",
        "    return len(final_list)\n",
        "  elif list_of_item_lists.shape[0] == 1:\n",
        "    list_of_item_lists = list_of_item_lists.apply(lambda row: [row] if not isinstance(row, list) else row)\n",
        "    #print('one element')\n",
        "    #print(list_of_item_lists)\n",
        "    return len(set(list_of_item_lists))\n",
        "  else:\n",
        "    return 0\n",
        "\n",
        "\n",
        "sales_month_category = sales_data.groupby(['date_block_num', 'item_category_id', 'shop_id']).item_id.unique().reset_index()\n",
        "display(sales_month_category)\n",
        "\n",
        "sales_month_category['items_nunique_6m_cum'] = sales_month_category.apply(lambda row: items_nunique(sales_month_category, row.date_block_num, 6), axis=1)\n",
        "display(sales_month_category)\n",
        "\n",
        "sales_month_category['category_items_nunique_6m_cum'] = sales_month_category.apply(lambda row: category_items_nunique(sales_month_category, row.date_block_num, 6, row.item_category_id), axis=1)\n",
        "display(sales_month_category)\n",
        "\n",
        "#sales_month_category = sales_data.groupby(['date_block_num', 'item_category_id', 'shop_id']).item_id.unique().reset_index()\n",
        "sales_month_category['category_shops_nunique_6m_cum'] = sales_month_category.apply(lambda row: category_shops_nunique(sales_month_category, row.date_block_num, 6, row.item_category_id), axis=1)\n",
        "display(sales_month_category)\n",
        "\n",
        "#sales_month_shop = sales_data.groupby(['date_block_num', 'shop_id']).item_id.unique().reset_index()\n",
        "sales_month_shop['shop_items_nunique_6m_cum'] = sales_month_shop.apply(lambda row: shop_items_nunique(sales_month_category, row.date_block_num, 6, row.shop_id), axis=1)\n",
        "display(sales_month_shop)\n",
        "\n",
        "#sales_month_shop = sales_data.groupby(['date_block_num', 'shop_id']).item_id.unique().reset_index()\n",
        "sales_month_shop['shop_categories_nunique_6m_cum'] = sales_month_shop.apply(lambda row: shop_categories_nunique(sales_month_category, row.date_block_num, 6, row.shop_id), axis=1)\n",
        "display(sales_month_shop)\n",
        "\n",
        "#sales_month_category_shop = sales_data.groupby(['date_block_num', 'item_category_id', 'shop_id']).item_id.unique().reset_index()\n",
        "sales_month_category_shop['category_shop_items_nunique_6m_cum'] = sales_month_category_shop.apply(lambda row: shop_category_items_nunique(sales_month_category, row.date_block_num, 6, row.item_category_id, row.shop_id), axis=1)\n",
        "display(sales_month_category_shop)\n",
        " \n",
        "#p = sales_data.copy(deep = True)\n",
        "#p.date =  pd.to_datetime(p.date, format=\"%d.%m.%Y\")\n",
        "#p.rolling(min_periods=1, window='6m', on='date').item_id.nunique()"
      ],
      "execution_count": 107,
      "outputs": [
        {
          "output_type": "display_data",
          "data": {
            "text/plain": [
              "date_block_num\n",
              "0      8115\n",
              "1      9352\n",
              "2     10150\n",
              "3     10778\n",
              "4     11460\n",
              "5     11991\n",
              "6     12438\n",
              "7     12908\n",
              "8     13292\n",
              "9     13946\n",
              "10    14435\n",
              "11    14971\n",
              "12    15178\n",
              "13    15517\n",
              "14    15827\n",
              "15    16146\n",
              "16    16408\n",
              "17    16661\n",
              "18    16977\n",
              "19    17227\n",
              "20    17557\n",
              "21    18115\n",
              "22    18575\n",
              "23    19047\n",
              "24    19244\n",
              "25    19469\n",
              "26    19805\n",
              "27    20067\n",
              "28    20292\n",
              "29    20542\n",
              "30    20748\n",
              "31    21030\n",
              "32    21332\n",
              "33    21807\n",
              "dtype: int64"
            ]
          },
          "metadata": {
            "tags": []
          }
        },
        {
          "output_type": "error",
          "ename": "KeyboardInterrupt",
          "evalue": "ignored",
          "traceback": [
            "\u001b[0;31m---------------------------------------------------------------------------\u001b[0m",
            "\u001b[0;31mKeyboardInterrupt\u001b[0m                         Traceback (most recent call last)",
            "\u001b[0;32m<ipython-input-107-bac2ae1502f2>\u001b[0m in \u001b[0;36m<module>\u001b[0;34m()\u001b[0m\n\u001b[1;32m    110\u001b[0m \u001b[0;34m\u001b[0m\u001b[0m\n\u001b[1;32m    111\u001b[0m \u001b[0;34m\u001b[0m\u001b[0m\n\u001b[0;32m--> 112\u001b[0;31m \u001b[0msales_month_category\u001b[0m \u001b[0;34m=\u001b[0m \u001b[0msales_data\u001b[0m\u001b[0;34m.\u001b[0m\u001b[0mgroupby\u001b[0m\u001b[0;34m(\u001b[0m\u001b[0;34m[\u001b[0m\u001b[0;34m'date_block_num'\u001b[0m\u001b[0;34m,\u001b[0m \u001b[0;34m'item_category_id'\u001b[0m\u001b[0;34m,\u001b[0m \u001b[0;34m'shop_id'\u001b[0m\u001b[0;34m]\u001b[0m\u001b[0;34m)\u001b[0m\u001b[0;34m.\u001b[0m\u001b[0mitem_id\u001b[0m\u001b[0;34m.\u001b[0m\u001b[0munique\u001b[0m\u001b[0;34m(\u001b[0m\u001b[0;34m)\u001b[0m\u001b[0;34m.\u001b[0m\u001b[0mreset_index\u001b[0m\u001b[0;34m(\u001b[0m\u001b[0;34m)\u001b[0m\u001b[0;34m\u001b[0m\u001b[0;34m\u001b[0m\u001b[0m\n\u001b[0m\u001b[1;32m    113\u001b[0m \u001b[0mdisplay\u001b[0m\u001b[0;34m(\u001b[0m\u001b[0msales_month_category\u001b[0m\u001b[0;34m)\u001b[0m\u001b[0;34m\u001b[0m\u001b[0;34m\u001b[0m\u001b[0m\n\u001b[1;32m    114\u001b[0m \u001b[0;34m\u001b[0m\u001b[0m\n",
            "\u001b[0;32m/usr/local/lib/python3.6/dist-packages/pandas/core/groupby/groupby.py\u001b[0m in \u001b[0;36mwrapper\u001b[0;34m(*args, **kwargs)\u001b[0m\n\u001b[1;32m    643\u001b[0m \u001b[0;34m\u001b[0m\u001b[0m\n\u001b[1;32m    644\u001b[0m             \u001b[0;32mtry\u001b[0m\u001b[0;34m:\u001b[0m\u001b[0;34m\u001b[0m\u001b[0;34m\u001b[0m\u001b[0m\n\u001b[0;32m--> 645\u001b[0;31m                 \u001b[0;32mreturn\u001b[0m \u001b[0mself\u001b[0m\u001b[0;34m.\u001b[0m\u001b[0mapply\u001b[0m\u001b[0;34m(\u001b[0m\u001b[0mcurried\u001b[0m\u001b[0;34m)\u001b[0m\u001b[0;34m\u001b[0m\u001b[0;34m\u001b[0m\u001b[0m\n\u001b[0m\u001b[1;32m    646\u001b[0m             \u001b[0;32mexcept\u001b[0m \u001b[0mTypeError\u001b[0m \u001b[0;32mas\u001b[0m \u001b[0merr\u001b[0m\u001b[0;34m:\u001b[0m\u001b[0;34m\u001b[0m\u001b[0;34m\u001b[0m\u001b[0m\n\u001b[1;32m    647\u001b[0m                 if not re.search(\n",
            "\u001b[0;32m/usr/local/lib/python3.6/dist-packages/pandas/core/groupby/generic.py\u001b[0m in \u001b[0;36mapply\u001b[0;34m(self, func, *args, **kwargs)\u001b[0m\n\u001b[1;32m    222\u001b[0m     )\n\u001b[1;32m    223\u001b[0m     \u001b[0;32mdef\u001b[0m \u001b[0mapply\u001b[0m\u001b[0;34m(\u001b[0m\u001b[0mself\u001b[0m\u001b[0;34m,\u001b[0m \u001b[0mfunc\u001b[0m\u001b[0;34m,\u001b[0m \u001b[0;34m*\u001b[0m\u001b[0margs\u001b[0m\u001b[0;34m,\u001b[0m \u001b[0;34m**\u001b[0m\u001b[0mkwargs\u001b[0m\u001b[0;34m)\u001b[0m\u001b[0;34m:\u001b[0m\u001b[0;34m\u001b[0m\u001b[0;34m\u001b[0m\u001b[0m\n\u001b[0;32m--> 224\u001b[0;31m         \u001b[0;32mreturn\u001b[0m \u001b[0msuper\u001b[0m\u001b[0;34m(\u001b[0m\u001b[0;34m)\u001b[0m\u001b[0;34m.\u001b[0m\u001b[0mapply\u001b[0m\u001b[0;34m(\u001b[0m\u001b[0mfunc\u001b[0m\u001b[0;34m,\u001b[0m \u001b[0;34m*\u001b[0m\u001b[0margs\u001b[0m\u001b[0;34m,\u001b[0m \u001b[0;34m**\u001b[0m\u001b[0mkwargs\u001b[0m\u001b[0;34m)\u001b[0m\u001b[0;34m\u001b[0m\u001b[0;34m\u001b[0m\u001b[0m\n\u001b[0m\u001b[1;32m    225\u001b[0m \u001b[0;34m\u001b[0m\u001b[0m\n\u001b[1;32m    226\u001b[0m     @Substitution(\n",
            "\u001b[0;32m/usr/local/lib/python3.6/dist-packages/pandas/core/groupby/groupby.py\u001b[0m in \u001b[0;36mapply\u001b[0;34m(self, func, *args, **kwargs)\u001b[0m\n\u001b[1;32m    734\u001b[0m         \u001b[0;32mwith\u001b[0m \u001b[0moption_context\u001b[0m\u001b[0;34m(\u001b[0m\u001b[0;34m\"mode.chained_assignment\"\u001b[0m\u001b[0;34m,\u001b[0m \u001b[0;32mNone\u001b[0m\u001b[0;34m)\u001b[0m\u001b[0;34m:\u001b[0m\u001b[0;34m\u001b[0m\u001b[0;34m\u001b[0m\u001b[0m\n\u001b[1;32m    735\u001b[0m             \u001b[0;32mtry\u001b[0m\u001b[0;34m:\u001b[0m\u001b[0;34m\u001b[0m\u001b[0;34m\u001b[0m\u001b[0m\n\u001b[0;32m--> 736\u001b[0;31m                 \u001b[0mresult\u001b[0m \u001b[0;34m=\u001b[0m \u001b[0mself\u001b[0m\u001b[0;34m.\u001b[0m\u001b[0m_python_apply_general\u001b[0m\u001b[0;34m(\u001b[0m\u001b[0mf\u001b[0m\u001b[0;34m)\u001b[0m\u001b[0;34m\u001b[0m\u001b[0;34m\u001b[0m\u001b[0m\n\u001b[0m\u001b[1;32m    737\u001b[0m             \u001b[0;32mexcept\u001b[0m \u001b[0mTypeError\u001b[0m\u001b[0;34m:\u001b[0m\u001b[0;34m\u001b[0m\u001b[0;34m\u001b[0m\u001b[0m\n\u001b[1;32m    738\u001b[0m                 \u001b[0;31m# gh-20949\u001b[0m\u001b[0;34m\u001b[0m\u001b[0;34m\u001b[0m\u001b[0;34m\u001b[0m\u001b[0m\n",
            "\u001b[0;32m/usr/local/lib/python3.6/dist-packages/pandas/core/groupby/groupby.py\u001b[0m in \u001b[0;36m_python_apply_general\u001b[0;34m(self, f)\u001b[0m\n\u001b[1;32m    750\u001b[0m \u001b[0;34m\u001b[0m\u001b[0m\n\u001b[1;32m    751\u001b[0m     \u001b[0;32mdef\u001b[0m \u001b[0m_python_apply_general\u001b[0m\u001b[0;34m(\u001b[0m\u001b[0mself\u001b[0m\u001b[0;34m,\u001b[0m \u001b[0mf\u001b[0m\u001b[0;34m)\u001b[0m\u001b[0;34m:\u001b[0m\u001b[0;34m\u001b[0m\u001b[0;34m\u001b[0m\u001b[0m\n\u001b[0;32m--> 752\u001b[0;31m         \u001b[0mkeys\u001b[0m\u001b[0;34m,\u001b[0m \u001b[0mvalues\u001b[0m\u001b[0;34m,\u001b[0m \u001b[0mmutated\u001b[0m \u001b[0;34m=\u001b[0m \u001b[0mself\u001b[0m\u001b[0;34m.\u001b[0m\u001b[0mgrouper\u001b[0m\u001b[0;34m.\u001b[0m\u001b[0mapply\u001b[0m\u001b[0;34m(\u001b[0m\u001b[0mf\u001b[0m\u001b[0;34m,\u001b[0m \u001b[0mself\u001b[0m\u001b[0;34m.\u001b[0m\u001b[0m_selected_obj\u001b[0m\u001b[0;34m,\u001b[0m \u001b[0mself\u001b[0m\u001b[0;34m.\u001b[0m\u001b[0maxis\u001b[0m\u001b[0;34m)\u001b[0m\u001b[0;34m\u001b[0m\u001b[0;34m\u001b[0m\u001b[0m\n\u001b[0m\u001b[1;32m    753\u001b[0m \u001b[0;34m\u001b[0m\u001b[0m\n\u001b[1;32m    754\u001b[0m         return self._wrap_applied_output(\n",
            "\u001b[0;32m/usr/local/lib/python3.6/dist-packages/pandas/core/groupby/ops.py\u001b[0m in \u001b[0;36mapply\u001b[0;34m(self, f, data, axis)\u001b[0m\n\u001b[1;32m    203\u001b[0m \u001b[0;34m\u001b[0m\u001b[0m\n\u001b[1;32m    204\u001b[0m             \u001b[0;31m# group might be modified\u001b[0m\u001b[0;34m\u001b[0m\u001b[0;34m\u001b[0m\u001b[0;34m\u001b[0m\u001b[0m\n\u001b[0;32m--> 205\u001b[0;31m             \u001b[0mgroup_axes\u001b[0m \u001b[0;34m=\u001b[0m \u001b[0mgroup\u001b[0m\u001b[0;34m.\u001b[0m\u001b[0maxes\u001b[0m\u001b[0;34m\u001b[0m\u001b[0;34m\u001b[0m\u001b[0m\n\u001b[0m\u001b[1;32m    206\u001b[0m             \u001b[0mres\u001b[0m \u001b[0;34m=\u001b[0m \u001b[0mf\u001b[0m\u001b[0;34m(\u001b[0m\u001b[0mgroup\u001b[0m\u001b[0;34m)\u001b[0m\u001b[0;34m\u001b[0m\u001b[0;34m\u001b[0m\u001b[0m\n\u001b[1;32m    207\u001b[0m             \u001b[0;32mif\u001b[0m \u001b[0;32mnot\u001b[0m \u001b[0m_is_indexed_like\u001b[0m\u001b[0;34m(\u001b[0m\u001b[0mres\u001b[0m\u001b[0;34m,\u001b[0m \u001b[0mgroup_axes\u001b[0m\u001b[0;34m)\u001b[0m\u001b[0;34m:\u001b[0m\u001b[0;34m\u001b[0m\u001b[0;34m\u001b[0m\u001b[0m\n",
            "\u001b[0;32m/usr/local/lib/python3.6/dist-packages/pandas/core/series.py\u001b[0m in \u001b[0;36maxes\u001b[0;34m(self)\u001b[0m\n\u001b[1;32m    799\u001b[0m         \u001b[0mReturn\u001b[0m \u001b[0ma\u001b[0m \u001b[0mlist\u001b[0m \u001b[0mof\u001b[0m \u001b[0mthe\u001b[0m \u001b[0mrow\u001b[0m \u001b[0maxis\u001b[0m \u001b[0mlabels\u001b[0m\u001b[0;34m.\u001b[0m\u001b[0;34m\u001b[0m\u001b[0;34m\u001b[0m\u001b[0m\n\u001b[1;32m    800\u001b[0m         \"\"\"\n\u001b[0;32m--> 801\u001b[0;31m         \u001b[0;32mreturn\u001b[0m \u001b[0;34m[\u001b[0m\u001b[0mself\u001b[0m\u001b[0;34m.\u001b[0m\u001b[0mindex\u001b[0m\u001b[0;34m]\u001b[0m\u001b[0;34m\u001b[0m\u001b[0;34m\u001b[0m\u001b[0m\n\u001b[0m\u001b[1;32m    802\u001b[0m \u001b[0;34m\u001b[0m\u001b[0m\n\u001b[1;32m    803\u001b[0m     \u001b[0;31m# ----------------------------------------------------------------------\u001b[0m\u001b[0;34m\u001b[0m\u001b[0;34m\u001b[0m\u001b[0;34m\u001b[0m\u001b[0m\n",
            "\u001b[0;31mKeyboardInterrupt\u001b[0m: "
          ]
        }
      ]
    },
    {
      "cell_type": "code",
      "metadata": {
        "id": "l8_3WMWJiI0Z",
        "colab_type": "code",
        "colab": {}
      },
      "source": [
        "month_features = month_features.merge(year_totals, on='year')\n"
      ],
      "execution_count": 46,
      "outputs": []
    },
    {
      "cell_type": "code",
      "metadata": {
        "id": "DmN6kkvKi6ic",
        "colab_type": "code",
        "colab": {
          "base_uri": "https://localhost:8080/",
          "height": 359
        },
        "outputId": "8d181b4a-399b-41b7-a437-a94e7908aee5"
      },
      "source": [
        "display(month_features.head(10))"
      ],
      "execution_count": 48,
      "outputs": [
        {
          "output_type": "display_data",
          "data": {
            "text/html": [
              "<div>\n",
              "<style scoped>\n",
              "    .dataframe tbody tr th:only-of-type {\n",
              "        vertical-align: middle;\n",
              "    }\n",
              "\n",
              "    .dataframe tbody tr th {\n",
              "        vertical-align: top;\n",
              "    }\n",
              "\n",
              "    .dataframe thead th {\n",
              "        text-align: right;\n",
              "    }\n",
              "</style>\n",
              "<table border=\"1\" class=\"dataframe\">\n",
              "  <thead>\n",
              "    <tr style=\"text-align: right;\">\n",
              "      <th></th>\n",
              "      <th>date_block_num</th>\n",
              "      <th>month</th>\n",
              "      <th>year</th>\n",
              "      <th>item_count_month</th>\n",
              "      <th>item_nunique_month</th>\n",
              "      <th>cat_nunique_month</th>\n",
              "      <th>shop_nunique_month</th>\n",
              "      <th>item_count_year</th>\n",
              "      <th>item_nunique_year</th>\n",
              "      <th>cat_nunique_year</th>\n",
              "      <th>shop_nunique_year</th>\n",
              "    </tr>\n",
              "  </thead>\n",
              "  <tbody>\n",
              "    <tr>\n",
              "      <th>0</th>\n",
              "      <td>0</td>\n",
              "      <td>1</td>\n",
              "      <td>2013</td>\n",
              "      <td>131479.0</td>\n",
              "      <td>8115</td>\n",
              "      <td>56</td>\n",
              "      <td>45</td>\n",
              "      <td>1562733.0</td>\n",
              "      <td>14971</td>\n",
              "      <td>70</td>\n",
              "      <td>52</td>\n",
              "    </tr>\n",
              "    <tr>\n",
              "      <th>1</th>\n",
              "      <td>1</td>\n",
              "      <td>2</td>\n",
              "      <td>2013</td>\n",
              "      <td>128090.0</td>\n",
              "      <td>8168</td>\n",
              "      <td>57</td>\n",
              "      <td>46</td>\n",
              "      <td>1562733.0</td>\n",
              "      <td>14971</td>\n",
              "      <td>70</td>\n",
              "      <td>52</td>\n",
              "    </tr>\n",
              "    <tr>\n",
              "      <th>2</th>\n",
              "      <td>2</td>\n",
              "      <td>3</td>\n",
              "      <td>2013</td>\n",
              "      <td>147142.0</td>\n",
              "      <td>8302</td>\n",
              "      <td>53</td>\n",
              "      <td>46</td>\n",
              "      <td>1562733.0</td>\n",
              "      <td>14971</td>\n",
              "      <td>70</td>\n",
              "      <td>52</td>\n",
              "    </tr>\n",
              "    <tr>\n",
              "      <th>3</th>\n",
              "      <td>3</td>\n",
              "      <td>4</td>\n",
              "      <td>2013</td>\n",
              "      <td>107190.0</td>\n",
              "      <td>8145</td>\n",
              "      <td>54</td>\n",
              "      <td>46</td>\n",
              "      <td>1562733.0</td>\n",
              "      <td>14971</td>\n",
              "      <td>70</td>\n",
              "      <td>52</td>\n",
              "    </tr>\n",
              "    <tr>\n",
              "      <th>4</th>\n",
              "      <td>4</td>\n",
              "      <td>5</td>\n",
              "      <td>2013</td>\n",
              "      <td>106970.0</td>\n",
              "      <td>8339</td>\n",
              "      <td>60</td>\n",
              "      <td>45</td>\n",
              "      <td>1562733.0</td>\n",
              "      <td>14971</td>\n",
              "      <td>70</td>\n",
              "      <td>52</td>\n",
              "    </tr>\n",
              "    <tr>\n",
              "      <th>5</th>\n",
              "      <td>5</td>\n",
              "      <td>6</td>\n",
              "      <td>2013</td>\n",
              "      <td>125381.0</td>\n",
              "      <td>8478</td>\n",
              "      <td>57</td>\n",
              "      <td>46</td>\n",
              "      <td>1562733.0</td>\n",
              "      <td>14971</td>\n",
              "      <td>70</td>\n",
              "      <td>52</td>\n",
              "    </tr>\n",
              "    <tr>\n",
              "      <th>6</th>\n",
              "      <td>6</td>\n",
              "      <td>7</td>\n",
              "      <td>2013</td>\n",
              "      <td>116966.0</td>\n",
              "      <td>8405</td>\n",
              "      <td>59</td>\n",
              "      <td>46</td>\n",
              "      <td>1562733.0</td>\n",
              "      <td>14971</td>\n",
              "      <td>70</td>\n",
              "      <td>52</td>\n",
              "    </tr>\n",
              "    <tr>\n",
              "      <th>7</th>\n",
              "      <td>7</td>\n",
              "      <td>8</td>\n",
              "      <td>2013</td>\n",
              "      <td>125291.0</td>\n",
              "      <td>8031</td>\n",
              "      <td>59</td>\n",
              "      <td>45</td>\n",
              "      <td>1562733.0</td>\n",
              "      <td>14971</td>\n",
              "      <td>70</td>\n",
              "      <td>52</td>\n",
              "    </tr>\n",
              "    <tr>\n",
              "      <th>8</th>\n",
              "      <td>8</td>\n",
              "      <td>9</td>\n",
              "      <td>2013</td>\n",
              "      <td>133332.0</td>\n",
              "      <td>7876</td>\n",
              "      <td>59</td>\n",
              "      <td>45</td>\n",
              "      <td>1562733.0</td>\n",
              "      <td>14971</td>\n",
              "      <td>70</td>\n",
              "      <td>52</td>\n",
              "    </tr>\n",
              "    <tr>\n",
              "      <th>9</th>\n",
              "      <td>9</td>\n",
              "      <td>10</td>\n",
              "      <td>2013</td>\n",
              "      <td>127541.0</td>\n",
              "      <td>8039</td>\n",
              "      <td>61</td>\n",
              "      <td>46</td>\n",
              "      <td>1562733.0</td>\n",
              "      <td>14971</td>\n",
              "      <td>70</td>\n",
              "      <td>52</td>\n",
              "    </tr>\n",
              "  </tbody>\n",
              "</table>\n",
              "</div>"
            ],
            "text/plain": [
              "   date_block_num  month  ...  cat_nunique_year  shop_nunique_year\n",
              "0               0      1  ...                70                 52\n",
              "1               1      2  ...                70                 52\n",
              "2               2      3  ...                70                 52\n",
              "3               3      4  ...                70                 52\n",
              "4               4      5  ...                70                 52\n",
              "5               5      6  ...                70                 52\n",
              "6               6      7  ...                70                 52\n",
              "7               7      8  ...                70                 52\n",
              "8               8      9  ...                70                 52\n",
              "9               9     10  ...                70                 52\n",
              "\n",
              "[10 rows x 11 columns]"
            ]
          },
          "metadata": {
            "tags": []
          }
        }
      ]
    },
    {
      "cell_type": "code",
      "metadata": {
        "id": "75PAJPPSjAlS",
        "colab_type": "code",
        "colab": {
          "base_uri": "https://localhost:8080/",
          "height": 689
        },
        "outputId": "f984a3f0-dcc9-47e9-9083-2daaa04f0041"
      },
      "source": [
        "month_features['item_count_month_frac'] = month_features['item_count_month']/month_features['item_count_year']\n",
        "month_features['item_nunique_month'] = month_features['item_nunique_month']/month_features['item_nunique_year']\n",
        "month_features['cat_nunique_month'] = month_features['cat_nunique_month']/month_features['cat_nunique_year']\n",
        "month_features['shop_nunique_month'] = month_features['shop_nunique_month']/month_features['shop_nunique_year']\n",
        "month_features['item_count_cum'] = month_features['item_count_month'].cumsum()\n",
        "display(month_features.head(20))"
      ],
      "execution_count": 50,
      "outputs": [
        {
          "output_type": "display_data",
          "data": {
            "text/html": [
              "<div>\n",
              "<style scoped>\n",
              "    .dataframe tbody tr th:only-of-type {\n",
              "        vertical-align: middle;\n",
              "    }\n",
              "\n",
              "    .dataframe tbody tr th {\n",
              "        vertical-align: top;\n",
              "    }\n",
              "\n",
              "    .dataframe thead th {\n",
              "        text-align: right;\n",
              "    }\n",
              "</style>\n",
              "<table border=\"1\" class=\"dataframe\">\n",
              "  <thead>\n",
              "    <tr style=\"text-align: right;\">\n",
              "      <th></th>\n",
              "      <th>date_block_num</th>\n",
              "      <th>month</th>\n",
              "      <th>year</th>\n",
              "      <th>item_count_month</th>\n",
              "      <th>item_nunique_month</th>\n",
              "      <th>cat_nunique_month</th>\n",
              "      <th>shop_nunique_month</th>\n",
              "      <th>item_count_year</th>\n",
              "      <th>item_nunique_year</th>\n",
              "      <th>cat_nunique_year</th>\n",
              "      <th>shop_nunique_year</th>\n",
              "      <th>item_count_month_frac</th>\n",
              "    </tr>\n",
              "  </thead>\n",
              "  <tbody>\n",
              "    <tr>\n",
              "      <th>0</th>\n",
              "      <td>0</td>\n",
              "      <td>1</td>\n",
              "      <td>2013</td>\n",
              "      <td>131479.0</td>\n",
              "      <td>0.542048</td>\n",
              "      <td>0.800000</td>\n",
              "      <td>0.865385</td>\n",
              "      <td>1562733.0</td>\n",
              "      <td>14971</td>\n",
              "      <td>70</td>\n",
              "      <td>52</td>\n",
              "      <td>0.084134</td>\n",
              "    </tr>\n",
              "    <tr>\n",
              "      <th>1</th>\n",
              "      <td>1</td>\n",
              "      <td>2</td>\n",
              "      <td>2013</td>\n",
              "      <td>128090.0</td>\n",
              "      <td>0.545588</td>\n",
              "      <td>0.814286</td>\n",
              "      <td>0.884615</td>\n",
              "      <td>1562733.0</td>\n",
              "      <td>14971</td>\n",
              "      <td>70</td>\n",
              "      <td>52</td>\n",
              "      <td>0.081965</td>\n",
              "    </tr>\n",
              "    <tr>\n",
              "      <th>2</th>\n",
              "      <td>2</td>\n",
              "      <td>3</td>\n",
              "      <td>2013</td>\n",
              "      <td>147142.0</td>\n",
              "      <td>0.554539</td>\n",
              "      <td>0.757143</td>\n",
              "      <td>0.884615</td>\n",
              "      <td>1562733.0</td>\n",
              "      <td>14971</td>\n",
              "      <td>70</td>\n",
              "      <td>52</td>\n",
              "      <td>0.094157</td>\n",
              "    </tr>\n",
              "    <tr>\n",
              "      <th>3</th>\n",
              "      <td>3</td>\n",
              "      <td>4</td>\n",
              "      <td>2013</td>\n",
              "      <td>107190.0</td>\n",
              "      <td>0.544052</td>\n",
              "      <td>0.771429</td>\n",
              "      <td>0.884615</td>\n",
              "      <td>1562733.0</td>\n",
              "      <td>14971</td>\n",
              "      <td>70</td>\n",
              "      <td>52</td>\n",
              "      <td>0.068591</td>\n",
              "    </tr>\n",
              "    <tr>\n",
              "      <th>4</th>\n",
              "      <td>4</td>\n",
              "      <td>5</td>\n",
              "      <td>2013</td>\n",
              "      <td>106970.0</td>\n",
              "      <td>0.557010</td>\n",
              "      <td>0.857143</td>\n",
              "      <td>0.865385</td>\n",
              "      <td>1562733.0</td>\n",
              "      <td>14971</td>\n",
              "      <td>70</td>\n",
              "      <td>52</td>\n",
              "      <td>0.068451</td>\n",
              "    </tr>\n",
              "    <tr>\n",
              "      <th>5</th>\n",
              "      <td>5</td>\n",
              "      <td>6</td>\n",
              "      <td>2013</td>\n",
              "      <td>125381.0</td>\n",
              "      <td>0.566295</td>\n",
              "      <td>0.814286</td>\n",
              "      <td>0.884615</td>\n",
              "      <td>1562733.0</td>\n",
              "      <td>14971</td>\n",
              "      <td>70</td>\n",
              "      <td>52</td>\n",
              "      <td>0.080232</td>\n",
              "    </tr>\n",
              "    <tr>\n",
              "      <th>6</th>\n",
              "      <td>6</td>\n",
              "      <td>7</td>\n",
              "      <td>2013</td>\n",
              "      <td>116966.0</td>\n",
              "      <td>0.561419</td>\n",
              "      <td>0.842857</td>\n",
              "      <td>0.884615</td>\n",
              "      <td>1562733.0</td>\n",
              "      <td>14971</td>\n",
              "      <td>70</td>\n",
              "      <td>52</td>\n",
              "      <td>0.074847</td>\n",
              "    </tr>\n",
              "    <tr>\n",
              "      <th>7</th>\n",
              "      <td>7</td>\n",
              "      <td>8</td>\n",
              "      <td>2013</td>\n",
              "      <td>125291.0</td>\n",
              "      <td>0.536437</td>\n",
              "      <td>0.842857</td>\n",
              "      <td>0.865385</td>\n",
              "      <td>1562733.0</td>\n",
              "      <td>14971</td>\n",
              "      <td>70</td>\n",
              "      <td>52</td>\n",
              "      <td>0.080174</td>\n",
              "    </tr>\n",
              "    <tr>\n",
              "      <th>8</th>\n",
              "      <td>8</td>\n",
              "      <td>9</td>\n",
              "      <td>2013</td>\n",
              "      <td>133332.0</td>\n",
              "      <td>0.526084</td>\n",
              "      <td>0.842857</td>\n",
              "      <td>0.865385</td>\n",
              "      <td>1562733.0</td>\n",
              "      <td>14971</td>\n",
              "      <td>70</td>\n",
              "      <td>52</td>\n",
              "      <td>0.085320</td>\n",
              "    </tr>\n",
              "    <tr>\n",
              "      <th>9</th>\n",
              "      <td>9</td>\n",
              "      <td>10</td>\n",
              "      <td>2013</td>\n",
              "      <td>127541.0</td>\n",
              "      <td>0.536971</td>\n",
              "      <td>0.871429</td>\n",
              "      <td>0.884615</td>\n",
              "      <td>1562733.0</td>\n",
              "      <td>14971</td>\n",
              "      <td>70</td>\n",
              "      <td>52</td>\n",
              "      <td>0.081614</td>\n",
              "    </tr>\n",
              "    <tr>\n",
              "      <th>10</th>\n",
              "      <td>10</td>\n",
              "      <td>11</td>\n",
              "      <td>2013</td>\n",
              "      <td>130009.0</td>\n",
              "      <td>0.540311</td>\n",
              "      <td>0.885714</td>\n",
              "      <td>0.865385</td>\n",
              "      <td>1562733.0</td>\n",
              "      <td>14971</td>\n",
              "      <td>70</td>\n",
              "      <td>52</td>\n",
              "      <td>0.083193</td>\n",
              "    </tr>\n",
              "    <tr>\n",
              "      <th>11</th>\n",
              "      <td>11</td>\n",
              "      <td>12</td>\n",
              "      <td>2013</td>\n",
              "      <td>183342.0</td>\n",
              "      <td>0.566028</td>\n",
              "      <td>0.900000</td>\n",
              "      <td>0.884615</td>\n",
              "      <td>1562733.0</td>\n",
              "      <td>14971</td>\n",
              "      <td>70</td>\n",
              "      <td>52</td>\n",
              "      <td>0.117321</td>\n",
              "    </tr>\n",
              "    <tr>\n",
              "      <th>12</th>\n",
              "      <td>12</td>\n",
              "      <td>1</td>\n",
              "      <td>2014</td>\n",
              "      <td>116899.0</td>\n",
              "      <td>0.535228</td>\n",
              "      <td>0.835616</td>\n",
              "      <td>0.867925</td>\n",
              "      <td>1320889.0</td>\n",
              "      <td>14108</td>\n",
              "      <td>73</td>\n",
              "      <td>53</td>\n",
              "      <td>0.088500</td>\n",
              "    </tr>\n",
              "    <tr>\n",
              "      <th>13</th>\n",
              "      <td>13</td>\n",
              "      <td>2</td>\n",
              "      <td>2014</td>\n",
              "      <td>109687.0</td>\n",
              "      <td>0.505671</td>\n",
              "      <td>0.835616</td>\n",
              "      <td>0.867925</td>\n",
              "      <td>1320889.0</td>\n",
              "      <td>14108</td>\n",
              "      <td>73</td>\n",
              "      <td>53</td>\n",
              "      <td>0.083040</td>\n",
              "    </tr>\n",
              "    <tr>\n",
              "      <th>14</th>\n",
              "      <td>14</td>\n",
              "      <td>3</td>\n",
              "      <td>2014</td>\n",
              "      <td>115297.0</td>\n",
              "      <td>0.506238</td>\n",
              "      <td>0.835616</td>\n",
              "      <td>0.905660</td>\n",
              "      <td>1320889.0</td>\n",
              "      <td>14108</td>\n",
              "      <td>73</td>\n",
              "      <td>53</td>\n",
              "      <td>0.087287</td>\n",
              "    </tr>\n",
              "    <tr>\n",
              "      <th>15</th>\n",
              "      <td>15</td>\n",
              "      <td>4</td>\n",
              "      <td>2014</td>\n",
              "      <td>96556.0</td>\n",
              "      <td>0.480153</td>\n",
              "      <td>0.821918</td>\n",
              "      <td>0.924528</td>\n",
              "      <td>1320889.0</td>\n",
              "      <td>14108</td>\n",
              "      <td>73</td>\n",
              "      <td>53</td>\n",
              "      <td>0.073099</td>\n",
              "    </tr>\n",
              "    <tr>\n",
              "      <th>16</th>\n",
              "      <td>16</td>\n",
              "      <td>5</td>\n",
              "      <td>2014</td>\n",
              "      <td>97790.0</td>\n",
              "      <td>0.473845</td>\n",
              "      <td>0.835616</td>\n",
              "      <td>0.924528</td>\n",
              "      <td>1320889.0</td>\n",
              "      <td>14108</td>\n",
              "      <td>73</td>\n",
              "      <td>53</td>\n",
              "      <td>0.074033</td>\n",
              "    </tr>\n",
              "    <tr>\n",
              "      <th>17</th>\n",
              "      <td>17</td>\n",
              "      <td>6</td>\n",
              "      <td>2014</td>\n",
              "      <td>97429.0</td>\n",
              "      <td>0.473561</td>\n",
              "      <td>0.835616</td>\n",
              "      <td>0.924528</td>\n",
              "      <td>1320889.0</td>\n",
              "      <td>14108</td>\n",
              "      <td>73</td>\n",
              "      <td>53</td>\n",
              "      <td>0.073760</td>\n",
              "    </tr>\n",
              "    <tr>\n",
              "      <th>18</th>\n",
              "      <td>18</td>\n",
              "      <td>7</td>\n",
              "      <td>2014</td>\n",
              "      <td>91280.0</td>\n",
              "      <td>0.468599</td>\n",
              "      <td>0.904110</td>\n",
              "      <td>0.943396</td>\n",
              "      <td>1320889.0</td>\n",
              "      <td>14108</td>\n",
              "      <td>73</td>\n",
              "      <td>53</td>\n",
              "      <td>0.069105</td>\n",
              "    </tr>\n",
              "    <tr>\n",
              "      <th>19</th>\n",
              "      <td>19</td>\n",
              "      <td>8</td>\n",
              "      <td>2014</td>\n",
              "      <td>102721.0</td>\n",
              "      <td>0.451021</td>\n",
              "      <td>0.821918</td>\n",
              "      <td>0.962264</td>\n",
              "      <td>1320889.0</td>\n",
              "      <td>14108</td>\n",
              "      <td>73</td>\n",
              "      <td>53</td>\n",
              "      <td>0.077767</td>\n",
              "    </tr>\n",
              "  </tbody>\n",
              "</table>\n",
              "</div>"
            ],
            "text/plain": [
              "    date_block_num  month  ...  shop_nunique_year  item_count_month_frac\n",
              "0                0      1  ...                 52               0.084134\n",
              "1                1      2  ...                 52               0.081965\n",
              "2                2      3  ...                 52               0.094157\n",
              "3                3      4  ...                 52               0.068591\n",
              "4                4      5  ...                 52               0.068451\n",
              "5                5      6  ...                 52               0.080232\n",
              "6                6      7  ...                 52               0.074847\n",
              "7                7      8  ...                 52               0.080174\n",
              "8                8      9  ...                 52               0.085320\n",
              "9                9     10  ...                 52               0.081614\n",
              "10              10     11  ...                 52               0.083193\n",
              "11              11     12  ...                 52               0.117321\n",
              "12              12      1  ...                 53               0.088500\n",
              "13              13      2  ...                 53               0.083040\n",
              "14              14      3  ...                 53               0.087287\n",
              "15              15      4  ...                 53               0.073099\n",
              "16              16      5  ...                 53               0.074033\n",
              "17              17      6  ...                 53               0.073760\n",
              "18              18      7  ...                 53               0.069105\n",
              "19              19      8  ...                 53               0.077767\n",
              "\n",
              "[20 rows x 12 columns]"
            ]
          },
          "metadata": {
            "tags": []
          }
        }
      ]
    },
    {
      "cell_type": "code",
      "metadata": {
        "id": "BX2Klu8TjApr",
        "colab_type": "code",
        "colab": {
          "base_uri": "https://localhost:8080/",
          "height": 265
        },
        "outputId": "b1954e9c-e7c7-481a-c750-d9c9a4468cf1"
      },
      "source": [
        "plt.plot(month_features.date_block_num, month_features.item_count_month_frac)\n",
        "plt.show()"
      ],
      "execution_count": 51,
      "outputs": [
        {
          "output_type": "display_data",
          "data": {
            "image/png": "[encoded data removed]",
            "text/plain": [
              "<Figure size 432x288 with 1 Axes>"
            ]
          },
          "metadata": {
            "tags": [],
            "needs_background": "light"
          }
        }
      ]
    },
    {
      "cell_type": "code",
      "metadata": {
        "id": "YBj5r_BnjAzx",
        "colab_type": "code",
        "colab": {}
      },
      "source": [
        ""
      ],
      "execution_count": null,
      "outputs": []
    },
    {
      "cell_type": "code",
      "metadata": {
        "id": "YuTC2xwTjA6M",
        "colab_type": "code",
        "colab": {}
      },
      "source": [
        ""
      ],
      "execution_count": null,
      "outputs": []
    },
    {
      "cell_type": "code",
      "metadata": {
        "id": "KMaZEb3PjBAw",
        "colab_type": "code",
        "colab": {}
      },
      "source": [
        ""
      ],
      "execution_count": null,
      "outputs": []
    },
    {
      "cell_type": "code",
      "metadata": {
        "id": "0SUEbYDNjBI8",
        "colab_type": "code",
        "colab": {}
      },
      "source": [
        ""
      ],
      "execution_count": null,
      "outputs": []
    },
    {
      "cell_type": "code",
      "metadata": {
        "id": "TS0EetGWjBNk",
        "colab_type": "code",
        "colab": {}
      },
      "source": [
        ""
      ],
      "execution_count": null,
      "outputs": []
    },
    {
      "cell_type": "code",
      "metadata": {
        "id": "3f1rfiD5jBHf",
        "colab_type": "code",
        "colab": {}
      },
      "source": [
        ""
      ],
      "execution_count": null,
      "outputs": []
    },
    {
      "cell_type": "code",
      "metadata": {
        "id": "0SbQfGX9jA_t",
        "colab_type": "code",
        "colab": {}
      },
      "source": [
        ""
      ],
      "execution_count": null,
      "outputs": []
    },
    {
      "cell_type": "code",
      "metadata": {
        "id": "uMRqG6mrjA5J",
        "colab_type": "code",
        "colab": {}
      },
      "source": [
        ""
      ],
      "execution_count": null,
      "outputs": []
    },
    {
      "cell_type": "code",
      "metadata": {
        "id": "Z8w495s6jAxv",
        "colab_type": "code",
        "colab": {}
      },
      "source": [
        ""
      ],
      "execution_count": null,
      "outputs": []
    },
    {
      "cell_type": "markdown",
      "metadata": {
        "id": "e3Nb51ts9DK9",
        "colab_type": "text"
      },
      "source": [
        "# Feature selection"
      ]
    },
    {
      "cell_type": "code",
      "metadata": {
        "id": "8KAPDK5k9E2N",
        "colab_type": "code",
        "colab": {}
      },
      "source": [
        ""
      ],
      "execution_count": null,
      "outputs": []
    },
    {
      "cell_type": "markdown",
      "metadata": {
        "id": "OjOtBvZ39Fuj",
        "colab_type": "text"
      },
      "source": [
        "# Modeling"
      ]
    },
    {
      "cell_type": "code",
      "metadata": {
        "id": "CeAZiC6G9GxV",
        "colab_type": "code",
        "colab": {}
      },
      "source": [
        ""
      ],
      "execution_count": null,
      "outputs": []
    },
    {
      "cell_type": "markdown",
      "metadata": {
        "id": "amRyh_fg9H4g",
        "colab_type": "text"
      },
      "source": [
        "# Evaluation"
      ]
    },
    {
      "cell_type": "code",
      "metadata": {
        "id": "Ycj2jrfS9J7t",
        "colab_type": "code",
        "colab": {}
      },
      "source": [
        ""
      ],
      "execution_count": null,
      "outputs": []
    },
    {
      "cell_type": "markdown",
      "metadata": {
        "id": "It6cD-nw9Knn",
        "colab_type": "text"
      },
      "source": [
        "# Submission"
      ]
    },
    {
      "cell_type": "code",
      "metadata": {
        "id": "sUS72rbb9L8y",
        "colab_type": "code",
        "colab": {}
      },
      "source": [
        ""
      ],
      "execution_count": null,
      "outputs": []
    }
  ]
}