{
  "nbformat": 4,
  "nbformat_minor": 0,
  "metadata": {
    "colab": {
      "name": "Untitled0.ipynb",
      "provenance": [],
      "authorship_tag": "ABX9TyPXbiOowbFeM1I7d4dPRe6b",
      "include_colab_link": true
    },
    "kernelspec": {
      "name": "python3",
      "display_name": "Python 3"
    }
  },
  "cells": [
    {
      "cell_type": "markdown",
      "metadata": {
        "id": "view-in-github",
        "colab_type": "text"
      },
      "source": [
        "<a href=\"https://colab.research.google.com/github/arcarrion/hsespecialization_course02/blob/master/02_eda.ipynb\" target=\"_parent\"><img src=\"https://colab.research.google.com/assets/colab-badge.svg\" alt=\"Open In Colab\"/></a>"
      ]
    },
    {
      "cell_type": "code",
      "metadata": {
        "id": "dcRntD67WY9e",
        "colab_type": "code",
        "colab": {
          "resources": {
            "http://localhost:8080/nbextensions/google.colab/files.js": {
              "data": "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",
              "ok": true,
              "headers": [
                [
                  "content-type",
                  "application/javascript"
                ]
              ],
              "status": 200,
              "status_text": ""
            }
          },
          "base_uri": "https://localhost:8080/",
          "height": 463
        },
        "outputId": "5e888494-693d-4679-a9a6-bc82b1fec1d9"
      },
      "source": [
        "! pip install -q kaggle\n",
        "from google.colab import files\n",
        "files.upload()\n",
        "! mkdir ~/.kaggle\n",
        "! cp kaggle.json ~/.kaggle/\n",
        "! chmod 600 ~/.kaggle/kaggle.json\n",
        "! kaggle datasets list"
      ],
      "execution_count": 1,
      "outputs": [
        {
          "output_type": "display_data",
          "data": {
            "text/html": [
              "\n",
              "     <input type=\"file\" id=\"files-a37ff8d7-c048-497f-9612-d1e699952f9f\" name=\"files[]\" multiple disabled\n",
              "        style=\"border:none\" />\n",
              "     <output id=\"result-a37ff8d7-c048-497f-9612-d1e699952f9f\">\n",
              "      Upload widget is only available when the cell has been executed in the\n",
              "      current browser session. Please rerun this cell to enable.\n",
              "      </output>\n",
              "      <script src=\"/nbextensions/google.colab/files.js\"></script> "
            ],
            "text/plain": [
              "<IPython.core.display.HTML object>"
            ]
          },
          "metadata": {
            "tags": []
          }
        },
        {
          "output_type": "stream",
          "text": [
            "Saving kaggle.json to kaggle.json\n",
            "Warning: Looks like you're using an outdated API Version, please consider updating (server 1.5.6 / client 1.5.4)\n",
            "ref                                                    title                                              size  lastUpdated          downloadCount  \n",
            "-----------------------------------------------------  ------------------------------------------------  -----  -------------------  -------------  \n",
            "shivan118/healthcare-analytics                         Healthcare Analytics                                2MB  2020-09-13 17:40:05           1123  \n",
            "datatattle/covid-19-nlp-text-classification            Coronavirus tweets NLP - Text Classification        4MB  2020-09-08 11:40:11            662  \n",
            "anmolkumar/health-insurance-cross-sell-prediction      Health Insurance Cross Sell Prediction 🏠 🏥          6MB  2020-09-11 18:39:31           1827  \n",
            "Cornell-University/arxiv                               arXiv Dataset                                     885MB  2020-09-14 16:54:47           2990  \n",
            "nipunarora8/age-gender-and-ethnicity-face-data-csv     AGE, GENDER AND ETHNICITY (FACE DATA) CSV          63MB  2020-09-02 13:46:38            605  \n",
            "yoannboyere/co2-ghg-emissionsdata                      CO2_GHG_emissions-data                            147KB  2020-09-14 09:59:25            558  \n",
            "ramjidoolla/ipl-data-set                               IPL _Data_Set                                       1MB  2020-09-14 10:57:42           1093  \n",
            "anikannal/solar-power-generation-data                  Solar Power Generation Data                         2MB  2020-08-18 15:52:03           4072  \n",
            "tunguz/us-elections-dataset                            US Elections Dataset                                8MB  2020-09-17 17:02:40           2474  \n",
            "nehaprabhavalkar/av-healthcare-analytics-ii            AV : Healthcare Analytics II                        7MB  2020-08-29 03:40:10           1977  \n",
            "imoore/60k-stack-overflow-questions-with-quality-rate  60k Stack Overflow Questions with Quality Rating   21MB  2020-09-19 20:53:26           1196  \n",
            "jmmvutu/summer-products-and-sales-in-ecommerce-wish    Sales of summer clothes in E-commerce Wish        376KB  2020-08-23 15:16:46           6319  \n",
            "ruchi798/bookcrossing-dataset                          Book-Crossing: User review ratings                 25MB  2020-08-11 10:40:25           1120  \n",
            "google/tinyquickdraw                                   QuickDraw Sketches                                 11GB  2018-04-18 19:38:04           2314  \n",
            "agirlcoding/all-space-missions-from-1957               All Space Missions from 1957                      101KB  2020-08-13 16:18:58           3343  \n",
            "ihelon/lego-minifigures-classification                 LEGO Minifigures                                   17MB  2020-09-15 20:07:06           1150  \n",
            "datasnaek/youtube-new                                  Trending YouTube Video Statistics                 201MB  2019-06-03 00:56:47         105415  \n",
            "zynicide/wine-reviews                                  Wine Reviews                                       51MB  2017-11-27 17:08:04         112860  \n",
            "residentmario/ramen-ratings                            Ramen Ratings                                      40KB  2018-01-11 16:04:39          13700  \n",
            "datasnaek/chess                                        Chess Game Dataset (Lichess)                        3MB  2017-09-04 03:09:09           9009  \n"
          ],
          "name": "stdout"
        }
      ]
    },
    {
      "cell_type": "code",
      "metadata": {
        "id": "4JuA5T8JJQF3",
        "colab_type": "code",
        "colab": {}
      },
      "source": [
        "#! kaggle competitions download -h\n",
        "#! unzip -h"
      ],
      "execution_count": 2,
      "outputs": []
    },
    {
      "cell_type": "code",
      "metadata": {
        "id": "bEM12aIbWewp",
        "colab_type": "code",
        "colab": {
          "base_uri": "https://localhost:8080/",
          "height": 561
        },
        "outputId": "3e78b048-bba6-4e61-bd36-6fe33ed4d903"
      },
      "source": [
        "! mkdir rawdata\n",
        "! kaggle competitions download -c competitive-data-science-predict-future-sales -p rawdata\n",
        "! unzip 'rawdata/*.zip' -d rawdata\n",
        "! rm rawdata/*.zip"
      ],
      "execution_count": 3,
      "outputs": [
        {
          "output_type": "stream",
          "text": [
            "Warning: Looks like you're using an outdated API Version, please consider updating (server 1.5.6 / client 1.5.4)\n",
            "Downloading sample_submission.csv.zip to rawdata\n",
            "  0% 0.00/468k [00:00<?, ?B/s]\n",
            "100% 468k/468k [00:00<00:00, 70.7MB/s]\n",
            "Downloading items.csv.zip to rawdata\n",
            "  0% 0.00/368k [00:00<?, ?B/s]\n",
            "100% 368k/368k [00:00<00:00, 49.7MB/s]\n",
            "Downloading sales_train.csv.zip to rawdata\n",
            " 60% 8.00M/13.3M [00:00<00:00, 77.4MB/s]\n",
            "100% 13.3M/13.3M [00:00<00:00, 84.7MB/s]\n",
            "Downloading test.csv.zip to rawdata\n",
            "  0% 0.00/1.02M [00:00<?, ?B/s]\n",
            "100% 1.02M/1.02M [00:00<00:00, 68.1MB/s]\n",
            "Downloading item_categories.csv to rawdata\n",
            "  0% 0.00/3.49k [00:00<?, ?B/s]\n",
            "100% 3.49k/3.49k [00:00<00:00, 3.61MB/s]\n",
            "Downloading shops.csv to rawdata\n",
            "  0% 0.00/2.91k [00:00<?, ?B/s]\n",
            "100% 2.91k/2.91k [00:00<00:00, 2.86MB/s]\n",
            "Archive:  rawdata/items.csv.zip\n",
            "  inflating: rawdata/items.csv       \n",
            "\n",
            "Archive:  rawdata/sample_submission.csv.zip\n",
            "  inflating: rawdata/sample_submission.csv  \n",
            "\n",
            "Archive:  rawdata/test.csv.zip\n",
            "  inflating: rawdata/test.csv        \n",
            "\n",
            "Archive:  rawdata/sales_train.csv.zip\n",
            "  inflating: rawdata/sales_train.csv  \n",
            "\n",
            "4 archives were successfully processed.\n"
          ],
          "name": "stdout"
        }
      ]
    },
    {
      "cell_type": "code",
      "metadata": {
        "id": "9gEAaYvtXKrv",
        "colab_type": "code",
        "colab": {
          "base_uri": "https://localhost:8080/",
          "height": 1000
        },
        "outputId": "49790af6-7896-4efc-88b6-03d2d36505a8"
      },
      "source": [
        "print('################################################################# Item categories')\n",
        "! head rawdata/item_categories.csv\n",
        "print('################################################################# items')\n",
        "! head rawdata/items.csv\n",
        "print('################################################################# sales train')\n",
        "! head rawdata/sales_train.csv\n",
        "print('################################################################# shops')\n",
        "! head rawdata/shops.csv\n",
        "print('\\n\\n################################################################# test')\n",
        "! head rawdata/test.csv\n",
        "print('################################################################# sample submission')\n",
        "! head rawdata/sample_submission.csv"
      ],
      "execution_count": 4,
      "outputs": [
        {
          "output_type": "stream",
          "text": [
            "################################################################# Item categories\n",
            "item_category_name,item_category_id\n",
            "PC - Гарнитуры/Наушники,0\n",
            "Аксессуары - PS2,1\n",
            "Аксессуары - PS3,2\n",
            "Аксессуары - PS4,3\n",
            "Аксессуары - PSP,4\n",
            "Аксессуары - PSVita,5\n",
            "Аксессуары - XBOX 360,6\n",
            "Аксессуары - XBOX ONE,7\n",
            "Билеты (Цифра),8\n",
            "################################################################# items\n",
            "item_name,item_id,item_category_id\n",
            "! ВО ВЛАСТИ НАВАЖДЕНИЯ (ПЛАСТ.)         D,0,40\n",
            "\"!ABBYY FineReader 12 Professional Edition Full [PC, Цифровая версия]\",1,76\n",
            "***В ЛУЧАХ СЛАВЫ   (UNV)                    D,2,40\n",
            "***ГОЛУБАЯ ВОЛНА  (Univ)                      D,3,40\n",
            "***КОРОБКА (СТЕКЛО)                       D,4,40\n",
            "***НОВЫЕ АМЕРИКАНСКИЕ ГРАФФИТИ  (UNI)             D,5,40\n",
            "***УДАР ПО ВОРОТАМ (UNI)               D,6,40\n",
            "***УДАР ПО ВОРОТАМ-2 (UNI)               D,7,40\n",
            "***ЧАЙ С МУССОЛИНИ                     D,8,40\n",
            "################################################################# sales train\n",
            "date,date_block_num,shop_id,item_id,item_price,item_cnt_day\n",
            "02.01.2013,0,59,22154,999.0,1.0\n",
            "03.01.2013,0,25,2552,899.0,1.0\n",
            "05.01.2013,0,25,2552,899.0,-1.0\n",
            "06.01.2013,0,25,2554,1709.05,1.0\n",
            "15.01.2013,0,25,2555,1099.0,1.0\n",
            "10.01.2013,0,25,2564,349.0,1.0\n",
            "02.01.2013,0,25,2565,549.0,1.0\n",
            "04.01.2013,0,25,2572,239.0,1.0\n",
            "11.01.2013,0,25,2572,299.0,1.0\n",
            "################################################################# shops\n",
            "shop_name,shop_id\n",
            "\"!Якутск Орджоникидзе, 56 фран\",0\n",
            "\"!Якутск ТЦ \"\"Центральный\"\" фран\",1\n",
            "\"Адыгея ТЦ \"\"Мега\"\"\",2\n",
            "\"Балашиха ТРК \"\"Октябрь-Киномир\"\"\",3\n",
            "\"Волжский ТЦ \"\"Волга Молл\"\"\",4\n",
            "\"Вологда ТРЦ \"\"Мармелад\"\"\",5\n",
            "\"Воронеж (Плехановская, 13)\",6\n",
            "\"Воронеж ТРЦ \"\"Максимир\"\"\",7\n",
            "\"Воронеж ТРЦ Сити-Парк \"\"Град\"\"\",8\n",
            "\n",
            "\n",
            "################################################################# test\n",
            "ID,shop_id,item_id\n",
            "0,5,5037\n",
            "1,5,5320\n",
            "2,5,5233\n",
            "3,5,5232\n",
            "4,5,5268\n",
            "5,5,5039\n",
            "6,5,5041\n",
            "7,5,5046\n",
            "8,5,5319\n",
            "################################################################# sample submission\n",
            "ID,item_cnt_month\n",
            "0,0.5\n",
            "1,0.5\n",
            "2,0.5\n",
            "3,0.5\n",
            "4,0.5\n",
            "5,0.5\n",
            "6,0.5\n",
            "7,0.5\n",
            "8,0.5\n"
          ],
          "name": "stdout"
        }
      ]
    },
    {
      "cell_type": "code",
      "metadata": {
        "id": "vNAJxjS3pmJD",
        "colab_type": "code",
        "colab": {}
      },
      "source": [
        "import numpy as np\n",
        "import pandas as pd\n",
        "import matplotlib.pyplot as plt\n"
      ],
      "execution_count": 5,
      "outputs": []
    },
    {
      "cell_type": "code",
      "metadata": {
        "id": "sD9R7pAM2DeD",
        "colab_type": "code",
        "colab": {}
      },
      "source": [
        "def submit_solution(solution_data, message):\n",
        "  test_data = pd.read_csv('rawdata/test.csv')\n",
        "  median_sales_test = pd.merge(test_data, solution_data, how='left', on=['shop_id', 'item_id'])\n",
        "  display(median_sales_test)\n",
        "  median_sales_test.loc[pd.isnull(median_sales_test.item_cnt_day), 'item_cnt_day'] = 0\n",
        "  sample_submission = median_sales_test.loc[:, ['ID','item_cnt_day']]\n",
        "  sample_submission.columns = ['ID', 'item_cnt_month']\n",
        "  display(sample_submission)\n",
        "  sample_submission.to_csv('submission_tmp.csv', header=True, index=False)\n",
        "  ! kaggle competitions submit -c competitive-data-science-predict-future-sales -f submission_tmp.csv -m $message\n",
        "  ! rm submission_tmp.csv"
      ],
      "execution_count": 6,
      "outputs": []
    },
    {
      "cell_type": "code",
      "metadata": {
        "id": "R5WQdQCGpb3f",
        "colab_type": "code",
        "colab": {}
      },
      "source": [
        "sales_rawdata = pd.read_csv('rawdata/sales_train.csv')\n"
      ],
      "execution_count": 7,
      "outputs": []
    },
    {
      "cell_type": "code",
      "metadata": {
        "id": "7TrFM4ASp4NQ",
        "colab_type": "code",
        "colab": {
          "base_uri": "https://localhost:8080/",
          "height": 238
        },
        "outputId": "6172859e-d476-4757-b04f-16c87e98e22f"
      },
      "source": [
        "print(sales_rawdata.head())\n",
        "print(sales_rawdata.dtypes)"
      ],
      "execution_count": 8,
      "outputs": [
        {
          "output_type": "stream",
          "text": [
            "         date  date_block_num  shop_id  item_id  item_price  item_cnt_day\n",
            "0  02.01.2013               0       59    22154      999.00           1.0\n",
            "1  03.01.2013               0       25     2552      899.00           1.0\n",
            "2  05.01.2013               0       25     2552      899.00          -1.0\n",
            "3  06.01.2013               0       25     2554     1709.05           1.0\n",
            "4  15.01.2013               0       25     2555     1099.00           1.0\n",
            "date               object\n",
            "date_block_num      int64\n",
            "shop_id             int64\n",
            "item_id             int64\n",
            "item_price        float64\n",
            "item_cnt_day      float64\n",
            "dtype: object\n"
          ],
          "name": "stdout"
        }
      ]
    },
    {
      "cell_type": "code",
      "metadata": {
        "id": "iofUXAUCrCt1",
        "colab_type": "code",
        "colab": {}
      },
      "source": [
        "sales_noreturns = sales_rawdata.loc[sales_rawdata.item_cnt_day>=0, :]"
      ],
      "execution_count": 9,
      "outputs": []
    },
    {
      "cell_type": "code",
      "metadata": {
        "id": "cxLirwtCuKb9",
        "colab_type": "code",
        "colab": {
          "base_uri": "https://localhost:8080/",
          "height": 419
        },
        "outputId": "29df4fc5-4e6f-4528-80f7-3bf90aafefe5"
      },
      "source": [
        "sales_noreturns_grouped = sales_noreturns.groupby(['date_block_num','shop_id','item_id']).aggregate({'item_cnt_day':sum}).reset_index()\n",
        "display(sales_noreturns_grouped)"
      ],
      "execution_count": 10,
      "outputs": [
        {
          "output_type": "display_data",
          "data": {
            "text/html": [
              "<div>\n",
              "<style scoped>\n",
              "    .dataframe tbody tr th:only-of-type {\n",
              "        vertical-align: middle;\n",
              "    }\n",
              "\n",
              "    .dataframe tbody tr th {\n",
              "        vertical-align: top;\n",
              "    }\n",
              "\n",
              "    .dataframe thead th {\n",
              "        text-align: right;\n",
              "    }\n",
              "</style>\n",
              "<table border=\"1\" class=\"dataframe\">\n",
              "  <thead>\n",
              "    <tr style=\"text-align: right;\">\n",
              "      <th></th>\n",
              "      <th>date_block_num</th>\n",
              "      <th>shop_id</th>\n",
              "      <th>item_id</th>\n",
              "      <th>item_cnt_day</th>\n",
              "    </tr>\n",
              "  </thead>\n",
              "  <tbody>\n",
              "    <tr>\n",
              "      <th>0</th>\n",
              "      <td>0</td>\n",
              "      <td>0</td>\n",
              "      <td>32</td>\n",
              "      <td>6.0</td>\n",
              "    </tr>\n",
              "    <tr>\n",
              "      <th>1</th>\n",
              "      <td>0</td>\n",
              "      <td>0</td>\n",
              "      <td>33</td>\n",
              "      <td>3.0</td>\n",
              "    </tr>\n",
              "    <tr>\n",
              "      <th>2</th>\n",
              "      <td>0</td>\n",
              "      <td>0</td>\n",
              "      <td>35</td>\n",
              "      <td>1.0</td>\n",
              "    </tr>\n",
              "    <tr>\n",
              "      <th>3</th>\n",
              "      <td>0</td>\n",
              "      <td>0</td>\n",
              "      <td>43</td>\n",
              "      <td>1.0</td>\n",
              "    </tr>\n",
              "    <tr>\n",
              "      <th>4</th>\n",
              "      <td>0</td>\n",
              "      <td>0</td>\n",
              "      <td>51</td>\n",
              "      <td>2.0</td>\n",
              "    </tr>\n",
              "    <tr>\n",
              "      <th>...</th>\n",
              "      <td>...</td>\n",
              "      <td>...</td>\n",
              "      <td>...</td>\n",
              "      <td>...</td>\n",
              "    </tr>\n",
              "    <tr>\n",
              "      <th>1608221</th>\n",
              "      <td>33</td>\n",
              "      <td>59</td>\n",
              "      <td>22087</td>\n",
              "      <td>6.0</td>\n",
              "    </tr>\n",
              "    <tr>\n",
              "      <th>1608222</th>\n",
              "      <td>33</td>\n",
              "      <td>59</td>\n",
              "      <td>22088</td>\n",
              "      <td>2.0</td>\n",
              "    </tr>\n",
              "    <tr>\n",
              "      <th>1608223</th>\n",
              "      <td>33</td>\n",
              "      <td>59</td>\n",
              "      <td>22091</td>\n",
              "      <td>1.0</td>\n",
              "    </tr>\n",
              "    <tr>\n",
              "      <th>1608224</th>\n",
              "      <td>33</td>\n",
              "      <td>59</td>\n",
              "      <td>22100</td>\n",
              "      <td>1.0</td>\n",
              "    </tr>\n",
              "    <tr>\n",
              "      <th>1608225</th>\n",
              "      <td>33</td>\n",
              "      <td>59</td>\n",
              "      <td>22102</td>\n",
              "      <td>1.0</td>\n",
              "    </tr>\n",
              "  </tbody>\n",
              "</table>\n",
              "<p>1608226 rows × 4 columns</p>\n",
              "</div>"
            ],
            "text/plain": [
              "         date_block_num  shop_id  item_id  item_cnt_day\n",
              "0                     0        0       32           6.0\n",
              "1                     0        0       33           3.0\n",
              "2                     0        0       35           1.0\n",
              "3                     0        0       43           1.0\n",
              "4                     0        0       51           2.0\n",
              "...                 ...      ...      ...           ...\n",
              "1608221              33       59    22087           6.0\n",
              "1608222              33       59    22088           2.0\n",
              "1608223              33       59    22091           1.0\n",
              "1608224              33       59    22100           1.0\n",
              "1608225              33       59    22102           1.0\n",
              "\n",
              "[1608226 rows x 4 columns]"
            ]
          },
          "metadata": {
            "tags": []
          }
        }
      ]
    },
    {
      "cell_type": "code",
      "metadata": {
        "id": "3ZGty6pgu6EE",
        "colab_type": "code",
        "colab": {
          "base_uri": "https://localhost:8080/",
          "height": 1000
        },
        "outputId": "187bb1df-4085-4729-a851-a153f0e96c14"
      },
      "source": [
        "# Baseline score: median sales, rounded down\n",
        "sales_noreturns_grouped_last_6_months = sales_noreturns_grouped.loc[sales_noreturns_grouped.date_block_num>=(34-6), :]\n",
        "median_sales = sales_noreturns_grouped_last_6_months.groupby(['shop_id','item_id']).aggregate({'item_cnt_day':'median'}).reset_index()\n",
        "display(median_sales)\n",
        "median_sales.item_cnt_day = np.floor(median_sales.item_cnt_day)\n",
        "display(median_sales)\n",
        "#median_sales = sales_noreturns_grouped.loc[sales_noreturns_grouped.date_block_num==(34-12), :]\n",
        "#display(median_sales)\n",
        "submit_solution(median_sales, 'Median last 6 months')"
      ],
      "execution_count": 11,
      "outputs": [
        {
          "output_type": "display_data",
          "data": {
            "text/html": [
              "<div>\n",
              "<style scoped>\n",
              "    .dataframe tbody tr th:only-of-type {\n",
              "        vertical-align: middle;\n",
              "    }\n",
              "\n",
              "    .dataframe tbody tr th {\n",
              "        vertical-align: top;\n",
              "    }\n",
              "\n",
              "    .dataframe thead th {\n",
              "        text-align: right;\n",
              "    }\n",
              "</style>\n",
              "<table border=\"1\" class=\"dataframe\">\n",
              "  <thead>\n",
              "    <tr style=\"text-align: right;\">\n",
              "      <th></th>\n",
              "      <th>shop_id</th>\n",
              "      <th>item_id</th>\n",
              "      <th>item_cnt_day</th>\n",
              "    </tr>\n",
              "  </thead>\n",
              "  <tbody>\n",
              "    <tr>\n",
              "      <th>0</th>\n",
              "      <td>2</td>\n",
              "      <td>31</td>\n",
              "      <td>1.0</td>\n",
              "    </tr>\n",
              "    <tr>\n",
              "      <th>1</th>\n",
              "      <td>2</td>\n",
              "      <td>32</td>\n",
              "      <td>1.0</td>\n",
              "    </tr>\n",
              "    <tr>\n",
              "      <th>2</th>\n",
              "      <td>2</td>\n",
              "      <td>33</td>\n",
              "      <td>1.0</td>\n",
              "    </tr>\n",
              "    <tr>\n",
              "      <th>3</th>\n",
              "      <td>2</td>\n",
              "      <td>70</td>\n",
              "      <td>1.0</td>\n",
              "    </tr>\n",
              "    <tr>\n",
              "      <th>4</th>\n",
              "      <td>2</td>\n",
              "      <td>464</td>\n",
              "      <td>2.0</td>\n",
              "    </tr>\n",
              "    <tr>\n",
              "      <th>...</th>\n",
              "      <td>...</td>\n",
              "      <td>...</td>\n",
              "      <td>...</td>\n",
              "    </tr>\n",
              "    <tr>\n",
              "      <th>97959</th>\n",
              "      <td>59</td>\n",
              "      <td>22104</td>\n",
              "      <td>1.0</td>\n",
              "    </tr>\n",
              "    <tr>\n",
              "      <th>97960</th>\n",
              "      <td>59</td>\n",
              "      <td>22105</td>\n",
              "      <td>1.0</td>\n",
              "    </tr>\n",
              "    <tr>\n",
              "      <th>97961</th>\n",
              "      <td>59</td>\n",
              "      <td>22139</td>\n",
              "      <td>1.0</td>\n",
              "    </tr>\n",
              "    <tr>\n",
              "      <th>97962</th>\n",
              "      <td>59</td>\n",
              "      <td>22162</td>\n",
              "      <td>1.0</td>\n",
              "    </tr>\n",
              "    <tr>\n",
              "      <th>97963</th>\n",
              "      <td>59</td>\n",
              "      <td>22164</td>\n",
              "      <td>1.0</td>\n",
              "    </tr>\n",
              "  </tbody>\n",
              "</table>\n",
              "<p>97964 rows × 3 columns</p>\n",
              "</div>"
            ],
            "text/plain": [
              "       shop_id  item_id  item_cnt_day\n",
              "0            2       31           1.0\n",
              "1            2       32           1.0\n",
              "2            2       33           1.0\n",
              "3            2       70           1.0\n",
              "4            2      464           2.0\n",
              "...        ...      ...           ...\n",
              "97959       59    22104           1.0\n",
              "97960       59    22105           1.0\n",
              "97961       59    22139           1.0\n",
              "97962       59    22162           1.0\n",
              "97963       59    22164           1.0\n",
              "\n",
              "[97964 rows x 3 columns]"
            ]
          },
          "metadata": {
            "tags": []
          }
        },
        {
          "output_type": "display_data",
          "data": {
            "text/html": [
              "<div>\n",
              "<style scoped>\n",
              "    .dataframe tbody tr th:only-of-type {\n",
              "        vertical-align: middle;\n",
              "    }\n",
              "\n",
              "    .dataframe tbody tr th {\n",
              "        vertical-align: top;\n",
              "    }\n",
              "\n",
              "    .dataframe thead th {\n",
              "        text-align: right;\n",
              "    }\n",
              "</style>\n",
              "<table border=\"1\" class=\"dataframe\">\n",
              "  <thead>\n",
              "    <tr style=\"text-align: right;\">\n",
              "      <th></th>\n",
              "      <th>shop_id</th>\n",
              "      <th>item_id</th>\n",
              "      <th>item_cnt_day</th>\n",
              "    </tr>\n",
              "  </thead>\n",
              "  <tbody>\n",
              "    <tr>\n",
              "      <th>0</th>\n",
              "      <td>2</td>\n",
              "      <td>31</td>\n",
              "      <td>1.0</td>\n",
              "    </tr>\n",
              "    <tr>\n",
              "      <th>1</th>\n",
              "      <td>2</td>\n",
              "      <td>32</td>\n",
              "      <td>1.0</td>\n",
              "    </tr>\n",
              "    <tr>\n",
              "      <th>2</th>\n",
              "      <td>2</td>\n",
              "      <td>33</td>\n",
              "      <td>1.0</td>\n",
              "    </tr>\n",
              "    <tr>\n",
              "      <th>3</th>\n",
              "      <td>2</td>\n",
              "      <td>70</td>\n",
              "      <td>1.0</td>\n",
              "    </tr>\n",
              "    <tr>\n",
              "      <th>4</th>\n",
              "      <td>2</td>\n",
              "      <td>464</td>\n",
              "      <td>2.0</td>\n",
              "    </tr>\n",
              "    <tr>\n",
              "      <th>...</th>\n",
              "      <td>...</td>\n",
              "      <td>...</td>\n",
              "      <td>...</td>\n",
              "    </tr>\n",
              "    <tr>\n",
              "      <th>97959</th>\n",
              "      <td>59</td>\n",
              "      <td>22104</td>\n",
              "      <td>1.0</td>\n",
              "    </tr>\n",
              "    <tr>\n",
              "      <th>97960</th>\n",
              "      <td>59</td>\n",
              "      <td>22105</td>\n",
              "      <td>1.0</td>\n",
              "    </tr>\n",
              "    <tr>\n",
              "      <th>97961</th>\n",
              "      <td>59</td>\n",
              "      <td>22139</td>\n",
              "      <td>1.0</td>\n",
              "    </tr>\n",
              "    <tr>\n",
              "      <th>97962</th>\n",
              "      <td>59</td>\n",
              "      <td>22162</td>\n",
              "      <td>1.0</td>\n",
              "    </tr>\n",
              "    <tr>\n",
              "      <th>97963</th>\n",
              "      <td>59</td>\n",
              "      <td>22164</td>\n",
              "      <td>1.0</td>\n",
              "    </tr>\n",
              "  </tbody>\n",
              "</table>\n",
              "<p>97964 rows × 3 columns</p>\n",
              "</div>"
            ],
            "text/plain": [
              "       shop_id  item_id  item_cnt_day\n",
              "0            2       31           1.0\n",
              "1            2       32           1.0\n",
              "2            2       33           1.0\n",
              "3            2       70           1.0\n",
              "4            2      464           2.0\n",
              "...        ...      ...           ...\n",
              "97959       59    22104           1.0\n",
              "97960       59    22105           1.0\n",
              "97961       59    22139           1.0\n",
              "97962       59    22162           1.0\n",
              "97963       59    22164           1.0\n",
              "\n",
              "[97964 rows x 3 columns]"
            ]
          },
          "metadata": {
            "tags": []
          }
        },
        {
          "output_type": "display_data",
          "data": {
            "text/html": [
              "<div>\n",
              "<style scoped>\n",
              "    .dataframe tbody tr th:only-of-type {\n",
              "        vertical-align: middle;\n",
              "    }\n",
              "\n",
              "    .dataframe tbody tr th {\n",
              "        vertical-align: top;\n",
              "    }\n",
              "\n",
              "    .dataframe thead th {\n",
              "        text-align: right;\n",
              "    }\n",
              "</style>\n",
              "<table border=\"1\" class=\"dataframe\">\n",
              "  <thead>\n",
              "    <tr style=\"text-align: right;\">\n",
              "      <th></th>\n",
              "      <th>ID</th>\n",
              "      <th>shop_id</th>\n",
              "      <th>item_id</th>\n",
              "      <th>item_cnt_day</th>\n",
              "    </tr>\n",
              "  </thead>\n",
              "  <tbody>\n",
              "    <tr>\n",
              "      <th>0</th>\n",
              "      <td>0</td>\n",
              "      <td>5</td>\n",
              "      <td>5037</td>\n",
              "      <td>1.0</td>\n",
              "    </tr>\n",
              "    <tr>\n",
              "      <th>1</th>\n",
              "      <td>1</td>\n",
              "      <td>5</td>\n",
              "      <td>5320</td>\n",
              "      <td>NaN</td>\n",
              "    </tr>\n",
              "    <tr>\n",
              "      <th>2</th>\n",
              "      <td>2</td>\n",
              "      <td>5</td>\n",
              "      <td>5233</td>\n",
              "      <td>2.0</td>\n",
              "    </tr>\n",
              "    <tr>\n",
              "      <th>3</th>\n",
              "      <td>3</td>\n",
              "      <td>5</td>\n",
              "      <td>5232</td>\n",
              "      <td>1.0</td>\n",
              "    </tr>\n",
              "    <tr>\n",
              "      <th>4</th>\n",
              "      <td>4</td>\n",
              "      <td>5</td>\n",
              "      <td>5268</td>\n",
              "      <td>NaN</td>\n",
              "    </tr>\n",
              "    <tr>\n",
              "      <th>...</th>\n",
              "      <td>...</td>\n",
              "      <td>...</td>\n",
              "      <td>...</td>\n",
              "      <td>...</td>\n",
              "    </tr>\n",
              "    <tr>\n",
              "      <th>214195</th>\n",
              "      <td>214195</td>\n",
              "      <td>45</td>\n",
              "      <td>18454</td>\n",
              "      <td>1.0</td>\n",
              "    </tr>\n",
              "    <tr>\n",
              "      <th>214196</th>\n",
              "      <td>214196</td>\n",
              "      <td>45</td>\n",
              "      <td>16188</td>\n",
              "      <td>NaN</td>\n",
              "    </tr>\n",
              "    <tr>\n",
              "      <th>214197</th>\n",
              "      <td>214197</td>\n",
              "      <td>45</td>\n",
              "      <td>15757</td>\n",
              "      <td>NaN</td>\n",
              "    </tr>\n",
              "    <tr>\n",
              "      <th>214198</th>\n",
              "      <td>214198</td>\n",
              "      <td>45</td>\n",
              "      <td>19648</td>\n",
              "      <td>NaN</td>\n",
              "    </tr>\n",
              "    <tr>\n",
              "      <th>214199</th>\n",
              "      <td>214199</td>\n",
              "      <td>45</td>\n",
              "      <td>969</td>\n",
              "      <td>NaN</td>\n",
              "    </tr>\n",
              "  </tbody>\n",
              "</table>\n",
              "<p>214200 rows × 4 columns</p>\n",
              "</div>"
            ],
            "text/plain": [
              "            ID  shop_id  item_id  item_cnt_day\n",
              "0            0        5     5037           1.0\n",
              "1            1        5     5320           NaN\n",
              "2            2        5     5233           2.0\n",
              "3            3        5     5232           1.0\n",
              "4            4        5     5268           NaN\n",
              "...        ...      ...      ...           ...\n",
              "214195  214195       45    18454           1.0\n",
              "214196  214196       45    16188           NaN\n",
              "214197  214197       45    15757           NaN\n",
              "214198  214198       45    19648           NaN\n",
              "214199  214199       45      969           NaN\n",
              "\n",
              "[214200 rows x 4 columns]"
            ]
          },
          "metadata": {
            "tags": []
          }
        },
        {
          "output_type": "display_data",
          "data": {
            "text/html": [
              "<div>\n",
              "<style scoped>\n",
              "    .dataframe tbody tr th:only-of-type {\n",
              "        vertical-align: middle;\n",
              "    }\n",
              "\n",
              "    .dataframe tbody tr th {\n",
              "        vertical-align: top;\n",
              "    }\n",
              "\n",
              "    .dataframe thead th {\n",
              "        text-align: right;\n",
              "    }\n",
              "</style>\n",
              "<table border=\"1\" class=\"dataframe\">\n",
              "  <thead>\n",
              "    <tr style=\"text-align: right;\">\n",
              "      <th></th>\n",
              "      <th>ID</th>\n",
              "      <th>item_cnt_month</th>\n",
              "    </tr>\n",
              "  </thead>\n",
              "  <tbody>\n",
              "    <tr>\n",
              "      <th>0</th>\n",
              "      <td>0</td>\n",
              "      <td>1.0</td>\n",
              "    </tr>\n",
              "    <tr>\n",
              "      <th>1</th>\n",
              "      <td>1</td>\n",
              "      <td>0.0</td>\n",
              "    </tr>\n",
              "    <tr>\n",
              "      <th>2</th>\n",
              "      <td>2</td>\n",
              "      <td>2.0</td>\n",
              "    </tr>\n",
              "    <tr>\n",
              "      <th>3</th>\n",
              "      <td>3</td>\n",
              "      <td>1.0</td>\n",
              "    </tr>\n",
              "    <tr>\n",
              "      <th>4</th>\n",
              "      <td>4</td>\n",
              "      <td>0.0</td>\n",
              "    </tr>\n",
              "    <tr>\n",
              "      <th>...</th>\n",
              "      <td>...</td>\n",
              "      <td>...</td>\n",
              "    </tr>\n",
              "    <tr>\n",
              "      <th>214195</th>\n",
              "      <td>214195</td>\n",
              "      <td>1.0</td>\n",
              "    </tr>\n",
              "    <tr>\n",
              "      <th>214196</th>\n",
              "      <td>214196</td>\n",
              "      <td>0.0</td>\n",
              "    </tr>\n",
              "    <tr>\n",
              "      <th>214197</th>\n",
              "      <td>214197</td>\n",
              "      <td>0.0</td>\n",
              "    </tr>\n",
              "    <tr>\n",
              "      <th>214198</th>\n",
              "      <td>214198</td>\n",
              "      <td>0.0</td>\n",
              "    </tr>\n",
              "    <tr>\n",
              "      <th>214199</th>\n",
              "      <td>214199</td>\n",
              "      <td>0.0</td>\n",
              "    </tr>\n",
              "  </tbody>\n",
              "</table>\n",
              "<p>214200 rows × 2 columns</p>\n",
              "</div>"
            ],
            "text/plain": [
              "            ID  item_cnt_month\n",
              "0            0             1.0\n",
              "1            1             0.0\n",
              "2            2             2.0\n",
              "3            3             1.0\n",
              "4            4             0.0\n",
              "...        ...             ...\n",
              "214195  214195             1.0\n",
              "214196  214196             0.0\n",
              "214197  214197             0.0\n",
              "214198  214198             0.0\n",
              "214199  214199             0.0\n",
              "\n",
              "[214200 rows x 2 columns]"
            ]
          },
          "metadata": {
            "tags": []
          }
        },
        {
          "output_type": "stream",
          "text": [
            "Warning: Looks like you're using an outdated API Version, please consider updating (server 1.5.6 / client 1.5.4)\n",
            "100% 2.14M/2.14M [00:07<00:00, 285kB/s]\n",
            "Successfully submitted to Predict Future Sales"
          ],
          "name": "stdout"
        }
      ]
    },
    {
      "cell_type": "markdown",
      "metadata": {
        "id": "-vbuQ9inpbIt",
        "colab_type": "text"
      },
      "source": [
        "# Exploratory Data Analysis"
      ]
    },
    {
      "cell_type": "markdown",
      "metadata": {
        "id": "wFSxR1Wmw7Wf",
        "colab_type": "text"
      },
      "source": [
        "## Sales data"
      ]
    },
    {
      "cell_type": "code",
      "metadata": {
        "id": "c95PtmiMoP3v",
        "colab_type": "code",
        "colab": {}
      },
      "source": [
        "sales_rawdata = pd.read_csv('rawdata/sales_train.csv')"
      ],
      "execution_count": 12,
      "outputs": []
    },
    {
      "cell_type": "code",
      "metadata": {
        "id": "M0CAKCbixINi",
        "colab_type": "code",
        "colab": {
          "base_uri": "https://localhost:8080/",
          "height": 68
        },
        "outputId": "47e04828-a58d-4901-b9a0-51d89999fc7e"
      },
      "source": [
        "print(sales_rawdata.columns)"
      ],
      "execution_count": 13,
      "outputs": [
        {
          "output_type": "stream",
          "text": [
            "Index(['date', 'date_block_num', 'shop_id', 'item_id', 'item_price',\n",
            "       'item_cnt_day'],\n",
            "      dtype='object')\n"
          ],
          "name": "stdout"
        }
      ]
    },
    {
      "cell_type": "code",
      "metadata": {
        "id": "CduurYGWzOhA",
        "colab_type": "code",
        "colab": {
          "base_uri": "https://localhost:8080/",
          "height": 136
        },
        "outputId": "ab049205-38e0-4d8d-a249-135ab153f041"
      },
      "source": [
        "print(sales_rawdata.dtypes)"
      ],
      "execution_count": 18,
      "outputs": [
        {
          "output_type": "stream",
          "text": [
            "date               object\n",
            "date_block_num      int64\n",
            "shop_id             int64\n",
            "item_id             int64\n",
            "item_price        float64\n",
            "item_cnt_day      float64\n",
            "dtype: object\n"
          ],
          "name": "stdout"
        }
      ]
    },
    {
      "cell_type": "code",
      "metadata": {
        "id": "ozITNfOcxK3j",
        "colab_type": "code",
        "colab": {
          "base_uri": "https://localhost:8080/",
          "height": 204
        },
        "outputId": "287b2c38-703a-4c29-dcd3-dd0f68d7a0a4"
      },
      "source": [
        "display(sales_rawdata.head())"
      ],
      "execution_count": 14,
      "outputs": [
        {
          "output_type": "display_data",
          "data": {
            "text/html": [
              "<div>\n",
              "<style scoped>\n",
              "    .dataframe tbody tr th:only-of-type {\n",
              "        vertical-align: middle;\n",
              "    }\n",
              "\n",
              "    .dataframe tbody tr th {\n",
              "        vertical-align: top;\n",
              "    }\n",
              "\n",
              "    .dataframe thead th {\n",
              "        text-align: right;\n",
              "    }\n",
              "</style>\n",
              "<table border=\"1\" class=\"dataframe\">\n",
              "  <thead>\n",
              "    <tr style=\"text-align: right;\">\n",
              "      <th></th>\n",
              "      <th>date</th>\n",
              "      <th>date_block_num</th>\n",
              "      <th>shop_id</th>\n",
              "      <th>item_id</th>\n",
              "      <th>item_price</th>\n",
              "      <th>item_cnt_day</th>\n",
              "    </tr>\n",
              "  </thead>\n",
              "  <tbody>\n",
              "    <tr>\n",
              "      <th>0</th>\n",
              "      <td>02.01.2013</td>\n",
              "      <td>0</td>\n",
              "      <td>59</td>\n",
              "      <td>22154</td>\n",
              "      <td>999.00</td>\n",
              "      <td>1.0</td>\n",
              "    </tr>\n",
              "    <tr>\n",
              "      <th>1</th>\n",
              "      <td>03.01.2013</td>\n",
              "      <td>0</td>\n",
              "      <td>25</td>\n",
              "      <td>2552</td>\n",
              "      <td>899.00</td>\n",
              "      <td>1.0</td>\n",
              "    </tr>\n",
              "    <tr>\n",
              "      <th>2</th>\n",
              "      <td>05.01.2013</td>\n",
              "      <td>0</td>\n",
              "      <td>25</td>\n",
              "      <td>2552</td>\n",
              "      <td>899.00</td>\n",
              "      <td>-1.0</td>\n",
              "    </tr>\n",
              "    <tr>\n",
              "      <th>3</th>\n",
              "      <td>06.01.2013</td>\n",
              "      <td>0</td>\n",
              "      <td>25</td>\n",
              "      <td>2554</td>\n",
              "      <td>1709.05</td>\n",
              "      <td>1.0</td>\n",
              "    </tr>\n",
              "    <tr>\n",
              "      <th>4</th>\n",
              "      <td>15.01.2013</td>\n",
              "      <td>0</td>\n",
              "      <td>25</td>\n",
              "      <td>2555</td>\n",
              "      <td>1099.00</td>\n",
              "      <td>1.0</td>\n",
              "    </tr>\n",
              "  </tbody>\n",
              "</table>\n",
              "</div>"
            ],
            "text/plain": [
              "         date  date_block_num  shop_id  item_id  item_price  item_cnt_day\n",
              "0  02.01.2013               0       59    22154      999.00           1.0\n",
              "1  03.01.2013               0       25     2552      899.00           1.0\n",
              "2  05.01.2013               0       25     2552      899.00          -1.0\n",
              "3  06.01.2013               0       25     2554     1709.05           1.0\n",
              "4  15.01.2013               0       25     2555     1099.00           1.0"
            ]
          },
          "metadata": {
            "tags": []
          }
        }
      ]
    },
    {
      "cell_type": "code",
      "metadata": {
        "id": "Kpnpt_kSycfK",
        "colab_type": "code",
        "colab": {
          "base_uri": "https://localhost:8080/",
          "height": 418
        },
        "outputId": "862cc34c-8dac-4ea6-af87-4b95560d4fe0"
      },
      "source": [
        "plt.hist(sales_rawdata.date_block_num, bins=max(sales_rawdata.date_block_num))"
      ],
      "execution_count": 16,
      "outputs": [
        {
          "output_type": "execute_result",
          "data": {
            "text/plain": [
              "(array([115690., 108613., 121347.,  94109.,  91759., 100403., 100548.,\n",
              "        104772.,  96137.,  94202.,  96736., 143246.,  99349.,  89830.,\n",
              "         92733.,  77906.,  78529.,  82408.,  78760.,  86614.,  73157.,\n",
              "         79361.,  86428., 130786.,  88522.,  71808.,  69977.,  56274.,\n",
              "         54548.,  54617.,  55549.,  57029., 104102.]),\n",
              " array([ 0.,  1.,  2.,  3.,  4.,  5.,  6.,  7.,  8.,  9., 10., 11., 12.,\n",
              "        13., 14., 15., 16., 17., 18., 19., 20., 21., 22., 23., 24., 25.,\n",
              "        26., 27., 28., 29., 30., 31., 32., 33.]),\n",
              " <a list of 33 Patch objects>)"
            ]
          },
          "metadata": {
            "tags": []
          },
          "execution_count": 16
        },
        {
          "output_type": "display_data",
          "data": {
            "image/png": "[encoded data removed]",
            "text/plain": [
              "<Figure size 432x288 with 1 Axes>"
            ]
          },
          "metadata": {
            "tags": [],
            "needs_background": "light"
          }
        }
      ]
    },
    {
      "cell_type": "code",
      "metadata": {
        "id": "_MYPeZwuykju",
        "colab_type": "code",
        "colab": {
          "base_uri": "https://localhost:8080/",
          "height": 418
        },
        "outputId": "80c8c250-97b3-42c4-f742-b5e1f1908749"
      },
      "source": [
        "plt.hist(sales_rawdata.loc[sales_rawdata.item_cnt_day>0, 'date_block_num'], bins=max(sales_rawdata.date_block_num))"
      ],
      "execution_count": 19,
      "outputs": [
        {
          "output_type": "execute_result",
          "data": {
            "text/plain": [
              "(array([115338., 108326., 121053.,  93865.,  91582., 100202., 100350.,\n",
              "        104495.,  95918.,  93938.,  96503., 142921.,  99009.,  89550.,\n",
              "         92530.,  77718.,  78382.,  82215.,  78554.,  86427.,  72943.,\n",
              "         79169.,  86225., 130489.,  88199.,  71595.,  69766.,  56157.,\n",
              "         54415.,  54497.,  55420.,  56913., 103829.]),\n",
              " array([ 0.,  1.,  2.,  3.,  4.,  5.,  6.,  7.,  8.,  9., 10., 11., 12.,\n",
              "        13., 14., 15., 16., 17., 18., 19., 20., 21., 22., 23., 24., 25.,\n",
              "        26., 27., 28., 29., 30., 31., 32., 33.]),\n",
              " <a list of 33 Patch objects>)"
            ]
          },
          "metadata": {
            "tags": []
          },
          "execution_count": 19
        },
        {
          "output_type": "display_data",
          "data": {
            "image/png": "[encoded data removed]",
            "text/plain": [
              "<Figure size 432x288 with 1 Axes>"
            ]
          },
          "metadata": {
            "tags": [],
            "needs_background": "light"
          }
        }
      ]
    },
    {
      "cell_type": "markdown",
      "metadata": {
        "id": "4nJ2E2_w54yV",
        "colab_type": "text"
      },
      "source": [
        "- It can be observed that the number of sales diminishes with time. There are some high points in months 11 (december), 23 (december), 33 (october!). Maybe the last month is not the best one as reference (baseline prediction). There was a sale? a big promotion?"
      ]
    },
    {
      "cell_type": "code",
      "metadata": {
        "id": "5yzKYDvbzIQM",
        "colab_type": "code",
        "colab": {}
      },
      "source": [
        "tmp = sales_rawdata.loc[sales_rawdata.item_cnt_day>0, :].groupby('item_id')['item_price'].count().reset_index()"
      ],
      "execution_count": 41,
      "outputs": []
    },
    {
      "cell_type": "code",
      "metadata": {
        "id": "db0-galF0aya",
        "colab_type": "code",
        "colab": {
          "base_uri": "https://localhost:8080/",
          "height": 855
        },
        "outputId": "a3d7fad6-bb1f-44ba-d24a-ba422df8737e"
      },
      "source": [
        "display(tmp.head(26))"
      ],
      "execution_count": 47,
      "outputs": [
        {
          "output_type": "display_data",
          "data": {
            "text/html": [
              "<div>\n",
              "<style scoped>\n",
              "    .dataframe tbody tr th:only-of-type {\n",
              "        vertical-align: middle;\n",
              "    }\n",
              "\n",
              "    .dataframe tbody tr th {\n",
              "        vertical-align: top;\n",
              "    }\n",
              "\n",
              "    .dataframe thead th {\n",
              "        text-align: right;\n",
              "    }\n",
              "</style>\n",
              "<table border=\"1\" class=\"dataframe\">\n",
              "  <thead>\n",
              "    <tr style=\"text-align: right;\">\n",
              "      <th></th>\n",
              "      <th>item_id</th>\n",
              "      <th>item_price</th>\n",
              "    </tr>\n",
              "  </thead>\n",
              "  <tbody>\n",
              "    <tr>\n",
              "      <th>0</th>\n",
              "      <td>0</td>\n",
              "      <td>1</td>\n",
              "    </tr>\n",
              "    <tr>\n",
              "      <th>1</th>\n",
              "      <td>1</td>\n",
              "      <td>6</td>\n",
              "    </tr>\n",
              "    <tr>\n",
              "      <th>2</th>\n",
              "      <td>2</td>\n",
              "      <td>2</td>\n",
              "    </tr>\n",
              "    <tr>\n",
              "      <th>3</th>\n",
              "      <td>3</td>\n",
              "      <td>2</td>\n",
              "    </tr>\n",
              "    <tr>\n",
              "      <th>4</th>\n",
              "      <td>4</td>\n",
              "      <td>1</td>\n",
              "    </tr>\n",
              "    <tr>\n",
              "      <th>5</th>\n",
              "      <td>5</td>\n",
              "      <td>1</td>\n",
              "    </tr>\n",
              "    <tr>\n",
              "      <th>6</th>\n",
              "      <td>6</td>\n",
              "      <td>1</td>\n",
              "    </tr>\n",
              "    <tr>\n",
              "      <th>7</th>\n",
              "      <td>7</td>\n",
              "      <td>1</td>\n",
              "    </tr>\n",
              "    <tr>\n",
              "      <th>8</th>\n",
              "      <td>8</td>\n",
              "      <td>2</td>\n",
              "    </tr>\n",
              "    <tr>\n",
              "      <th>9</th>\n",
              "      <td>9</td>\n",
              "      <td>1</td>\n",
              "    </tr>\n",
              "    <tr>\n",
              "      <th>10</th>\n",
              "      <td>10</td>\n",
              "      <td>1</td>\n",
              "    </tr>\n",
              "    <tr>\n",
              "      <th>11</th>\n",
              "      <td>11</td>\n",
              "      <td>1</td>\n",
              "    </tr>\n",
              "    <tr>\n",
              "      <th>12</th>\n",
              "      <td>12</td>\n",
              "      <td>1</td>\n",
              "    </tr>\n",
              "    <tr>\n",
              "      <th>13</th>\n",
              "      <td>13</td>\n",
              "      <td>1</td>\n",
              "    </tr>\n",
              "    <tr>\n",
              "      <th>14</th>\n",
              "      <td>14</td>\n",
              "      <td>1</td>\n",
              "    </tr>\n",
              "    <tr>\n",
              "      <th>15</th>\n",
              "      <td>15</td>\n",
              "      <td>1</td>\n",
              "    </tr>\n",
              "    <tr>\n",
              "      <th>16</th>\n",
              "      <td>16</td>\n",
              "      <td>1</td>\n",
              "    </tr>\n",
              "    <tr>\n",
              "      <th>17</th>\n",
              "      <td>17</td>\n",
              "      <td>1</td>\n",
              "    </tr>\n",
              "    <tr>\n",
              "      <th>18</th>\n",
              "      <td>18</td>\n",
              "      <td>1</td>\n",
              "    </tr>\n",
              "    <tr>\n",
              "      <th>19</th>\n",
              "      <td>19</td>\n",
              "      <td>1</td>\n",
              "    </tr>\n",
              "    <tr>\n",
              "      <th>20</th>\n",
              "      <td>20</td>\n",
              "      <td>1</td>\n",
              "    </tr>\n",
              "    <tr>\n",
              "      <th>21</th>\n",
              "      <td>21</td>\n",
              "      <td>1</td>\n",
              "    </tr>\n",
              "    <tr>\n",
              "      <th>22</th>\n",
              "      <td>22</td>\n",
              "      <td>1</td>\n",
              "    </tr>\n",
              "    <tr>\n",
              "      <th>23</th>\n",
              "      <td>23</td>\n",
              "      <td>1</td>\n",
              "    </tr>\n",
              "    <tr>\n",
              "      <th>24</th>\n",
              "      <td>24</td>\n",
              "      <td>1</td>\n",
              "    </tr>\n",
              "    <tr>\n",
              "      <th>25</th>\n",
              "      <td>25</td>\n",
              "      <td>1</td>\n",
              "    </tr>\n",
              "  </tbody>\n",
              "</table>\n",
              "</div>"
            ],
            "text/plain": [
              "    item_id  item_price\n",
              "0         0           1\n",
              "1         1           6\n",
              "2         2           2\n",
              "3         3           2\n",
              "4         4           1\n",
              "5         5           1\n",
              "6         6           1\n",
              "7         7           1\n",
              "8         8           2\n",
              "9         9           1\n",
              "10       10           1\n",
              "11       11           1\n",
              "12       12           1\n",
              "13       13           1\n",
              "14       14           1\n",
              "15       15           1\n",
              "16       16           1\n",
              "17       17           1\n",
              "18       18           1\n",
              "19       19           1\n",
              "20       20           1\n",
              "21       21           1\n",
              "22       22           1\n",
              "23       23           1\n",
              "24       24           1\n",
              "25       25           1"
            ]
          },
          "metadata": {
            "tags": []
          }
        }
      ]
    },
    {
      "cell_type": "code",
      "metadata": {
        "id": "jIv0ihve1YXH",
        "colab_type": "code",
        "colab": {
          "base_uri": "https://localhost:8080/",
          "height": 265
        },
        "outputId": "d036a459-248a-434e-d406-e82b90f191ee"
      },
      "source": [
        "plt.hist(tmp.item_price, bins=100)\n",
        "plt.show()"
      ],
      "execution_count": 48,
      "outputs": [
        {
          "output_type": "display_data",
          "data": {
            "image/png": "[encoded data removed]",
            "text/plain": [
              "<Figure size 432x288 with 1 Axes>"
            ]
          },
          "metadata": {
            "tags": [],
            "needs_background": "light"
          }
        }
      ]
    },
    {
      "cell_type": "markdown",
      "metadata": {
        "id": "_0cKYd4O8fNc",
        "colab_type": "text"
      },
      "source": [
        "This plot shows that most items appear very few times. Let's take a look at log of this"
      ]
    },
    {
      "cell_type": "code",
      "metadata": {
        "id": "tjKpZU_A12Mq",
        "colab_type": "code",
        "colab": {
          "base_uri": "https://localhost:8080/",
          "height": 265
        },
        "outputId": "7e4325cf-782b-47f5-c089-b614185a197e"
      },
      "source": [
        "plt.hist(np.log10(tmp.item_price), bins=100)\n",
        "plt.show()"
      ],
      "execution_count": 49,
      "outputs": [
        {
          "output_type": "display_data",
          "data": {
            "image/png": "[encoded data removed]",
            "text/plain": [
              "<Figure size 432x288 with 1 Axes>"
            ]
          },
          "metadata": {
            "tags": [],
            "needs_background": "light"
          }
        }
      ]
    },
    {
      "cell_type": "markdown",
      "metadata": {
        "id": "tB-sVhoB8wcK",
        "colab_type": "text"
      },
      "source": [
        "This gives us a better idea. More than 2000 of the items appears only once in the whole dataset! And around 2000 more below 10 times. So for these items appearing only 1-10 times, it is by similarity with other items that they can be predicted.\n",
        "In fact, they might mislead the prediction? I think they could be used to calculate averages of sales, of most trendy categories or stores (aggregated calculations) (and not pretty sure about that either), but probably they are tricky to consider as samples for training."
      ]
    },
    {
      "cell_type": "code",
      "metadata": {
        "id": "Q5p88N3n8twf",
        "colab_type": "code",
        "colab": {
          "base_uri": "https://localhost:8080/",
          "height": 367
        },
        "outputId": "4ad5a563-0dce-4461-cedb-d9c63f7e8088"
      },
      "source": [
        "plt.hist(np.log10(sales_rawdata.loc[sales_rawdata.item_cnt_day>0].item_price), bins=50)\n",
        "plt.show()"
      ],
      "execution_count": 53,
      "outputs": [
        {
          "output_type": "stream",
          "text": [
            "/usr/local/lib/python3.6/dist-packages/pandas/core/series.py:679: RuntimeWarning: invalid value encountered in log10\n",
            "  result = getattr(ufunc, method)(*inputs, **kwargs)\n",
            "/usr/local/lib/python3.6/dist-packages/numpy/lib/histograms.py:839: RuntimeWarning: invalid value encountered in greater_equal\n",
            "  keep = (tmp_a >= first_edge)\n",
            "/usr/local/lib/python3.6/dist-packages/numpy/lib/histograms.py:840: RuntimeWarning: invalid value encountered in less_equal\n",
            "  keep &= (tmp_a <= last_edge)\n"
          ],
          "name": "stderr"
        },
        {
          "output_type": "display_data",
          "data": {
            "image/png": "[encoded data removed]",
            "text/plain": [
              "<Figure size 432x288 with 1 Axes>"
            ]
          },
          "metadata": {
            "tags": [],
            "needs_background": "light"
          }
        }
      ]
    },
    {
      "cell_type": "code",
      "metadata": {
        "id": "m9cSNL0QBM0g",
        "colab_type": "code",
        "colab": {
          "base_uri": "https://localhost:8080/",
          "height": 80
        },
        "outputId": "536c2daf-69b4-4224-acea-e46e6e00b90a"
      },
      "source": [
        "display(sales_rawdata.loc[sales_rawdata.item_price<0, :])"
      ],
      "execution_count": 55,
      "outputs": [
        {
          "output_type": "display_data",
          "data": {
            "text/html": [
              "<div>\n",
              "<style scoped>\n",
              "    .dataframe tbody tr th:only-of-type {\n",
              "        vertical-align: middle;\n",
              "    }\n",
              "\n",
              "    .dataframe tbody tr th {\n",
              "        vertical-align: top;\n",
              "    }\n",
              "\n",
              "    .dataframe thead th {\n",
              "        text-align: right;\n",
              "    }\n",
              "</style>\n",
              "<table border=\"1\" class=\"dataframe\">\n",
              "  <thead>\n",
              "    <tr style=\"text-align: right;\">\n",
              "      <th></th>\n",
              "      <th>date</th>\n",
              "      <th>date_block_num</th>\n",
              "      <th>shop_id</th>\n",
              "      <th>item_id</th>\n",
              "      <th>item_price</th>\n",
              "      <th>item_cnt_day</th>\n",
              "    </tr>\n",
              "  </thead>\n",
              "  <tbody>\n",
              "    <tr>\n",
              "      <th>484683</th>\n",
              "      <td>15.05.2013</td>\n",
              "      <td>4</td>\n",
              "      <td>32</td>\n",
              "      <td>2973</td>\n",
              "      <td>-1.0</td>\n",
              "      <td>1.0</td>\n",
              "    </tr>\n",
              "  </tbody>\n",
              "</table>\n",
              "</div>"
            ],
            "text/plain": [
              "              date  date_block_num  shop_id  item_id  item_price  item_cnt_day\n",
              "484683  15.05.2013               4       32     2973        -1.0           1.0"
            ]
          },
          "metadata": {
            "tags": []
          }
        }
      ]
    },
    {
      "cell_type": "markdown",
      "metadata": {
        "id": "J1JnvvfFBMMH",
        "colab_type": "text"
      },
      "source": [
        "There is an entry with negative price (??). Also, price ranges are quite wide, from less than 1 monetary unit to more than 10k monetary units. That shows that the items sold are quite different nature. Probably, pricy items are sold less than cheaper ones.\n",
        "\n"
      ]
    },
    {
      "cell_type": "code",
      "metadata": {
        "id": "OleGA9nsAz8u",
        "colab_type": "code",
        "colab": {}
      },
      "source": [
        "sales_rawdata['month_year'] = sales_rawdata['date'].apply(lambda date: date[2:])"
      ],
      "execution_count": 59,
      "outputs": []
    },
    {
      "cell_type": "code",
      "metadata": {
        "id": "zq4EBqNBCPcl",
        "colab_type": "code",
        "colab": {
          "base_uri": "https://localhost:8080/",
          "height": 136
        },
        "outputId": "8ae5aec2-817a-4b85-e568-4134a5c91fc1"
      },
      "source": [
        "display(sales_rawdata.month_year.unique())"
      ],
      "execution_count": 60,
      "outputs": [
        {
          "output_type": "display_data",
          "data": {
            "text/plain": [
              "array(['.01.2013', '.02.2013', '.03.2013', '.04.2013', '.05.2013',\n",
              "       '.06.2013', '.07.2013', '.08.2013', '.09.2013', '.10.2013',\n",
              "       '.11.2013', '.12.2013', '.01.2014', '.02.2014', '.03.2014',\n",
              "       '.04.2014', '.05.2014', '.06.2014', '.07.2014', '.08.2014',\n",
              "       '.09.2014', '.10.2014', '.11.2014', '.12.2014', '.01.2015',\n",
              "       '.02.2015', '.03.2015', '.04.2015', '.05.2015', '.06.2015',\n",
              "       '.07.2015', '.08.2015', '.09.2015', '.10.2015'], dtype=object)"
            ]
          },
          "metadata": {
            "tags": []
          }
        }
      ]
    },
    {
      "cell_type": "markdown",
      "metadata": {
        "id": "mn-b20wgDBOY",
        "colab_type": "text"
      },
      "source": [
        "There are no missing months"
      ]
    },
    {
      "cell_type": "code",
      "metadata": {
        "id": "Z3-MbGBICnNY",
        "colab_type": "code",
        "colab": {
          "base_uri": "https://localhost:8080/",
          "height": 1000
        },
        "outputId": "d3eed45e-e06d-4ecd-bb4f-0b284580b7b3"
      },
      "source": [
        "tmp = sales_rawdata.groupby(['date_block_num','shop_id']).agg({'item_cnt_day':'sum'}).reset_index().rename(columns={'item_cnt_day':'item_cnt_month'})\n",
        "tmp = tmp.groupby('shop_id').agg(item_cnt_month_count=('item_cnt_month','count'), item_cnt_month_avg=('item_cnt_month', 'mean'), item_cnt_month_std=('item_cnt_month','std'), item_cnt_month_total=('item_cnt_month','sum')).reset_index()\n",
        "display(tmp)"
      ],
      "execution_count": 78,
      "outputs": [
        {
          "output_type": "display_data",
          "data": {
            "text/html": [
              "<div>\n",
              "<style scoped>\n",
              "    .dataframe tbody tr th:only-of-type {\n",
              "        vertical-align: middle;\n",
              "    }\n",
              "\n",
              "    .dataframe tbody tr th {\n",
              "        vertical-align: top;\n",
              "    }\n",
              "\n",
              "    .dataframe thead th {\n",
              "        text-align: right;\n",
              "    }\n",
              "</style>\n",
              "<table border=\"1\" class=\"dataframe\">\n",
              "  <thead>\n",
              "    <tr style=\"text-align: right;\">\n",
              "      <th></th>\n",
              "      <th>shop_id</th>\n",
              "      <th>item_cnt_month_count</th>\n",
              "      <th>item_cnt_month_avg</th>\n",
              "      <th>item_cnt_month_std</th>\n",
              "      <th>item_cnt_month_total</th>\n",
              "    </tr>\n",
              "  </thead>\n",
              "  <tbody>\n",
              "    <tr>\n",
              "      <th>0</th>\n",
              "      <td>0</td>\n",
              "      <td>2</td>\n",
              "      <td>5852.500000</td>\n",
              "      <td>388.201623</td>\n",
              "      <td>11705.0</td>\n",
              "    </tr>\n",
              "    <tr>\n",
              "      <th>1</th>\n",
              "      <td>1</td>\n",
              "      <td>2</td>\n",
              "      <td>3155.500000</td>\n",
              "      <td>294.863528</td>\n",
              "      <td>6311.0</td>\n",
              "    </tr>\n",
              "    <tr>\n",
              "      <th>2</th>\n",
              "      <td>2</td>\n",
              "      <td>34</td>\n",
              "      <td>900.588235</td>\n",
              "      <td>241.943033</td>\n",
              "      <td>30620.0</td>\n",
              "    </tr>\n",
              "    <tr>\n",
              "      <th>3</th>\n",
              "      <td>3</td>\n",
              "      <td>34</td>\n",
              "      <td>833.970588</td>\n",
              "      <td>164.053666</td>\n",
              "      <td>28355.0</td>\n",
              "    </tr>\n",
              "    <tr>\n",
              "      <th>4</th>\n",
              "      <td>4</td>\n",
              "      <td>34</td>\n",
              "      <td>1292.411765</td>\n",
              "      <td>442.615581</td>\n",
              "      <td>43942.0</td>\n",
              "    </tr>\n",
              "    <tr>\n",
              "      <th>5</th>\n",
              "      <td>5</td>\n",
              "      <td>33</td>\n",
              "      <td>1295.818182</td>\n",
              "      <td>294.292526</td>\n",
              "      <td>42762.0</td>\n",
              "    </tr>\n",
              "    <tr>\n",
              "      <th>6</th>\n",
              "      <td>6</td>\n",
              "      <td>34</td>\n",
              "      <td>2955.558824</td>\n",
              "      <td>956.451750</td>\n",
              "      <td>100489.0</td>\n",
              "    </tr>\n",
              "    <tr>\n",
              "      <th>7</th>\n",
              "      <td>7</td>\n",
              "      <td>34</td>\n",
              "      <td>1972.294118</td>\n",
              "      <td>583.917155</td>\n",
              "      <td>67058.0</td>\n",
              "    </tr>\n",
              "    <tr>\n",
              "      <th>8</th>\n",
              "      <td>8</td>\n",
              "      <td>4</td>\n",
              "      <td>898.750000</td>\n",
              "      <td>632.515810</td>\n",
              "      <td>3595.0</td>\n",
              "    </tr>\n",
              "    <tr>\n",
              "      <th>9</th>\n",
              "      <td>9</td>\n",
              "      <td>4</td>\n",
              "      <td>3966.500000</td>\n",
              "      <td>3038.135887</td>\n",
              "      <td>15866.0</td>\n",
              "    </tr>\n",
              "    <tr>\n",
              "      <th>10</th>\n",
              "      <td>10</td>\n",
              "      <td>33</td>\n",
              "      <td>743.121212</td>\n",
              "      <td>221.965335</td>\n",
              "      <td>24523.0</td>\n",
              "    </tr>\n",
              "    <tr>\n",
              "      <th>11</th>\n",
              "      <td>11</td>\n",
              "      <td>1</td>\n",
              "      <td>572.000000</td>\n",
              "      <td>NaN</td>\n",
              "      <td>572.0</td>\n",
              "    </tr>\n",
              "    <tr>\n",
              "      <th>12</th>\n",
              "      <td>12</td>\n",
              "      <td>34</td>\n",
              "      <td>2161.117647</td>\n",
              "      <td>1119.954105</td>\n",
              "      <td>73478.0</td>\n",
              "    </tr>\n",
              "    <tr>\n",
              "      <th>13</th>\n",
              "      <td>13</td>\n",
              "      <td>20</td>\n",
              "      <td>988.150000</td>\n",
              "      <td>245.682567</td>\n",
              "      <td>19763.0</td>\n",
              "    </tr>\n",
              "    <tr>\n",
              "      <th>14</th>\n",
              "      <td>14</td>\n",
              "      <td>34</td>\n",
              "      <td>1363.970588</td>\n",
              "      <td>364.569691</td>\n",
              "      <td>46375.0</td>\n",
              "    </tr>\n",
              "    <tr>\n",
              "      <th>15</th>\n",
              "      <td>15</td>\n",
              "      <td>34</td>\n",
              "      <td>2094.147059</td>\n",
              "      <td>652.800964</td>\n",
              "      <td>71201.0</td>\n",
              "    </tr>\n",
              "    <tr>\n",
              "      <th>16</th>\n",
              "      <td>16</td>\n",
              "      <td>34</td>\n",
              "      <td>1812.735294</td>\n",
              "      <td>657.577801</td>\n",
              "      <td>61633.0</td>\n",
              "    </tr>\n",
              "    <tr>\n",
              "      <th>17</th>\n",
              "      <td>17</td>\n",
              "      <td>20</td>\n",
              "      <td>1291.900000</td>\n",
              "      <td>358.585217</td>\n",
              "      <td>25838.0</td>\n",
              "    </tr>\n",
              "    <tr>\n",
              "      <th>18</th>\n",
              "      <td>18</td>\n",
              "      <td>34</td>\n",
              "      <td>1926.058824</td>\n",
              "      <td>759.834709</td>\n",
              "      <td>65486.0</td>\n",
              "    </tr>\n",
              "    <tr>\n",
              "      <th>19</th>\n",
              "      <td>19</td>\n",
              "      <td>34</td>\n",
              "      <td>2160.441176</td>\n",
              "      <td>609.070688</td>\n",
              "      <td>73455.0</td>\n",
              "    </tr>\n",
              "    <tr>\n",
              "      <th>20</th>\n",
              "      <td>20</td>\n",
              "      <td>2</td>\n",
              "      <td>2936.000000</td>\n",
              "      <td>459.619408</td>\n",
              "      <td>5872.0</td>\n",
              "    </tr>\n",
              "    <tr>\n",
              "      <th>21</th>\n",
              "      <td>21</td>\n",
              "      <td>34</td>\n",
              "      <td>2016.470588</td>\n",
              "      <td>495.489304</td>\n",
              "      <td>68560.0</td>\n",
              "    </tr>\n",
              "    <tr>\n",
              "      <th>22</th>\n",
              "      <td>22</td>\n",
              "      <td>34</td>\n",
              "      <td>1771.470588</td>\n",
              "      <td>482.621518</td>\n",
              "      <td>60230.0</td>\n",
              "    </tr>\n",
              "    <tr>\n",
              "      <th>23</th>\n",
              "      <td>23</td>\n",
              "      <td>4</td>\n",
              "      <td>1926.250000</td>\n",
              "      <td>172.778037</td>\n",
              "      <td>7705.0</td>\n",
              "    </tr>\n",
              "    <tr>\n",
              "      <th>24</th>\n",
              "      <td>24</td>\n",
              "      <td>34</td>\n",
              "      <td>1879.000000</td>\n",
              "      <td>690.873053</td>\n",
              "      <td>63886.0</td>\n",
              "    </tr>\n",
              "    <tr>\n",
              "      <th>25</th>\n",
              "      <td>25</td>\n",
              "      <td>34</td>\n",
              "      <td>7115.294118</td>\n",
              "      <td>1787.511840</td>\n",
              "      <td>241920.0</td>\n",
              "    </tr>\n",
              "    <tr>\n",
              "      <th>26</th>\n",
              "      <td>26</td>\n",
              "      <td>34</td>\n",
              "      <td>1996.764706</td>\n",
              "      <td>625.919932</td>\n",
              "      <td>67890.0</td>\n",
              "    </tr>\n",
              "    <tr>\n",
              "      <th>27</th>\n",
              "      <td>27</td>\n",
              "      <td>32</td>\n",
              "      <td>4270.531250</td>\n",
              "      <td>1566.270977</td>\n",
              "      <td>136657.0</td>\n",
              "    </tr>\n",
              "    <tr>\n",
              "      <th>28</th>\n",
              "      <td>28</td>\n",
              "      <td>34</td>\n",
              "      <td>5428.147059</td>\n",
              "      <td>1430.675897</td>\n",
              "      <td>184557.0</td>\n",
              "    </tr>\n",
              "    <tr>\n",
              "      <th>29</th>\n",
              "      <td>29</td>\n",
              "      <td>29</td>\n",
              "      <td>2024.586207</td>\n",
              "      <td>598.098984</td>\n",
              "      <td>58713.0</td>\n",
              "    </tr>\n",
              "    <tr>\n",
              "      <th>30</th>\n",
              "      <td>30</td>\n",
              "      <td>26</td>\n",
              "      <td>2339.538462</td>\n",
              "      <td>586.545837</td>\n",
              "      <td>60828.0</td>\n",
              "    </tr>\n",
              "    <tr>\n",
              "      <th>31</th>\n",
              "      <td>31</td>\n",
              "      <td>34</td>\n",
              "      <td>9140.500000</td>\n",
              "      <td>2401.995550</td>\n",
              "      <td>310777.0</td>\n",
              "    </tr>\n",
              "    <tr>\n",
              "      <th>32</th>\n",
              "      <td>32</td>\n",
              "      <td>7</td>\n",
              "      <td>1254.428571</td>\n",
              "      <td>559.987755</td>\n",
              "      <td>8781.0</td>\n",
              "    </tr>\n",
              "    <tr>\n",
              "      <th>33</th>\n",
              "      <td>33</td>\n",
              "      <td>9</td>\n",
              "      <td>609.111111</td>\n",
              "      <td>362.406693</td>\n",
              "      <td>5482.0</td>\n",
              "    </tr>\n",
              "    <tr>\n",
              "      <th>34</th>\n",
              "      <td>34</td>\n",
              "      <td>16</td>\n",
              "      <td>403.187500</td>\n",
              "      <td>129.885190</td>\n",
              "      <td>6451.0</td>\n",
              "    </tr>\n",
              "    <tr>\n",
              "      <th>35</th>\n",
              "      <td>35</td>\n",
              "      <td>34</td>\n",
              "      <td>2029.882353</td>\n",
              "      <td>511.952695</td>\n",
              "      <td>69016.0</td>\n",
              "    </tr>\n",
              "    <tr>\n",
              "      <th>36</th>\n",
              "      <td>36</td>\n",
              "      <td>1</td>\n",
              "      <td>330.000000</td>\n",
              "      <td>NaN</td>\n",
              "      <td>330.0</td>\n",
              "    </tr>\n",
              "    <tr>\n",
              "      <th>37</th>\n",
              "      <td>37</td>\n",
              "      <td>34</td>\n",
              "      <td>1360.470588</td>\n",
              "      <td>466.161257</td>\n",
              "      <td>46256.0</td>\n",
              "    </tr>\n",
              "    <tr>\n",
              "      <th>38</th>\n",
              "      <td>38</td>\n",
              "      <td>34</td>\n",
              "      <td>1584.882353</td>\n",
              "      <td>348.077905</td>\n",
              "      <td>53886.0</td>\n",
              "    </tr>\n",
              "    <tr>\n",
              "      <th>39</th>\n",
              "      <td>39</td>\n",
              "      <td>20</td>\n",
              "      <td>830.850000</td>\n",
              "      <td>183.454935</td>\n",
              "      <td>16617.0</td>\n",
              "    </tr>\n",
              "    <tr>\n",
              "      <th>40</th>\n",
              "      <td>40</td>\n",
              "      <td>11</td>\n",
              "      <td>449.363636</td>\n",
              "      <td>202.580983</td>\n",
              "      <td>4943.0</td>\n",
              "    </tr>\n",
              "    <tr>\n",
              "      <th>41</th>\n",
              "      <td>41</td>\n",
              "      <td>34</td>\n",
              "      <td>1450.705882</td>\n",
              "      <td>601.265309</td>\n",
              "      <td>49324.0</td>\n",
              "    </tr>\n",
              "    <tr>\n",
              "      <th>42</th>\n",
              "      <td>42</td>\n",
              "      <td>34</td>\n",
              "      <td>4262.764706</td>\n",
              "      <td>833.919335</td>\n",
              "      <td>144934.0</td>\n",
              "    </tr>\n",
              "    <tr>\n",
              "      <th>43</th>\n",
              "      <td>43</td>\n",
              "      <td>25</td>\n",
              "      <td>2024.320000</td>\n",
              "      <td>538.231032</td>\n",
              "      <td>50608.0</td>\n",
              "    </tr>\n",
              "    <tr>\n",
              "      <th>44</th>\n",
              "      <td>44</td>\n",
              "      <td>34</td>\n",
              "      <td>1321.705882</td>\n",
              "      <td>440.565376</td>\n",
              "      <td>44938.0</td>\n",
              "    </tr>\n",
              "    <tr>\n",
              "      <th>45</th>\n",
              "      <td>45</td>\n",
              "      <td>34</td>\n",
              "      <td>1232.205882</td>\n",
              "      <td>400.167524</td>\n",
              "      <td>41895.0</td>\n",
              "    </tr>\n",
              "    <tr>\n",
              "      <th>46</th>\n",
              "      <td>46</td>\n",
              "      <td>34</td>\n",
              "      <td>2323.235294</td>\n",
              "      <td>694.309688</td>\n",
              "      <td>78990.0</td>\n",
              "    </tr>\n",
              "    <tr>\n",
              "      <th>47</th>\n",
              "      <td>47</td>\n",
              "      <td>34</td>\n",
              "      <td>1989.323529</td>\n",
              "      <td>443.782346</td>\n",
              "      <td>67637.0</td>\n",
              "    </tr>\n",
              "    <tr>\n",
              "      <th>48</th>\n",
              "      <td>48</td>\n",
              "      <td>19</td>\n",
              "      <td>1311.000000</td>\n",
              "      <td>418.959690</td>\n",
              "      <td>24909.0</td>\n",
              "    </tr>\n",
              "    <tr>\n",
              "      <th>49</th>\n",
              "      <td>49</td>\n",
              "      <td>23</td>\n",
              "      <td>743.043478</td>\n",
              "      <td>208.506045</td>\n",
              "      <td>17090.0</td>\n",
              "    </tr>\n",
              "    <tr>\n",
              "      <th>50</th>\n",
              "      <td>50</td>\n",
              "      <td>34</td>\n",
              "      <td>2242.294118</td>\n",
              "      <td>1120.846015</td>\n",
              "      <td>76238.0</td>\n",
              "    </tr>\n",
              "    <tr>\n",
              "      <th>51</th>\n",
              "      <td>51</td>\n",
              "      <td>33</td>\n",
              "      <td>1477.787879</td>\n",
              "      <td>638.270356</td>\n",
              "      <td>48767.0</td>\n",
              "    </tr>\n",
              "    <tr>\n",
              "      <th>52</th>\n",
              "      <td>52</td>\n",
              "      <td>34</td>\n",
              "      <td>1463.058824</td>\n",
              "      <td>418.234235</td>\n",
              "      <td>49744.0</td>\n",
              "    </tr>\n",
              "    <tr>\n",
              "      <th>53</th>\n",
              "      <td>53</td>\n",
              "      <td>34</td>\n",
              "      <td>1813.441176</td>\n",
              "      <td>455.189550</td>\n",
              "      <td>61657.0</td>\n",
              "    </tr>\n",
              "    <tr>\n",
              "      <th>54</th>\n",
              "      <td>54</td>\n",
              "      <td>28</td>\n",
              "      <td>6635.357143</td>\n",
              "      <td>1890.031064</td>\n",
              "      <td>185790.0</td>\n",
              "    </tr>\n",
              "    <tr>\n",
              "      <th>55</th>\n",
              "      <td>55</td>\n",
              "      <td>30</td>\n",
              "      <td>2112.933333</td>\n",
              "      <td>1567.003156</td>\n",
              "      <td>63388.0</td>\n",
              "    </tr>\n",
              "    <tr>\n",
              "      <th>56</th>\n",
              "      <td>56</td>\n",
              "      <td>34</td>\n",
              "      <td>2296.441176</td>\n",
              "      <td>696.934639</td>\n",
              "      <td>78079.0</td>\n",
              "    </tr>\n",
              "    <tr>\n",
              "      <th>57</th>\n",
              "      <td>57</td>\n",
              "      <td>32</td>\n",
              "      <td>4409.593750</td>\n",
              "      <td>1603.273946</td>\n",
              "      <td>141107.0</td>\n",
              "    </tr>\n",
              "    <tr>\n",
              "      <th>58</th>\n",
              "      <td>58</td>\n",
              "      <td>32</td>\n",
              "      <td>2554.187500</td>\n",
              "      <td>933.028279</td>\n",
              "      <td>81734.0</td>\n",
              "    </tr>\n",
              "    <tr>\n",
              "      <th>59</th>\n",
              "      <td>59</td>\n",
              "      <td>34</td>\n",
              "      <td>1440.970588</td>\n",
              "      <td>410.857602</td>\n",
              "      <td>48993.0</td>\n",
              "    </tr>\n",
              "  </tbody>\n",
              "</table>\n",
              "</div>"
            ],
            "text/plain": [
              "    shop_id  item_cnt_month_count  ...  item_cnt_month_std  item_cnt_month_total\n",
              "0         0                     2  ...          388.201623               11705.0\n",
              "1         1                     2  ...          294.863528                6311.0\n",
              "2         2                    34  ...          241.943033               30620.0\n",
              "3         3                    34  ...          164.053666               28355.0\n",
              "4         4                    34  ...          442.615581               43942.0\n",
              "5         5                    33  ...          294.292526               42762.0\n",
              "6         6                    34  ...          956.451750              100489.0\n",
              "7         7                    34  ...          583.917155               67058.0\n",
              "8         8                     4  ...          632.515810                3595.0\n",
              "9         9                     4  ...         3038.135887               15866.0\n",
              "10       10                    33  ...          221.965335               24523.0\n",
              "11       11                     1  ...                 NaN                 572.0\n",
              "12       12                    34  ...         1119.954105               73478.0\n",
              "13       13                    20  ...          245.682567               19763.0\n",
              "14       14                    34  ...          364.569691               46375.0\n",
              "15       15                    34  ...          652.800964               71201.0\n",
              "16       16                    34  ...          657.577801               61633.0\n",
              "17       17                    20  ...          358.585217               25838.0\n",
              "18       18                    34  ...          759.834709               65486.0\n",
              "19       19                    34  ...          609.070688               73455.0\n",
              "20       20                     2  ...          459.619408                5872.0\n",
              "21       21                    34  ...          495.489304               68560.0\n",
              "22       22                    34  ...          482.621518               60230.0\n",
              "23       23                     4  ...          172.778037                7705.0\n",
              "24       24                    34  ...          690.873053               63886.0\n",
              "25       25                    34  ...         1787.511840              241920.0\n",
              "26       26                    34  ...          625.919932               67890.0\n",
              "27       27                    32  ...         1566.270977              136657.0\n",
              "28       28                    34  ...         1430.675897              184557.0\n",
              "29       29                    29  ...          598.098984               58713.0\n",
              "30       30                    26  ...          586.545837               60828.0\n",
              "31       31                    34  ...         2401.995550              310777.0\n",
              "32       32                     7  ...          559.987755                8781.0\n",
              "33       33                     9  ...          362.406693                5482.0\n",
              "34       34                    16  ...          129.885190                6451.0\n",
              "35       35                    34  ...          511.952695               69016.0\n",
              "36       36                     1  ...                 NaN                 330.0\n",
              "37       37                    34  ...          466.161257               46256.0\n",
              "38       38                    34  ...          348.077905               53886.0\n",
              "39       39                    20  ...          183.454935               16617.0\n",
              "40       40                    11  ...          202.580983                4943.0\n",
              "41       41                    34  ...          601.265309               49324.0\n",
              "42       42                    34  ...          833.919335              144934.0\n",
              "43       43                    25  ...          538.231032               50608.0\n",
              "44       44                    34  ...          440.565376               44938.0\n",
              "45       45                    34  ...          400.167524               41895.0\n",
              "46       46                    34  ...          694.309688               78990.0\n",
              "47       47                    34  ...          443.782346               67637.0\n",
              "48       48                    19  ...          418.959690               24909.0\n",
              "49       49                    23  ...          208.506045               17090.0\n",
              "50       50                    34  ...         1120.846015               76238.0\n",
              "51       51                    33  ...          638.270356               48767.0\n",
              "52       52                    34  ...          418.234235               49744.0\n",
              "53       53                    34  ...          455.189550               61657.0\n",
              "54       54                    28  ...         1890.031064              185790.0\n",
              "55       55                    30  ...         1567.003156               63388.0\n",
              "56       56                    34  ...          696.934639               78079.0\n",
              "57       57                    32  ...         1603.273946              141107.0\n",
              "58       58                    32  ...          933.028279               81734.0\n",
              "59       59                    34  ...          410.857602               48993.0\n",
              "\n",
              "[60 rows x 5 columns]"
            ]
          },
          "metadata": {
            "tags": []
          }
        }
      ]
    },
    {
      "cell_type": "code",
      "metadata": {
        "id": "PWxm7pl9FM50",
        "colab_type": "code",
        "colab": {
          "base_uri": "https://localhost:8080/",
          "height": 513
        },
        "outputId": "eff202c2-4e44-4308-e517-96dd7a59b7ef"
      },
      "source": [
        "plt.plot(tmp.shop_id, tmp.item_cnt_month_avg)\n",
        "plt.show()\n",
        "\n",
        "plt.plot(tmp.shop_id, tmp.item_cnt_month_count, color='red')\n",
        "plt.show()"
      ],
      "execution_count": 77,
      "outputs": [
        {
          "output_type": "display_data",
          "data": {
            "image/png": "[encoded data removed]",
            "text/plain": [
              "<Figure size 432x288 with 1 Axes>"
            ]
          },
          "metadata": {
            "tags": [],
            "needs_background": "light"
          }
        },
        {
          "output_type": "display_data",
          "data": {
            "image/png": "[encoded data removed]",
            "text/plain": [
              "<Figure size 432x288 with 1 Axes>"
            ]
          },
          "metadata": {
            "tags": [],
            "needs_background": "light"
          }
        }
      ]
    },
    {
      "cell_type": "markdown",
      "metadata": {
        "id": "MWdKeRM-LzQv",
        "colab_type": "text"
      },
      "source": [
        "We can see that some shops have a huge number of sales count in average, the variablity is high.\n",
        "\n",
        "Also, the red plot shows that many shops have been running for many months, but there are some below 5 months... Should we do something about them? Flag as new, or short-lived...? \n",
        "\n",
        "It seems like one of the \"new\" shops has the highest average sales... Big temporal promotion? I need to take into account this big temporal differences. Let's see the proportion of total_sales/total_months_running"
      ]
    },
    {
      "cell_type": "code",
      "metadata": {
        "id": "TLJVU-hALw6E",
        "colab_type": "code",
        "colab": {
          "base_uri": "https://localhost:8080/",
          "height": 265
        },
        "outputId": "8785696a-d537-4fb5-99fc-55de0a77a404"
      },
      "source": [
        "fig,ax = plt.subplots()\n",
        "ax.plot(tmp.shop_id,tmp.item_cnt_month_total/tmp.item_cnt_month_count)\n",
        "ax2=ax.twinx()\n",
        "ax2.plot(tmp.shop_id, tmp.item_cnt_month_count, color='red')\n",
        "plt.show()"
      ],
      "execution_count": 81,
      "outputs": [
        {
          "output_type": "display_data",
          "data": {
            "image/png": "[encoded data removed]",
            "text/plain": [
              "<Figure size 432x288 with 2 Axes>"
            ]
          },
          "metadata": {
            "tags": [],
            "needs_background": "light"
          }
        }
      ]
    },
    {
      "cell_type": "markdown",
      "metadata": {
        "id": "Q4ygtkYtOjvk",
        "colab_type": "text"
      },
      "source": [
        "Well, some of the shops with longest running times are the ones with highest ratio total_sales/total_months. But there are many with same number of months running, and varying ratio. And also there are shorter-lived shops with high ratios. It's tricky to consider these new shops, as there is no clear history for them, the current data might reflect opening sales/offers that will not sustain over time. The ratio total_sales/total_months might be related to location: not the same shop in big cities than small towns."
      ]
    },
    {
      "cell_type": "code",
      "metadata": {
        "id": "qOSgX2F3NvbW",
        "colab_type": "code",
        "colab": {}
      },
      "source": [
        ""
      ],
      "execution_count": null,
      "outputs": []
    }
  ]
}